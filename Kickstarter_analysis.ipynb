{
 "cells": [
  {
   "cell_type": "markdown",
   "metadata": {},
   "source": [
    "![title](figures/Title.png)\n",
    "\n",
    "# Business Understanding and Set-up\n",
    "Purpose: Ask relevant questions and define objectives for the problem that needs to be tackled\n",
    "## Background\n",
    "**About Kickstarter**\n",
    "\n",
    "In recent years, the range of funding options for projects created by individuals and small companies has expanded considerably. In addition to savings, bank loans, friends & family funding and other traditional options, crowdfunding has become a popular and readily available alternative. \n",
    "\n",
    "Kickstarter, founded in 2009, is one particularly well-known and popular crowdfunding platform. It has an all-or-nothing funding model, whereby a project is only funded if it meets its goal amount; otherwise no money is given by backers to a project.\n",
    "A huge variety of factors contribute to the success or failure of a project — in general, and also on Kickstarter. Some of these are able to be quantified or categorized, which allows for the construction of a model to attempt to predict whether a project will succeed or not. The aim of this project is to construct such a model and also to analyse Kickstarter project data more generally, in order to help potential project creators assess whether or not Kickstarter is a good funding option for them, and what their chances of success are.\n",
    "\n",
    "**Final Deliverables**\n",
    "- Slide deck PDF pushed to GitHub designed for non-technical stakeholders outlining findings and recommendations, as well as future work (10min presentation). \n",
    "- Jupyter notebook following PEP8 designed for data science / technical audience. \n",
    "\n",
    "**Things to think about**\n",
    "- Try different (at least 3) machine learning algorithms to check which performs best on the problem at hand\n",
    "- What would be right performance metric: Precision, recall, accuracy, F1 score, or something else? (Check TPR?)\n",
    "- Check for data imbalance\n",
    "\n",
    "## Key Question\n",
    "We are tasked by Kickstarter to come up with a model to predict in a first step whether a campaign is likely to be successful, given certain project parameters. In a second step (out-of-scope), Kickstarter would like to be able to provide a good goal recommendation for project creators (particularly as Kickstarter can influence certain parameters such as staff picks).\n",
    "* Given certain project parameters, **is a campaign likely to succeed or fail** (classification)?\n",
    "* What would be a **reasonable goal recommendation for project creators** (regression, out-of-scope)?\n",
    "\n",
    "\n",
    "## Feature Glossary\n",
    "\n",
    "**Features included in model**\n",
    "\n",
    "* **TARGET: state** - Was the project successful at the end of the day? state is a categorical variable divided into the levels successful, failed, live, cancelled, undefined and suspended. For the sake of clarity, we will only look at whether a project was successful or failed (hence, we will remove all projects that are not classified as one of the two). Projects that failed or were successful make up around 88% of all projects.\n",
    "* **campaign_days** - Days the campaign was active (difference of \"deadline\" and \"launched_at\")\n",
    "* **category** - Main category the project falls in (e.g. \"food\", \"music\")\n",
    "* **country** - Country of origin of the project\n",
    "* **creator_mult_projects** - Designates whether given creator has finished multiple projects\n",
    "* **goal_converted_log** - Log of \"goal_converted\"\n",
    "* **launched_at_cont** - Month on a continuous timeline starting at 0 on earliest launched_at date and counting up to 1xx\n",
    "\n",
    "\n",
    "**Features not included in model**\n",
    "\n",
    "* **backers_count** - The number of supporters that actually invested in the project\n",
    "* **backers_count_log** - Log of \"backers_count\"\n",
    "* **blurb** - A short description of a book, film, or other product written for promotional purposes\n",
    "* **category_sub** - Sub-category the project falls in\n",
    "* **converted_pledged_amount** - Pledged amount of USD realised at the deadline, converted from \"pledged\" via \"static_usd_rate\", rounded\n",
    "* **created_at** - Date when Project was created (UNIX Format)\n",
    "* **creator_id** - Unique creator id\n",
    "* **creator_project_no** - Designates the #th project of the same creator the respective entry represents\n",
    "* **currency** - Currency of the project (e.g. USD, GBP)\n",
    "* **currency_symbol** - Symbol of the currency\n",
    "* **currency_trailing_code** - Defines whether the currency codes are always shown after the amount, independent of the locale\n",
    "* **current_currency** - Currency of the project (e.g. USD, GBP) : Same as currency\n",
    "* **deadline** - Deadline of the project (can be used to analyze timeframes)\n",
    "* **deadline_cont** - Month on a continuous timeline starting at 0 on earliest deadline and counting up to 1xx\n",
    "* **deadline_mth** - Month from \"deadline\" datetime\n",
    "* **deadline_yr** - Year from \"deadline\" datetime\n",
    "* **disable_communication** - \n",
    "* **file** - Corresponding csv-file where the entry was taken from\n",
    "* **friends** - 208922 NaN and 300 empty lists\n",
    "* **fx_rate** - Used to create 'converted_pledged_amount' from 'pledged', but does not always convert to dollars so can be dropped in favour of 'static_usd_rate' which always converts to dollars\n",
    "* **goal** - Amount of USD the project asked for initially\n",
    "* **goal_converted** - \"goal\" multiplied with \"static_usd_rate\"\n",
    "* **id** / **project_id** - Unique project id (redundant, so \"id\" is dropped)\n",
    "* **is_backing** - 208922 NaN and 300 empty lists\n",
    "* **is_starrable** - \n",
    "* **is_starred** - \n",
    "* **launched_at** - Launch date of the project (can be used to analyze timeframes) / UNIX Format\n",
    "* **launched_at_mth** - Month from \"deadline\" launched_at\n",
    "* **launched_at_yr** - Year from \"deadline\" launched_at\n",
    "* **location** - Location of the project\n",
    "* **name** - Name of the project\n",
    "* **permissions** - 208922 NaN and 300 empty lists\n",
    "* **photo** - \n",
    "* **pledged** - Unconverted pledged amount as float\n",
    "* **pledged_goal_ratio** - Ratio of \"usd_pledged\" to \"goal_converted\" (to measure over- or underperformance)\n",
    "* **profile** - \n",
    "* **profile_state** - \n",
    "* **profile_state_changed_at** - \n",
    "* **slug** - Creator-selected keyword id of the project\n",
    "* **source_url** - Source of the data by categories\n",
    "* **spotlight** - Spotlight allows creators to make a home for their project on Kickstarter after they've been successfully funded. Each creator can take control of their page and build a customized, central hub for news, updates, links to finished work, and anything else they want the world to know about their project\n",
    "* **staff_pick** - Staff picks was a feature that highlighted promising projects on the site to give them a boost by helping them get exposure through the email newsletter and highlighted spots around the site. The old 'Kickstarter Staff Pick' badge.\n",
    "* **state_changed_at** - \n",
    "* **static_usd_rate** - \"Rate of conversion from \"currency\" to USD\n",
    "* **urls** - \n",
    "* **usd_pledged** - Pledged amount of USD realised at the deadline, converted from \"pledged\" via \"static_usd_rate\"\n",
    "* **usd_pledged_avg** - Avg pledged amount of USD per backer realised at the deadline\n",
    "* **usd_pledged_log** - Log of \"usd_pledged\"\n",
    "* **usd_type** - it is unclear what this column means, but it is unlikely to be necessary since all currency values will be converted to dollars, and other currency information has been dropped. (NaN where \"current currency\" is not USD)\n",
    "\n",
    "## Dataset Description\n",
    "* **data_raw** - Originally imported dataset\n",
    "* **data** - Main working dataset containing cleaned and refined data\n",
    "* **data_insp** - Copy of data before 3 Data Cleaning used during 3.1 Inspection\n",
    "* **data_clean** - Copy of data after 3 Data Cleaning used during 4 Data Exploration\n",
    "\n",
    "## Outcome/Recommendations\n",
    "- Model correctly predicting 85% of actually successful and 55% of actually failed projects\n",
    "- Illustration of potential implementation for an indicator (good goal / too high) during goal setting while creating a new project (classification)\n",
    "- Indication of potential implementation for a goal recommendation as a next step (regression)\n",
    "\n",
    "## To-Do-List / Open Questions (with notes)\n",
    "- Is the data/csv's [monthly snapshot data](https://aito.ai/example-gallery/predict-and-explain-a-kickstarter-campaign-success/)? i.e., are the multiple ID entries just projects that span multiple months? Shouldn't they be more then? --> working assumption: no, as the data in each csv file is spread over a decade\n",
    "- Investigate TARGET: SUCCESS via \"state\": \n",
    "  - Should we drop all that are not successful or state? --> yes\n",
    "  - Is there a connection between \"canceled\", \"live\", \"suspended\" and the occurrence of multiple ID's? --> yes, partly\n",
    "- Do we have duplicate projects? --> yes, we have same IDs frequently. Only the entry with the highest usd_pledged is kept\n",
    "- Update Glossary\n",
    "- Update Variable Description"
   ]
  },
  {
   "cell_type": "markdown",
   "metadata": {},
   "source": [
    "## Dashboard\n",
    "Purpose: Define global variables and visuals"
   ]
  },
  {
   "cell_type": "code",
   "execution_count": 1765,
   "metadata": {},
   "outputs": [],
   "source": [
    "random_state = 100\n",
    "test_size = 0.3\n",
    "n_reduced = 10000\n",
    "scoring = \"f1\" # Options: \"f1\", \"recall\", \"precision\", \"accuracy\", \"roc_auc\"\n",
    "# Reasoning: target \"state\" is distributed roughly 85:15, so both accuracy and f1_score can be optimized through 100% recall\n",
    "pd.set_option('display.max_columns', 50)\n",
    "sns.set(style=\"white\")"
   ]
  },
  {
   "cell_type": "markdown",
   "metadata": {},
   "source": [
    "**Import libraries (overarching)**"
   ]
  },
  {
   "cell_type": "code",
   "execution_count": 1529,
   "metadata": {
    "code_folding": [
     0
    ]
   },
   "outputs": [],
   "source": [
    "# Import of all libraries (some clustered by chapter)\n",
    "import pandas as pd\n",
    "import numpy as np\n",
    "import matplotlib.pyplot as plt\n",
    "import matplotlib.ticker as ticker\n",
    "from matplotlib.gridspec import GridSpec\n",
    "import scipy as sc\n",
    "from scipy.stats import kstest\n",
    "import seaborn as sns\n",
    "import math\n",
    "\n",
    "import statsmodels.formula.api as smf\n",
    "\n",
    "from sklearn import metrics\n",
    "\n",
    "import plotly.express as px\n",
    "import plotly.graph_objs as go\n",
    "import plotly.figure_factory as ff\n",
    "\n",
    "%matplotlib inline\n",
    "\n",
    "#Subplots\n",
    "from plotly.subplots import make_subplots\n",
    "from numpy import median\n",
    "\n",
    "# For 2 | Data Mining\n",
    "from numpy import loadtxt\n",
    "import os, glob\n",
    "\n",
    "# For 3 | Data Cleaning\n",
    "from datetime import datetime\n",
    "import ast\n",
    "\n",
    "# For 4 | Data Exploration\n",
    "\n",
    "# For 5 | Feature Engineering\n",
    "from sklearn.utils import shuffle\n",
    "\n",
    "# For 6 | Preprocessing\n",
    "from sklearn.utils import resample\n",
    "from sklearn.model_selection import train_test_split, RandomizedSearchCV\n",
    "from sklearn.preprocessing import OneHotEncoder, MinMaxScaler, StandardScaler, PolynomialFeatures, LabelEncoder\n",
    "from sklearn.linear_model import LinearRegression, LogisticRegression\n",
    "from sklearn.impute import SimpleImputer\n",
    "from sklearn.dummy import DummyClassifier\n",
    "from sklearn.feature_extraction import DictVectorizer\n",
    "from sklearn.pipeline import Pipeline, make_pipeline # Same, but with the latter it is not necessary to name estimator and transformer\n",
    "#from imblearn.pipeline import Pipeline as Imb_Pipe\n",
    "from sklearn.compose import ColumnTransformer\n",
    "\n",
    "# For 7 | Predictive Modeling: Classification (\"state\")\n",
    "from sklearn.model_selection import GridSearchCV, cross_val_predict, cross_val_score, cross_validate, KFold\n",
    "from sklearn.metrics import r2_score, make_scorer, fbeta_score, accuracy_score, confusion_matrix, f1_score, precision_recall_curve, recall_score, precision_score\n",
    "from sklearn.tree import DecisionTreeClassifier\n",
    "from sklearn.svm import SVC, NuSVC\n",
    "from sklearn.base import clone\n",
    "from sklearn.ensemble import AdaBoostClassifier, VotingClassifier, RandomForestClassifier, GradientBoostingClassifier\n",
    "from sklearn.neighbors import KNeighborsClassifier\n",
    "from sklearn.feature_selection import SelectKBest, chi2\n",
    "from xgboost import XGBClassifier\n",
    "import statsmodels.api as sm\n",
    "\n",
    "# For 8 | Predictive Modeling: Regression (\"usd_pledged\")\n",
    "from scipy.sparse import csr_matrix\n",
    "from sklearn.neighbors import KNeighborsRegressor\n",
    "from sklearn.linear_model import RANSACRegressor\n",
    "\n",
    "# For 9 | Data Visualization\n",
    "from sklearn.metrics import roc_auc_score, roc_curve, classification_report"
   ]
  },
  {
   "cell_type": "markdown",
   "metadata": {},
   "source": [
    "# Data Mining\n",
    "Purpose: Gather and scrape the data necessary for the project"
   ]
  },
  {
   "cell_type": "code",
   "execution_count": 1530,
   "metadata": {
    "code_folding": [
     0
    ]
   },
   "outputs": [],
   "source": [
    "# Import multiple Kickstarter csv files and merge into one dataframe\n",
    "all_files = glob.glob(os.path.join(\"data\", \"*.csv\"))\n",
    "all_df = []\n",
    "for f in all_files:\n",
    "    df = pd.read_csv(f, sep=',')\n",
    "    df['file'] = f.split('/')[-1]\n",
    "    all_df.append(df)\n",
    "data_raw = pd.concat(all_df, ignore_index=True, sort=True)"
   ]
  },
  {
   "cell_type": "code",
   "execution_count": 1531,
   "metadata": {
    "code_folding": [
     0
    ]
   },
   "outputs": [],
   "source": [
    "# Assign data_raw to data (in order to always keep a freshly imported data_raw)\n",
    "data = data_raw.copy()"
   ]
  },
  {
   "cell_type": "markdown",
   "metadata": {},
   "source": [
    "# Data Cleaning\n",
    "Purpose: Fix the inconsistencies within the data and handle the missing values"
   ]
  },
  {
   "cell_type": "markdown",
   "metadata": {},
   "source": [
    "## Inspection\n",
    "Purpose: Getting a good sense of the data"
   ]
  },
  {
   "cell_type": "code",
   "execution_count": 1532,
   "metadata": {
    "code_folding": [
     0
    ]
   },
   "outputs": [],
   "source": [
    "# Create dataset for inspection\n",
    "data_insp = data.copy()"
   ]
  },
  {
   "cell_type": "code",
   "execution_count": 1533,
   "metadata": {
    "code_folding": [
     0
    ]
   },
   "outputs": [
    {
     "data": {
      "text/plain": [
       "(209222, 38)"
      ]
     },
     "execution_count": 1533,
     "metadata": {},
     "output_type": "execute_result"
    }
   ],
   "source": [
    "# Display shape of \"data\"\n",
    "data_insp.shape"
   ]
  },
  {
   "cell_type": "code",
   "execution_count": 1534,
   "metadata": {
    "code_folding": [
     0
    ]
   },
   "outputs": [
    {
     "data": {
      "text/html": [
       "<div>\n",
       "<style scoped>\n",
       "    .dataframe tbody tr th:only-of-type {\n",
       "        vertical-align: middle;\n",
       "    }\n",
       "\n",
       "    .dataframe tbody tr th {\n",
       "        vertical-align: top;\n",
       "    }\n",
       "\n",
       "    .dataframe thead th {\n",
       "        text-align: right;\n",
       "    }\n",
       "</style>\n",
       "<table border=\"1\" class=\"dataframe\">\n",
       "  <thead>\n",
       "    <tr style=\"text-align: right;\">\n",
       "      <th></th>\n",
       "      <th>backers_count</th>\n",
       "      <th>blurb</th>\n",
       "      <th>category</th>\n",
       "      <th>converted_pledged_amount</th>\n",
       "      <th>country</th>\n",
       "      <th>created_at</th>\n",
       "      <th>creator</th>\n",
       "      <th>currency</th>\n",
       "      <th>currency_symbol</th>\n",
       "      <th>currency_trailing_code</th>\n",
       "      <th>current_currency</th>\n",
       "      <th>deadline</th>\n",
       "      <th>disable_communication</th>\n",
       "      <th>file</th>\n",
       "      <th>friends</th>\n",
       "      <th>fx_rate</th>\n",
       "      <th>goal</th>\n",
       "      <th>id</th>\n",
       "      <th>is_backing</th>\n",
       "      <th>is_starrable</th>\n",
       "      <th>is_starred</th>\n",
       "      <th>launched_at</th>\n",
       "      <th>location</th>\n",
       "      <th>name</th>\n",
       "      <th>permissions</th>\n",
       "      <th>photo</th>\n",
       "      <th>pledged</th>\n",
       "      <th>profile</th>\n",
       "      <th>slug</th>\n",
       "      <th>source_url</th>\n",
       "      <th>spotlight</th>\n",
       "      <th>staff_pick</th>\n",
       "      <th>state</th>\n",
       "      <th>state_changed_at</th>\n",
       "      <th>static_usd_rate</th>\n",
       "      <th>urls</th>\n",
       "      <th>usd_pledged</th>\n",
       "      <th>usd_type</th>\n",
       "    </tr>\n",
       "  </thead>\n",
       "  <tbody>\n",
       "    <tr>\n",
       "      <th>0</th>\n",
       "      <td>315</td>\n",
       "      <td>Babalus Shoes</td>\n",
       "      <td>{\"id\":266,\"name\":\"Footwear\",\"slug\":\"fashion/fo...</td>\n",
       "      <td>28645</td>\n",
       "      <td>US</td>\n",
       "      <td>1541459205</td>\n",
       "      <td>{\"id\":2094277840,\"name\":\"Lucy Conroy\",\"slug\":\"...</td>\n",
       "      <td>USD</td>\n",
       "      <td>$</td>\n",
       "      <td>True</td>\n",
       "      <td>USD</td>\n",
       "      <td>1552539775</td>\n",
       "      <td>False</td>\n",
       "      <td>Kickstarter040.csv</td>\n",
       "      <td>NaN</td>\n",
       "      <td>1.000000</td>\n",
       "      <td>28000.0</td>\n",
       "      <td>2108505034</td>\n",
       "      <td>NaN</td>\n",
       "      <td>False</td>\n",
       "      <td>NaN</td>\n",
       "      <td>1548223375</td>\n",
       "      <td>{\"id\":2462429,\"name\":\"Novato\",\"slug\":\"novato-c...</td>\n",
       "      <td>Babalus Children's Shoes</td>\n",
       "      <td>NaN</td>\n",
       "      <td>{\"key\":\"assets/023/667/205/a565fde5382d6b53276...</td>\n",
       "      <td>28645.0</td>\n",
       "      <td>{\"id\":3508024,\"project_id\":3508024,\"state\":\"in...</td>\n",
       "      <td>babalus-childrens-shoes</td>\n",
       "      <td>https://www.kickstarter.com/discover/categorie...</td>\n",
       "      <td>False</td>\n",
       "      <td>False</td>\n",
       "      <td>live</td>\n",
       "      <td>1548223375</td>\n",
       "      <td>1.000000</td>\n",
       "      <td>{\"web\":{\"project\":\"https://www.kickstarter.com...</td>\n",
       "      <td>28645.000000</td>\n",
       "      <td>international</td>\n",
       "    </tr>\n",
       "    <tr>\n",
       "      <th>1</th>\n",
       "      <td>47</td>\n",
       "      <td>A colorful Dia de los Muertos themed oracle de...</td>\n",
       "      <td>{\"id\":273,\"name\":\"Playing Cards\",\"slug\":\"games...</td>\n",
       "      <td>1950</td>\n",
       "      <td>US</td>\n",
       "      <td>1501684093</td>\n",
       "      <td>{\"id\":723886115,\"name\":\"Lisa Vollrath\",\"slug\":...</td>\n",
       "      <td>USD</td>\n",
       "      <td>$</td>\n",
       "      <td>True</td>\n",
       "      <td>USD</td>\n",
       "      <td>1504976459</td>\n",
       "      <td>False</td>\n",
       "      <td>Kickstarter040.csv</td>\n",
       "      <td>NaN</td>\n",
       "      <td>1.000000</td>\n",
       "      <td>1000.0</td>\n",
       "      <td>928751314</td>\n",
       "      <td>NaN</td>\n",
       "      <td>False</td>\n",
       "      <td>NaN</td>\n",
       "      <td>1502384459</td>\n",
       "      <td>{\"id\":2400549,\"name\":\"Euless\",\"slug\":\"euless-t...</td>\n",
       "      <td>The Ofrenda Oracle Deck</td>\n",
       "      <td>NaN</td>\n",
       "      <td>{\"key\":\"assets/017/766/989/dd9f18c773a8546d996...</td>\n",
       "      <td>1950.0</td>\n",
       "      <td>{\"id\":3094785,\"project_id\":3094785,\"state\":\"ac...</td>\n",
       "      <td>the-ofrenda-oracle-deck</td>\n",
       "      <td>https://www.kickstarter.com/discover/categorie...</td>\n",
       "      <td>True</td>\n",
       "      <td>False</td>\n",
       "      <td>successful</td>\n",
       "      <td>1504976459</td>\n",
       "      <td>1.000000</td>\n",
       "      <td>{\"web\":{\"project\":\"https://www.kickstarter.com...</td>\n",
       "      <td>1950.000000</td>\n",
       "      <td>domestic</td>\n",
       "    </tr>\n",
       "    <tr>\n",
       "      <th>2</th>\n",
       "      <td>271</td>\n",
       "      <td>Electra's long awaited, eclectic Debut Pop/Roc...</td>\n",
       "      <td>{\"id\":43,\"name\":\"Rock\",\"slug\":\"music/rock\",\"po...</td>\n",
       "      <td>22404</td>\n",
       "      <td>US</td>\n",
       "      <td>1348987533</td>\n",
       "      <td>{\"id\":323849677,\"name\":\"Electra\",\"is_registere...</td>\n",
       "      <td>USD</td>\n",
       "      <td>$</td>\n",
       "      <td>True</td>\n",
       "      <td>USD</td>\n",
       "      <td>1371013395</td>\n",
       "      <td>False</td>\n",
       "      <td>Kickstarter040.csv</td>\n",
       "      <td>NaN</td>\n",
       "      <td>1.000000</td>\n",
       "      <td>15000.0</td>\n",
       "      <td>928014092</td>\n",
       "      <td>NaN</td>\n",
       "      <td>False</td>\n",
       "      <td>NaN</td>\n",
       "      <td>1368421395</td>\n",
       "      <td>{\"id\":2423474,\"name\":\"Hollywood\",\"slug\":\"holly...</td>\n",
       "      <td>Record Electra's Debut Album (Pop, Rock, Class...</td>\n",
       "      <td>NaN</td>\n",
       "      <td>{\"key\":\"assets/011/433/681/489fd66f7861fefd8c8...</td>\n",
       "      <td>22404.0</td>\n",
       "      <td>{\"id\":359847,\"project_id\":359847,\"state\":\"inac...</td>\n",
       "      <td>record-electras-debut-album-pop-rock-classical</td>\n",
       "      <td>https://www.kickstarter.com/discover/categorie...</td>\n",
       "      <td>True</td>\n",
       "      <td>False</td>\n",
       "      <td>successful</td>\n",
       "      <td>1371013395</td>\n",
       "      <td>1.000000</td>\n",
       "      <td>{\"web\":{\"project\":\"https://www.kickstarter.com...</td>\n",
       "      <td>22404.000000</td>\n",
       "      <td>international</td>\n",
       "    </tr>\n",
       "    <tr>\n",
       "      <th>3</th>\n",
       "      <td>3</td>\n",
       "      <td>The Mist of Tribunal is a turn-based card game...</td>\n",
       "      <td>{\"id\":273,\"name\":\"Playing Cards\",\"slug\":\"games...</td>\n",
       "      <td>165</td>\n",
       "      <td>GB</td>\n",
       "      <td>1483780271</td>\n",
       "      <td>{\"id\":196281496,\"name\":\"Artur Ordijanc (delete...</td>\n",
       "      <td>GBP</td>\n",
       "      <td>£</td>\n",
       "      <td>False</td>\n",
       "      <td>USD</td>\n",
       "      <td>1489425776</td>\n",
       "      <td>False</td>\n",
       "      <td>Kickstarter040.csv</td>\n",
       "      <td>NaN</td>\n",
       "      <td>1.308394</td>\n",
       "      <td>10000.0</td>\n",
       "      <td>596091328</td>\n",
       "      <td>NaN</td>\n",
       "      <td>False</td>\n",
       "      <td>NaN</td>\n",
       "      <td>1484245376</td>\n",
       "      <td>{\"id\":475457,\"name\":\"Kaunas\",\"slug\":\"kaunas-ka...</td>\n",
       "      <td>The Mist of Tribunal - A Card Game</td>\n",
       "      <td>NaN</td>\n",
       "      <td>{\"key\":\"assets/015/091/198/216fbf1bdc3739e7971...</td>\n",
       "      <td>136.0</td>\n",
       "      <td>{\"id\":2825329,\"project_id\":2825329,\"state\":\"in...</td>\n",
       "      <td>the-mist-of-tribunal-a-card-game</td>\n",
       "      <td>https://www.kickstarter.com/discover/categorie...</td>\n",
       "      <td>False</td>\n",
       "      <td>False</td>\n",
       "      <td>failed</td>\n",
       "      <td>1489425776</td>\n",
       "      <td>1.216066</td>\n",
       "      <td>{\"web\":{\"project\":\"https://www.kickstarter.com...</td>\n",
       "      <td>165.384934</td>\n",
       "      <td>domestic</td>\n",
       "    </tr>\n",
       "    <tr>\n",
       "      <th>4</th>\n",
       "      <td>3</td>\n",
       "      <td>Livng with a brain impairment, what its like t...</td>\n",
       "      <td>{\"id\":48,\"name\":\"Nonfiction\",\"slug\":\"publishin...</td>\n",
       "      <td>2820</td>\n",
       "      <td>US</td>\n",
       "      <td>1354817071</td>\n",
       "      <td>{\"id\":1178460181,\"name\":\"Dawn Johnston\",\"is_re...</td>\n",
       "      <td>USD</td>\n",
       "      <td>$</td>\n",
       "      <td>True</td>\n",
       "      <td>USD</td>\n",
       "      <td>1357763527</td>\n",
       "      <td>False</td>\n",
       "      <td>Kickstarter040.csv</td>\n",
       "      <td>NaN</td>\n",
       "      <td>1.000000</td>\n",
       "      <td>2800.0</td>\n",
       "      <td>998516049</td>\n",
       "      <td>NaN</td>\n",
       "      <td>False</td>\n",
       "      <td>NaN</td>\n",
       "      <td>1355171527</td>\n",
       "      <td>{\"id\":2507703,\"name\":\"Traverse City\",\"slug\":\"t...</td>\n",
       "      <td>Help change the face of Brain Impairment</td>\n",
       "      <td>NaN</td>\n",
       "      <td>{\"key\":\"assets/011/457/844/37ba63d35fefaba76e9...</td>\n",
       "      <td>2820.0</td>\n",
       "      <td>{\"id\":417385,\"project_id\":417385,\"state\":\"inac...</td>\n",
       "      <td>help-change-the-face-of-brain-impairment</td>\n",
       "      <td>https://www.kickstarter.com/discover/categorie...</td>\n",
       "      <td>True</td>\n",
       "      <td>False</td>\n",
       "      <td>successful</td>\n",
       "      <td>1357763527</td>\n",
       "      <td>1.000000</td>\n",
       "      <td>{\"web\":{\"project\":\"https://www.kickstarter.com...</td>\n",
       "      <td>2820.000000</td>\n",
       "      <td>domestic</td>\n",
       "    </tr>\n",
       "    <tr>\n",
       "      <th>5</th>\n",
       "      <td>35</td>\n",
       "      <td>Annapolis Chamber Players is a non-for profit ...</td>\n",
       "      <td>{\"id\":36,\"name\":\"Classical Music\",\"slug\":\"musi...</td>\n",
       "      <td>3725</td>\n",
       "      <td>US</td>\n",
       "      <td>1414172150</td>\n",
       "      <td>{\"id\":682189804,\"name\":\"Annapolis Chamber Play...</td>\n",
       "      <td>USD</td>\n",
       "      <td>$</td>\n",
       "      <td>True</td>\n",
       "      <td>USD</td>\n",
       "      <td>1430533546</td>\n",
       "      <td>False</td>\n",
       "      <td>Kickstarter040.csv</td>\n",
       "      <td>NaN</td>\n",
       "      <td>1.000000</td>\n",
       "      <td>3500.0</td>\n",
       "      <td>1224600291</td>\n",
       "      <td>NaN</td>\n",
       "      <td>False</td>\n",
       "      <td>NaN</td>\n",
       "      <td>1427941546</td>\n",
       "      <td>{\"id\":2354877,\"name\":\"Annapolis\",\"slug\":\"annap...</td>\n",
       "      <td>Annapolis Chamber Music Project</td>\n",
       "      <td>NaN</td>\n",
       "      <td>{\"key\":\"assets/011/921/106/c9ad5416f0b588b37b7...</td>\n",
       "      <td>3725.0</td>\n",
       "      <td>{\"id\":1465941,\"project_id\":1465941,\"state\":\"in...</td>\n",
       "      <td>annapolis-chamber-music-project</td>\n",
       "      <td>https://www.kickstarter.com/discover/categorie...</td>\n",
       "      <td>True</td>\n",
       "      <td>False</td>\n",
       "      <td>successful</td>\n",
       "      <td>1430533546</td>\n",
       "      <td>1.000000</td>\n",
       "      <td>{\"web\":{\"project\":\"https://www.kickstarter.com...</td>\n",
       "      <td>3725.000000</td>\n",
       "      <td>domestic</td>\n",
       "    </tr>\n",
       "  </tbody>\n",
       "</table>\n",
       "</div>"
      ],
      "text/plain": [
       "   backers_count                                              blurb  \\\n",
       "0            315                                      Babalus Shoes   \n",
       "1             47  A colorful Dia de los Muertos themed oracle de...   \n",
       "2            271  Electra's long awaited, eclectic Debut Pop/Roc...   \n",
       "3              3  The Mist of Tribunal is a turn-based card game...   \n",
       "4              3  Livng with a brain impairment, what its like t...   \n",
       "5             35  Annapolis Chamber Players is a non-for profit ...   \n",
       "\n",
       "                                            category  \\\n",
       "0  {\"id\":266,\"name\":\"Footwear\",\"slug\":\"fashion/fo...   \n",
       "1  {\"id\":273,\"name\":\"Playing Cards\",\"slug\":\"games...   \n",
       "2  {\"id\":43,\"name\":\"Rock\",\"slug\":\"music/rock\",\"po...   \n",
       "3  {\"id\":273,\"name\":\"Playing Cards\",\"slug\":\"games...   \n",
       "4  {\"id\":48,\"name\":\"Nonfiction\",\"slug\":\"publishin...   \n",
       "5  {\"id\":36,\"name\":\"Classical Music\",\"slug\":\"musi...   \n",
       "\n",
       "   converted_pledged_amount country  created_at  \\\n",
       "0                     28645      US  1541459205   \n",
       "1                      1950      US  1501684093   \n",
       "2                     22404      US  1348987533   \n",
       "3                       165      GB  1483780271   \n",
       "4                      2820      US  1354817071   \n",
       "5                      3725      US  1414172150   \n",
       "\n",
       "                                             creator currency currency_symbol  \\\n",
       "0  {\"id\":2094277840,\"name\":\"Lucy Conroy\",\"slug\":\"...      USD               $   \n",
       "1  {\"id\":723886115,\"name\":\"Lisa Vollrath\",\"slug\":...      USD               $   \n",
       "2  {\"id\":323849677,\"name\":\"Electra\",\"is_registere...      USD               $   \n",
       "3  {\"id\":196281496,\"name\":\"Artur Ordijanc (delete...      GBP               £   \n",
       "4  {\"id\":1178460181,\"name\":\"Dawn Johnston\",\"is_re...      USD               $   \n",
       "5  {\"id\":682189804,\"name\":\"Annapolis Chamber Play...      USD               $   \n",
       "\n",
       "   currency_trailing_code current_currency    deadline  disable_communication  \\\n",
       "0                    True              USD  1552539775                  False   \n",
       "1                    True              USD  1504976459                  False   \n",
       "2                    True              USD  1371013395                  False   \n",
       "3                   False              USD  1489425776                  False   \n",
       "4                    True              USD  1357763527                  False   \n",
       "5                    True              USD  1430533546                  False   \n",
       "\n",
       "                 file friends   fx_rate     goal          id is_backing  \\\n",
       "0  Kickstarter040.csv     NaN  1.000000  28000.0  2108505034        NaN   \n",
       "1  Kickstarter040.csv     NaN  1.000000   1000.0   928751314        NaN   \n",
       "2  Kickstarter040.csv     NaN  1.000000  15000.0   928014092        NaN   \n",
       "3  Kickstarter040.csv     NaN  1.308394  10000.0   596091328        NaN   \n",
       "4  Kickstarter040.csv     NaN  1.000000   2800.0   998516049        NaN   \n",
       "5  Kickstarter040.csv     NaN  1.000000   3500.0  1224600291        NaN   \n",
       "\n",
       "   is_starrable is_starred  launched_at  \\\n",
       "0         False        NaN   1548223375   \n",
       "1         False        NaN   1502384459   \n",
       "2         False        NaN   1368421395   \n",
       "3         False        NaN   1484245376   \n",
       "4         False        NaN   1355171527   \n",
       "5         False        NaN   1427941546   \n",
       "\n",
       "                                            location  \\\n",
       "0  {\"id\":2462429,\"name\":\"Novato\",\"slug\":\"novato-c...   \n",
       "1  {\"id\":2400549,\"name\":\"Euless\",\"slug\":\"euless-t...   \n",
       "2  {\"id\":2423474,\"name\":\"Hollywood\",\"slug\":\"holly...   \n",
       "3  {\"id\":475457,\"name\":\"Kaunas\",\"slug\":\"kaunas-ka...   \n",
       "4  {\"id\":2507703,\"name\":\"Traverse City\",\"slug\":\"t...   \n",
       "5  {\"id\":2354877,\"name\":\"Annapolis\",\"slug\":\"annap...   \n",
       "\n",
       "                                                name permissions  \\\n",
       "0                           Babalus Children's Shoes         NaN   \n",
       "1                            The Ofrenda Oracle Deck         NaN   \n",
       "2  Record Electra's Debut Album (Pop, Rock, Class...         NaN   \n",
       "3                 The Mist of Tribunal - A Card Game         NaN   \n",
       "4           Help change the face of Brain Impairment         NaN   \n",
       "5                    Annapolis Chamber Music Project         NaN   \n",
       "\n",
       "                                               photo  pledged  \\\n",
       "0  {\"key\":\"assets/023/667/205/a565fde5382d6b53276...  28645.0   \n",
       "1  {\"key\":\"assets/017/766/989/dd9f18c773a8546d996...   1950.0   \n",
       "2  {\"key\":\"assets/011/433/681/489fd66f7861fefd8c8...  22404.0   \n",
       "3  {\"key\":\"assets/015/091/198/216fbf1bdc3739e7971...    136.0   \n",
       "4  {\"key\":\"assets/011/457/844/37ba63d35fefaba76e9...   2820.0   \n",
       "5  {\"key\":\"assets/011/921/106/c9ad5416f0b588b37b7...   3725.0   \n",
       "\n",
       "                                             profile  \\\n",
       "0  {\"id\":3508024,\"project_id\":3508024,\"state\":\"in...   \n",
       "1  {\"id\":3094785,\"project_id\":3094785,\"state\":\"ac...   \n",
       "2  {\"id\":359847,\"project_id\":359847,\"state\":\"inac...   \n",
       "3  {\"id\":2825329,\"project_id\":2825329,\"state\":\"in...   \n",
       "4  {\"id\":417385,\"project_id\":417385,\"state\":\"inac...   \n",
       "5  {\"id\":1465941,\"project_id\":1465941,\"state\":\"in...   \n",
       "\n",
       "                                             slug  \\\n",
       "0                         babalus-childrens-shoes   \n",
       "1                         the-ofrenda-oracle-deck   \n",
       "2  record-electras-debut-album-pop-rock-classical   \n",
       "3                the-mist-of-tribunal-a-card-game   \n",
       "4        help-change-the-face-of-brain-impairment   \n",
       "5                 annapolis-chamber-music-project   \n",
       "\n",
       "                                          source_url  spotlight  staff_pick  \\\n",
       "0  https://www.kickstarter.com/discover/categorie...      False       False   \n",
       "1  https://www.kickstarter.com/discover/categorie...       True       False   \n",
       "2  https://www.kickstarter.com/discover/categorie...       True       False   \n",
       "3  https://www.kickstarter.com/discover/categorie...      False       False   \n",
       "4  https://www.kickstarter.com/discover/categorie...       True       False   \n",
       "5  https://www.kickstarter.com/discover/categorie...       True       False   \n",
       "\n",
       "        state  state_changed_at  static_usd_rate  \\\n",
       "0        live        1548223375         1.000000   \n",
       "1  successful        1504976459         1.000000   \n",
       "2  successful        1371013395         1.000000   \n",
       "3      failed        1489425776         1.216066   \n",
       "4  successful        1357763527         1.000000   \n",
       "5  successful        1430533546         1.000000   \n",
       "\n",
       "                                                urls   usd_pledged  \\\n",
       "0  {\"web\":{\"project\":\"https://www.kickstarter.com...  28645.000000   \n",
       "1  {\"web\":{\"project\":\"https://www.kickstarter.com...   1950.000000   \n",
       "2  {\"web\":{\"project\":\"https://www.kickstarter.com...  22404.000000   \n",
       "3  {\"web\":{\"project\":\"https://www.kickstarter.com...    165.384934   \n",
       "4  {\"web\":{\"project\":\"https://www.kickstarter.com...   2820.000000   \n",
       "5  {\"web\":{\"project\":\"https://www.kickstarter.com...   3725.000000   \n",
       "\n",
       "        usd_type  \n",
       "0  international  \n",
       "1       domestic  \n",
       "2  international  \n",
       "3       domestic  \n",
       "4       domestic  \n",
       "5       domestic  "
      ]
     },
     "execution_count": 1534,
     "metadata": {},
     "output_type": "execute_result"
    }
   ],
   "source": [
    "# Display head(5) of \"data_insp\"\n",
    "data_insp.head(6)"
   ]
  },
  {
   "cell_type": "code",
   "execution_count": 1535,
   "metadata": {
    "code_folding": [
     0
    ]
   },
   "outputs": [
    {
     "data": {
      "text/plain": [
       "Index(['backers_count', 'blurb', 'category', 'converted_pledged_amount',\n",
       "       'country', 'created_at', 'creator', 'currency', 'currency_symbol',\n",
       "       'currency_trailing_code', 'current_currency', 'deadline',\n",
       "       'disable_communication', 'file', 'friends', 'fx_rate', 'goal', 'id',\n",
       "       'is_backing', 'is_starrable', 'is_starred', 'launched_at', 'location',\n",
       "       'name', 'permissions', 'photo', 'pledged', 'profile', 'slug',\n",
       "       'source_url', 'spotlight', 'staff_pick', 'state', 'state_changed_at',\n",
       "       'static_usd_rate', 'urls', 'usd_pledged', 'usd_type'],\n",
       "      dtype='object')"
      ]
     },
     "execution_count": 1535,
     "metadata": {},
     "output_type": "execute_result"
    }
   ],
   "source": [
    "# Display columns of \"data\"\n",
    "data_insp.columns"
   ]
  },
  {
   "cell_type": "code",
   "execution_count": 1536,
   "metadata": {
    "code_folding": [
     0
    ]
   },
   "outputs": [
    {
     "data": {
      "text/html": [
       "<div>\n",
       "<style scoped>\n",
       "    .dataframe tbody tr th:only-of-type {\n",
       "        vertical-align: middle;\n",
       "    }\n",
       "\n",
       "    .dataframe tbody tr th {\n",
       "        vertical-align: top;\n",
       "    }\n",
       "\n",
       "    .dataframe thead th {\n",
       "        text-align: right;\n",
       "    }\n",
       "</style>\n",
       "<table border=\"1\" class=\"dataframe\">\n",
       "  <thead>\n",
       "    <tr style=\"text-align: right;\">\n",
       "      <th></th>\n",
       "      <th>backers_count</th>\n",
       "      <th>converted_pledged_amount</th>\n",
       "      <th>created_at</th>\n",
       "      <th>deadline</th>\n",
       "      <th>fx_rate</th>\n",
       "      <th>goal</th>\n",
       "      <th>id</th>\n",
       "      <th>launched_at</th>\n",
       "      <th>pledged</th>\n",
       "      <th>state_changed_at</th>\n",
       "      <th>static_usd_rate</th>\n",
       "      <th>usd_pledged</th>\n",
       "    </tr>\n",
       "  </thead>\n",
       "  <tbody>\n",
       "    <tr>\n",
       "      <th>count</th>\n",
       "      <td>209222.00</td>\n",
       "      <td>209222.00</td>\n",
       "      <td>2.092220e+05</td>\n",
       "      <td>2.092220e+05</td>\n",
       "      <td>209222.00</td>\n",
       "      <td>2.092220e+05</td>\n",
       "      <td>2.092220e+05</td>\n",
       "      <td>2.092220e+05</td>\n",
       "      <td>209222.00</td>\n",
       "      <td>2.092220e+05</td>\n",
       "      <td>209222.00</td>\n",
       "      <td>209222.00</td>\n",
       "    </tr>\n",
       "    <tr>\n",
       "      <th>mean</th>\n",
       "      <td>145.42</td>\n",
       "      <td>12892.90</td>\n",
       "      <td>1.456089e+09</td>\n",
       "      <td>1.463033e+09</td>\n",
       "      <td>0.99</td>\n",
       "      <td>4.917604e+04</td>\n",
       "      <td>1.073222e+09</td>\n",
       "      <td>1.460206e+09</td>\n",
       "      <td>18814.03</td>\n",
       "      <td>1.462838e+09</td>\n",
       "      <td>1.01</td>\n",
       "      <td>12892.13</td>\n",
       "    </tr>\n",
       "    <tr>\n",
       "      <th>std</th>\n",
       "      <td>885.97</td>\n",
       "      <td>88894.14</td>\n",
       "      <td>6.339711e+07</td>\n",
       "      <td>6.305618e+07</td>\n",
       "      <td>0.21</td>\n",
       "      <td>1.179427e+06</td>\n",
       "      <td>6.198051e+08</td>\n",
       "      <td>6.309029e+07</td>\n",
       "      <td>322959.62</td>\n",
       "      <td>6.290421e+07</td>\n",
       "      <td>0.23</td>\n",
       "      <td>88901.24</td>\n",
       "    </tr>\n",
       "    <tr>\n",
       "      <th>min</th>\n",
       "      <td>0.00</td>\n",
       "      <td>0.00</td>\n",
       "      <td>1.240366e+09</td>\n",
       "      <td>1.241334e+09</td>\n",
       "      <td>0.01</td>\n",
       "      <td>1.000000e-02</td>\n",
       "      <td>8.624000e+03</td>\n",
       "      <td>1.240603e+09</td>\n",
       "      <td>0.00</td>\n",
       "      <td>1.241334e+09</td>\n",
       "      <td>0.01</td>\n",
       "      <td>0.00</td>\n",
       "    </tr>\n",
       "    <tr>\n",
       "      <th>25%</th>\n",
       "      <td>4.00</td>\n",
       "      <td>106.00</td>\n",
       "      <td>1.413317e+09</td>\n",
       "      <td>1.420607e+09</td>\n",
       "      <td>1.00</td>\n",
       "      <td>1.500000e+03</td>\n",
       "      <td>5.351054e+08</td>\n",
       "      <td>1.417639e+09</td>\n",
       "      <td>110.00</td>\n",
       "      <td>1.420485e+09</td>\n",
       "      <td>1.00</td>\n",
       "      <td>106.00</td>\n",
       "    </tr>\n",
       "    <tr>\n",
       "      <th>50%</th>\n",
       "      <td>27.00</td>\n",
       "      <td>1537.00</td>\n",
       "      <td>1.457895e+09</td>\n",
       "      <td>1.464754e+09</td>\n",
       "      <td>1.00</td>\n",
       "      <td>5.000000e+03</td>\n",
       "      <td>1.074579e+09</td>\n",
       "      <td>1.461924e+09</td>\n",
       "      <td>1556.00</td>\n",
       "      <td>1.464709e+09</td>\n",
       "      <td>1.00</td>\n",
       "      <td>1537.36</td>\n",
       "    </tr>\n",
       "    <tr>\n",
       "      <th>75%</th>\n",
       "      <td>89.00</td>\n",
       "      <td>6548.00</td>\n",
       "      <td>1.511595e+09</td>\n",
       "      <td>1.519437e+09</td>\n",
       "      <td>1.00</td>\n",
       "      <td>1.500000e+04</td>\n",
       "      <td>1.609369e+09</td>\n",
       "      <td>1.516694e+09</td>\n",
       "      <td>6887.20</td>\n",
       "      <td>1.519366e+09</td>\n",
       "      <td>1.00</td>\n",
       "      <td>6550.00</td>\n",
       "    </tr>\n",
       "    <tr>\n",
       "      <th>max</th>\n",
       "      <td>105857.00</td>\n",
       "      <td>8596474.00</td>\n",
       "      <td>1.552527e+09</td>\n",
       "      <td>1.557721e+09</td>\n",
       "      <td>1.88</td>\n",
       "      <td>1.000000e+08</td>\n",
       "      <td>2.147476e+09</td>\n",
       "      <td>1.552537e+09</td>\n",
       "      <td>81030744.00</td>\n",
       "      <td>1.552537e+09</td>\n",
       "      <td>1.72</td>\n",
       "      <td>8596474.58</td>\n",
       "    </tr>\n",
       "  </tbody>\n",
       "</table>\n",
       "</div>"
      ],
      "text/plain": [
       "       backers_count  converted_pledged_amount    created_at      deadline  \\\n",
       "count      209222.00                 209222.00  2.092220e+05  2.092220e+05   \n",
       "mean          145.42                  12892.90  1.456089e+09  1.463033e+09   \n",
       "std           885.97                  88894.14  6.339711e+07  6.305618e+07   \n",
       "min             0.00                      0.00  1.240366e+09  1.241334e+09   \n",
       "25%             4.00                    106.00  1.413317e+09  1.420607e+09   \n",
       "50%            27.00                   1537.00  1.457895e+09  1.464754e+09   \n",
       "75%            89.00                   6548.00  1.511595e+09  1.519437e+09   \n",
       "max        105857.00                8596474.00  1.552527e+09  1.557721e+09   \n",
       "\n",
       "         fx_rate          goal            id   launched_at      pledged  \\\n",
       "count  209222.00  2.092220e+05  2.092220e+05  2.092220e+05    209222.00   \n",
       "mean        0.99  4.917604e+04  1.073222e+09  1.460206e+09     18814.03   \n",
       "std         0.21  1.179427e+06  6.198051e+08  6.309029e+07    322959.62   \n",
       "min         0.01  1.000000e-02  8.624000e+03  1.240603e+09         0.00   \n",
       "25%         1.00  1.500000e+03  5.351054e+08  1.417639e+09       110.00   \n",
       "50%         1.00  5.000000e+03  1.074579e+09  1.461924e+09      1556.00   \n",
       "75%         1.00  1.500000e+04  1.609369e+09  1.516694e+09      6887.20   \n",
       "max         1.88  1.000000e+08  2.147476e+09  1.552537e+09  81030744.00   \n",
       "\n",
       "       state_changed_at  static_usd_rate  usd_pledged  \n",
       "count      2.092220e+05        209222.00    209222.00  \n",
       "mean       1.462838e+09             1.01     12892.13  \n",
       "std        6.290421e+07             0.23     88901.24  \n",
       "min        1.241334e+09             0.01         0.00  \n",
       "25%        1.420485e+09             1.00       106.00  \n",
       "50%        1.464709e+09             1.00      1537.36  \n",
       "75%        1.519366e+09             1.00      6550.00  \n",
       "max        1.552537e+09             1.72   8596474.58  "
      ]
     },
     "execution_count": 1536,
     "metadata": {},
     "output_type": "execute_result"
    }
   ],
   "source": [
    "# Describe data (summary)\n",
    "data_insp.describe().round(2)"
   ]
  },
  {
   "cell_type": "code",
   "execution_count": 1537,
   "metadata": {
    "code_folding": [
     0
    ]
   },
   "outputs": [
    {
     "name": "stdout",
     "output_type": "stream",
     "text": [
      "<class 'pandas.core.frame.DataFrame'>\n",
      "RangeIndex: 209222 entries, 0 to 209221\n",
      "Data columns (total 38 columns):\n",
      "backers_count               209222 non-null int64\n",
      "blurb                       209214 non-null object\n",
      "category                    209222 non-null object\n",
      "converted_pledged_amount    209222 non-null int64\n",
      "country                     209222 non-null object\n",
      "created_at                  209222 non-null int64\n",
      "creator                     209222 non-null object\n",
      "currency                    209222 non-null object\n",
      "currency_symbol             209222 non-null object\n",
      "currency_trailing_code      209222 non-null bool\n",
      "current_currency            209222 non-null object\n",
      "deadline                    209222 non-null int64\n",
      "disable_communication       209222 non-null bool\n",
      "file                        209222 non-null object\n",
      "friends                     300 non-null object\n",
      "fx_rate                     209222 non-null float64\n",
      "goal                        209222 non-null float64\n",
      "id                          209222 non-null int64\n",
      "is_backing                  300 non-null object\n",
      "is_starrable                209222 non-null bool\n",
      "is_starred                  300 non-null object\n",
      "launched_at                 209222 non-null int64\n",
      "location                    208996 non-null object\n",
      "name                        209222 non-null object\n",
      "permissions                 300 non-null object\n",
      "photo                       209222 non-null object\n",
      "pledged                     209222 non-null float64\n",
      "profile                     209222 non-null object\n",
      "slug                        209222 non-null object\n",
      "source_url                  209222 non-null object\n",
      "spotlight                   209222 non-null bool\n",
      "staff_pick                  209222 non-null bool\n",
      "state                       209222 non-null object\n",
      "state_changed_at            209222 non-null int64\n",
      "static_usd_rate             209222 non-null float64\n",
      "urls                        209222 non-null object\n",
      "usd_pledged                 209222 non-null float64\n",
      "usd_type                    208742 non-null object\n",
      "dtypes: bool(5), float64(5), int64(7), object(21)\n",
      "memory usage: 53.7+ MB\n"
     ]
    }
   ],
   "source": [
    "# List datatypes (data.info())\n",
    "data_insp.info()"
   ]
  },
  {
   "cell_type": "code",
   "execution_count": 1538,
   "metadata": {
    "code_folding": [
     0
    ]
   },
   "outputs": [
    {
     "data": {
      "text/plain": [
       "backers_count                 3246\n",
       "blurb                       180700\n",
       "category                       169\n",
       "converted_pledged_amount     31387\n",
       "country                         22\n",
       "created_at                  182158\n",
       "creator                     208562\n",
       "currency                        14\n",
       "currency_symbol                  6\n",
       "currency_trailing_code           2\n",
       "current_currency                 5\n",
       "deadline                    170854\n",
       "disable_communication            2\n",
       "file                            56\n",
       "friends                          1\n",
       "fx_rate                         67\n",
       "goal                          5110\n",
       "id                          182264\n",
       "is_backing                       1\n",
       "is_starrable                     2\n",
       "is_starred                       2\n",
       "launched_at                 182109\n",
       "location                     15235\n",
       "name                        181680\n",
       "permissions                      1\n",
       "photo                       182263\n",
       "pledged                      44387\n",
       "profile                     182265\n",
       "slug                        182264\n",
       "source_url                     169\n",
       "spotlight                        2\n",
       "staff_pick                       2\n",
       "state                            5\n",
       "state_changed_at            172048\n",
       "static_usd_rate              11195\n",
       "urls                        182554\n",
       "usd_pledged                  79235\n",
       "usd_type                         2\n",
       "dtype: int64"
      ]
     },
     "execution_count": 1538,
     "metadata": {},
     "output_type": "execute_result"
    }
   ],
   "source": [
    "# List unique entries per column\n",
    "data_insp.nunique()"
   ]
  },
  {
   "cell_type": "code",
   "execution_count": 1539,
   "metadata": {
    "code_folding": [
     0
    ]
   },
   "outputs": [
    {
     "data": {
      "text/html": [
       "<div>\n",
       "<style scoped>\n",
       "    .dataframe tbody tr th:only-of-type {\n",
       "        vertical-align: middle;\n",
       "    }\n",
       "\n",
       "    .dataframe tbody tr th {\n",
       "        vertical-align: top;\n",
       "    }\n",
       "\n",
       "    .dataframe thead th {\n",
       "        text-align: right;\n",
       "    }\n",
       "</style>\n",
       "<table border=\"1\" class=\"dataframe\">\n",
       "  <thead>\n",
       "    <tr style=\"text-align: right;\">\n",
       "      <th></th>\n",
       "      <th>backers_count</th>\n",
       "      <th>converted_pledged_amount</th>\n",
       "      <th>created_at</th>\n",
       "      <th>currency_trailing_code</th>\n",
       "      <th>deadline</th>\n",
       "      <th>disable_communication</th>\n",
       "      <th>fx_rate</th>\n",
       "      <th>goal</th>\n",
       "      <th>id</th>\n",
       "      <th>is_starrable</th>\n",
       "      <th>launched_at</th>\n",
       "      <th>pledged</th>\n",
       "      <th>spotlight</th>\n",
       "      <th>staff_pick</th>\n",
       "      <th>state_changed_at</th>\n",
       "      <th>static_usd_rate</th>\n",
       "      <th>usd_pledged</th>\n",
       "    </tr>\n",
       "  </thead>\n",
       "  <tbody>\n",
       "    <tr>\n",
       "      <th>backers_count</th>\n",
       "      <td>1.000000</td>\n",
       "      <td>0.805201</td>\n",
       "      <td>0.025763</td>\n",
       "      <td>0.010566</td>\n",
       "      <td>0.031456</td>\n",
       "      <td>-0.007194</td>\n",
       "      <td>0.003313</td>\n",
       "      <td>0.010019</td>\n",
       "      <td>-0.002635</td>\n",
       "      <td>-0.006344</td>\n",
       "      <td>0.031367</td>\n",
       "      <td>0.251022</td>\n",
       "      <td>0.123834</td>\n",
       "      <td>0.157586</td>\n",
       "      <td>0.031798</td>\n",
       "      <td>-0.000877</td>\n",
       "      <td>0.804528</td>\n",
       "    </tr>\n",
       "    <tr>\n",
       "      <th>converted_pledged_amount</th>\n",
       "      <td>0.805201</td>\n",
       "      <td>1.000000</td>\n",
       "      <td>0.031417</td>\n",
       "      <td>0.011129</td>\n",
       "      <td>0.036793</td>\n",
       "      <td>-0.005632</td>\n",
       "      <td>0.001674</td>\n",
       "      <td>0.010144</td>\n",
       "      <td>-0.001675</td>\n",
       "      <td>-0.006009</td>\n",
       "      <td>0.036437</td>\n",
       "      <td>0.311144</td>\n",
       "      <td>0.108999</td>\n",
       "      <td>0.143488</td>\n",
       "      <td>0.037109</td>\n",
       "      <td>-0.002628</td>\n",
       "      <td>0.999861</td>\n",
       "    </tr>\n",
       "    <tr>\n",
       "      <th>created_at</th>\n",
       "      <td>0.025763</td>\n",
       "      <td>0.031417</td>\n",
       "      <td>1.000000</td>\n",
       "      <td>-0.163048</td>\n",
       "      <td>0.983713</td>\n",
       "      <td>-0.005590</td>\n",
       "      <td>-0.067095</td>\n",
       "      <td>0.003976</td>\n",
       "      <td>-0.003722</td>\n",
       "      <td>0.259400</td>\n",
       "      <td>0.983917</td>\n",
       "      <td>0.027735</td>\n",
       "      <td>-0.038476</td>\n",
       "      <td>-0.044145</td>\n",
       "      <td>0.983657</td>\n",
       "      <td>-0.103533</td>\n",
       "      <td>0.031305</td>\n",
       "    </tr>\n",
       "    <tr>\n",
       "      <th>currency_trailing_code</th>\n",
       "      <td>0.010566</td>\n",
       "      <td>0.011129</td>\n",
       "      <td>-0.163048</td>\n",
       "      <td>1.000000</td>\n",
       "      <td>-0.159145</td>\n",
       "      <td>-0.003072</td>\n",
       "      <td>-0.530710</td>\n",
       "      <td>-0.001589</td>\n",
       "      <td>0.003703</td>\n",
       "      <td>-0.029686</td>\n",
       "      <td>-0.159141</td>\n",
       "      <td>-0.014496</td>\n",
       "      <td>0.026252</td>\n",
       "      <td>0.008887</td>\n",
       "      <td>-0.159209</td>\n",
       "      <td>-0.588899</td>\n",
       "      <td>0.010939</td>\n",
       "    </tr>\n",
       "    <tr>\n",
       "      <th>deadline</th>\n",
       "      <td>0.031456</td>\n",
       "      <td>0.036793</td>\n",
       "      <td>0.983713</td>\n",
       "      <td>-0.159145</td>\n",
       "      <td>1.000000</td>\n",
       "      <td>-0.007501</td>\n",
       "      <td>-0.066400</td>\n",
       "      <td>0.004798</td>\n",
       "      <td>-0.002373</td>\n",
       "      <td>0.265997</td>\n",
       "      <td>0.999869</td>\n",
       "      <td>0.029352</td>\n",
       "      <td>-0.036473</td>\n",
       "      <td>-0.035992</td>\n",
       "      <td>0.999926</td>\n",
       "      <td>-0.104718</td>\n",
       "      <td>0.036689</td>\n",
       "    </tr>\n",
       "    <tr>\n",
       "      <th>disable_communication</th>\n",
       "      <td>-0.007194</td>\n",
       "      <td>-0.005632</td>\n",
       "      <td>-0.005590</td>\n",
       "      <td>-0.003072</td>\n",
       "      <td>-0.007501</td>\n",
       "      <td>1.000000</td>\n",
       "      <td>-0.006571</td>\n",
       "      <td>0.008566</td>\n",
       "      <td>0.003209</td>\n",
       "      <td>-0.010032</td>\n",
       "      <td>-0.007664</td>\n",
       "      <td>-0.002400</td>\n",
       "      <td>-0.061833</td>\n",
       "      <td>-0.021032</td>\n",
       "      <td>-0.009238</td>\n",
       "      <td>-0.003848</td>\n",
       "      <td>-0.005637</td>\n",
       "    </tr>\n",
       "    <tr>\n",
       "      <th>fx_rate</th>\n",
       "      <td>0.003313</td>\n",
       "      <td>0.001674</td>\n",
       "      <td>-0.067095</td>\n",
       "      <td>-0.530710</td>\n",
       "      <td>-0.066400</td>\n",
       "      <td>-0.006571</td>\n",
       "      <td>1.000000</td>\n",
       "      <td>-0.034576</td>\n",
       "      <td>-0.002264</td>\n",
       "      <td>-0.009580</td>\n",
       "      <td>-0.065782</td>\n",
       "      <td>-0.086680</td>\n",
       "      <td>0.019898</td>\n",
       "      <td>-0.000702</td>\n",
       "      <td>-0.066377</td>\n",
       "      <td>0.962465</td>\n",
       "      <td>0.001465</td>\n",
       "    </tr>\n",
       "    <tr>\n",
       "      <th>goal</th>\n",
       "      <td>0.010019</td>\n",
       "      <td>0.010144</td>\n",
       "      <td>0.003976</td>\n",
       "      <td>-0.001589</td>\n",
       "      <td>0.004798</td>\n",
       "      <td>0.008566</td>\n",
       "      <td>-0.034576</td>\n",
       "      <td>1.000000</td>\n",
       "      <td>0.001609</td>\n",
       "      <td>-0.000269</td>\n",
       "      <td>0.004305</td>\n",
       "      <td>0.127876</td>\n",
       "      <td>-0.033962</td>\n",
       "      <td>-0.004262</td>\n",
       "      <td>0.004632</td>\n",
       "      <td>-0.031928</td>\n",
       "      <td>0.010240</td>\n",
       "    </tr>\n",
       "    <tr>\n",
       "      <th>id</th>\n",
       "      <td>-0.002635</td>\n",
       "      <td>-0.001675</td>\n",
       "      <td>-0.003722</td>\n",
       "      <td>0.003703</td>\n",
       "      <td>-0.002373</td>\n",
       "      <td>0.003209</td>\n",
       "      <td>-0.002264</td>\n",
       "      <td>0.001609</td>\n",
       "      <td>1.000000</td>\n",
       "      <td>0.001471</td>\n",
       "      <td>-0.002432</td>\n",
       "      <td>-0.003055</td>\n",
       "      <td>-0.000518</td>\n",
       "      <td>0.003184</td>\n",
       "      <td>-0.002404</td>\n",
       "      <td>-0.002388</td>\n",
       "      <td>-0.001697</td>\n",
       "    </tr>\n",
       "    <tr>\n",
       "      <th>is_starrable</th>\n",
       "      <td>-0.006344</td>\n",
       "      <td>-0.006009</td>\n",
       "      <td>0.259400</td>\n",
       "      <td>-0.029686</td>\n",
       "      <td>0.265997</td>\n",
       "      <td>-0.010032</td>\n",
       "      <td>-0.009580</td>\n",
       "      <td>-0.000269</td>\n",
       "      <td>0.001471</td>\n",
       "      <td>1.000000</td>\n",
       "      <td>0.264429</td>\n",
       "      <td>-0.002045</td>\n",
       "      <td>-0.207692</td>\n",
       "      <td>-0.019257</td>\n",
       "      <td>0.257530</td>\n",
       "      <td>-0.035726</td>\n",
       "      <td>-0.006544</td>\n",
       "    </tr>\n",
       "    <tr>\n",
       "      <th>launched_at</th>\n",
       "      <td>0.031367</td>\n",
       "      <td>0.036437</td>\n",
       "      <td>0.983917</td>\n",
       "      <td>-0.159141</td>\n",
       "      <td>0.999869</td>\n",
       "      <td>-0.007664</td>\n",
       "      <td>-0.065782</td>\n",
       "      <td>0.004305</td>\n",
       "      <td>-0.002432</td>\n",
       "      <td>0.264429</td>\n",
       "      <td>1.000000</td>\n",
       "      <td>0.029154</td>\n",
       "      <td>-0.033671</td>\n",
       "      <td>-0.035543</td>\n",
       "      <td>0.999835</td>\n",
       "      <td>-0.104067</td>\n",
       "      <td>0.036333</td>\n",
       "    </tr>\n",
       "    <tr>\n",
       "      <th>pledged</th>\n",
       "      <td>0.251022</td>\n",
       "      <td>0.311144</td>\n",
       "      <td>0.027735</td>\n",
       "      <td>-0.014496</td>\n",
       "      <td>0.029352</td>\n",
       "      <td>-0.002400</td>\n",
       "      <td>-0.086680</td>\n",
       "      <td>0.127876</td>\n",
       "      <td>-0.003055</td>\n",
       "      <td>-0.002045</td>\n",
       "      <td>0.029154</td>\n",
       "      <td>1.000000</td>\n",
       "      <td>0.043675</td>\n",
       "      <td>0.061921</td>\n",
       "      <td>0.029506</td>\n",
       "      <td>-0.081775</td>\n",
       "      <td>0.311621</td>\n",
       "    </tr>\n",
       "    <tr>\n",
       "      <th>spotlight</th>\n",
       "      <td>0.123834</td>\n",
       "      <td>0.108999</td>\n",
       "      <td>-0.038476</td>\n",
       "      <td>0.026252</td>\n",
       "      <td>-0.036473</td>\n",
       "      <td>-0.061833</td>\n",
       "      <td>0.019898</td>\n",
       "      <td>-0.033962</td>\n",
       "      <td>-0.000518</td>\n",
       "      <td>-0.207692</td>\n",
       "      <td>-0.033671</td>\n",
       "      <td>0.043675</td>\n",
       "      <td>1.000000</td>\n",
       "      <td>0.245951</td>\n",
       "      <td>-0.033049</td>\n",
       "      <td>0.016730</td>\n",
       "      <td>0.109219</td>\n",
       "    </tr>\n",
       "    <tr>\n",
       "      <th>staff_pick</th>\n",
       "      <td>0.157586</td>\n",
       "      <td>0.143488</td>\n",
       "      <td>-0.044145</td>\n",
       "      <td>0.008887</td>\n",
       "      <td>-0.035992</td>\n",
       "      <td>-0.021032</td>\n",
       "      <td>-0.000702</td>\n",
       "      <td>-0.004262</td>\n",
       "      <td>0.003184</td>\n",
       "      <td>-0.019257</td>\n",
       "      <td>-0.035543</td>\n",
       "      <td>0.061921</td>\n",
       "      <td>0.245951</td>\n",
       "      <td>1.000000</td>\n",
       "      <td>-0.035426</td>\n",
       "      <td>0.000968</td>\n",
       "      <td>0.143497</td>\n",
       "    </tr>\n",
       "    <tr>\n",
       "      <th>state_changed_at</th>\n",
       "      <td>0.031798</td>\n",
       "      <td>0.037109</td>\n",
       "      <td>0.983657</td>\n",
       "      <td>-0.159209</td>\n",
       "      <td>0.999926</td>\n",
       "      <td>-0.009238</td>\n",
       "      <td>-0.066377</td>\n",
       "      <td>0.004632</td>\n",
       "      <td>-0.002404</td>\n",
       "      <td>0.257530</td>\n",
       "      <td>0.999835</td>\n",
       "      <td>0.029506</td>\n",
       "      <td>-0.033049</td>\n",
       "      <td>-0.035426</td>\n",
       "      <td>1.000000</td>\n",
       "      <td>-0.104586</td>\n",
       "      <td>0.037010</td>\n",
       "    </tr>\n",
       "    <tr>\n",
       "      <th>static_usd_rate</th>\n",
       "      <td>-0.000877</td>\n",
       "      <td>-0.002628</td>\n",
       "      <td>-0.103533</td>\n",
       "      <td>-0.588899</td>\n",
       "      <td>-0.104718</td>\n",
       "      <td>-0.003848</td>\n",
       "      <td>0.962465</td>\n",
       "      <td>-0.031928</td>\n",
       "      <td>-0.002388</td>\n",
       "      <td>-0.035726</td>\n",
       "      <td>-0.104067</td>\n",
       "      <td>-0.081775</td>\n",
       "      <td>0.016730</td>\n",
       "      <td>0.000968</td>\n",
       "      <td>-0.104586</td>\n",
       "      <td>1.000000</td>\n",
       "      <td>-0.002541</td>\n",
       "    </tr>\n",
       "    <tr>\n",
       "      <th>usd_pledged</th>\n",
       "      <td>0.804528</td>\n",
       "      <td>0.999861</td>\n",
       "      <td>0.031305</td>\n",
       "      <td>0.010939</td>\n",
       "      <td>0.036689</td>\n",
       "      <td>-0.005637</td>\n",
       "      <td>0.001465</td>\n",
       "      <td>0.010240</td>\n",
       "      <td>-0.001697</td>\n",
       "      <td>-0.006544</td>\n",
       "      <td>0.036333</td>\n",
       "      <td>0.311621</td>\n",
       "      <td>0.109219</td>\n",
       "      <td>0.143497</td>\n",
       "      <td>0.037010</td>\n",
       "      <td>-0.002541</td>\n",
       "      <td>1.000000</td>\n",
       "    </tr>\n",
       "  </tbody>\n",
       "</table>\n",
       "</div>"
      ],
      "text/plain": [
       "                          backers_count  converted_pledged_amount  created_at  \\\n",
       "backers_count                  1.000000                  0.805201    0.025763   \n",
       "converted_pledged_amount       0.805201                  1.000000    0.031417   \n",
       "created_at                     0.025763                  0.031417    1.000000   \n",
       "currency_trailing_code         0.010566                  0.011129   -0.163048   \n",
       "deadline                       0.031456                  0.036793    0.983713   \n",
       "disable_communication         -0.007194                 -0.005632   -0.005590   \n",
       "fx_rate                        0.003313                  0.001674   -0.067095   \n",
       "goal                           0.010019                  0.010144    0.003976   \n",
       "id                            -0.002635                 -0.001675   -0.003722   \n",
       "is_starrable                  -0.006344                 -0.006009    0.259400   \n",
       "launched_at                    0.031367                  0.036437    0.983917   \n",
       "pledged                        0.251022                  0.311144    0.027735   \n",
       "spotlight                      0.123834                  0.108999   -0.038476   \n",
       "staff_pick                     0.157586                  0.143488   -0.044145   \n",
       "state_changed_at               0.031798                  0.037109    0.983657   \n",
       "static_usd_rate               -0.000877                 -0.002628   -0.103533   \n",
       "usd_pledged                    0.804528                  0.999861    0.031305   \n",
       "\n",
       "                          currency_trailing_code  deadline  \\\n",
       "backers_count                           0.010566  0.031456   \n",
       "converted_pledged_amount                0.011129  0.036793   \n",
       "created_at                             -0.163048  0.983713   \n",
       "currency_trailing_code                  1.000000 -0.159145   \n",
       "deadline                               -0.159145  1.000000   \n",
       "disable_communication                  -0.003072 -0.007501   \n",
       "fx_rate                                -0.530710 -0.066400   \n",
       "goal                                   -0.001589  0.004798   \n",
       "id                                      0.003703 -0.002373   \n",
       "is_starrable                           -0.029686  0.265997   \n",
       "launched_at                            -0.159141  0.999869   \n",
       "pledged                                -0.014496  0.029352   \n",
       "spotlight                               0.026252 -0.036473   \n",
       "staff_pick                              0.008887 -0.035992   \n",
       "state_changed_at                       -0.159209  0.999926   \n",
       "static_usd_rate                        -0.588899 -0.104718   \n",
       "usd_pledged                             0.010939  0.036689   \n",
       "\n",
       "                          disable_communication   fx_rate      goal        id  \\\n",
       "backers_count                         -0.007194  0.003313  0.010019 -0.002635   \n",
       "converted_pledged_amount              -0.005632  0.001674  0.010144 -0.001675   \n",
       "created_at                            -0.005590 -0.067095  0.003976 -0.003722   \n",
       "currency_trailing_code                -0.003072 -0.530710 -0.001589  0.003703   \n",
       "deadline                              -0.007501 -0.066400  0.004798 -0.002373   \n",
       "disable_communication                  1.000000 -0.006571  0.008566  0.003209   \n",
       "fx_rate                               -0.006571  1.000000 -0.034576 -0.002264   \n",
       "goal                                   0.008566 -0.034576  1.000000  0.001609   \n",
       "id                                     0.003209 -0.002264  0.001609  1.000000   \n",
       "is_starrable                          -0.010032 -0.009580 -0.000269  0.001471   \n",
       "launched_at                           -0.007664 -0.065782  0.004305 -0.002432   \n",
       "pledged                               -0.002400 -0.086680  0.127876 -0.003055   \n",
       "spotlight                             -0.061833  0.019898 -0.033962 -0.000518   \n",
       "staff_pick                            -0.021032 -0.000702 -0.004262  0.003184   \n",
       "state_changed_at                      -0.009238 -0.066377  0.004632 -0.002404   \n",
       "static_usd_rate                       -0.003848  0.962465 -0.031928 -0.002388   \n",
       "usd_pledged                           -0.005637  0.001465  0.010240 -0.001697   \n",
       "\n",
       "                          is_starrable  launched_at   pledged  spotlight  \\\n",
       "backers_count                -0.006344     0.031367  0.251022   0.123834   \n",
       "converted_pledged_amount     -0.006009     0.036437  0.311144   0.108999   \n",
       "created_at                    0.259400     0.983917  0.027735  -0.038476   \n",
       "currency_trailing_code       -0.029686    -0.159141 -0.014496   0.026252   \n",
       "deadline                      0.265997     0.999869  0.029352  -0.036473   \n",
       "disable_communication        -0.010032    -0.007664 -0.002400  -0.061833   \n",
       "fx_rate                      -0.009580    -0.065782 -0.086680   0.019898   \n",
       "goal                         -0.000269     0.004305  0.127876  -0.033962   \n",
       "id                            0.001471    -0.002432 -0.003055  -0.000518   \n",
       "is_starrable                  1.000000     0.264429 -0.002045  -0.207692   \n",
       "launched_at                   0.264429     1.000000  0.029154  -0.033671   \n",
       "pledged                      -0.002045     0.029154  1.000000   0.043675   \n",
       "spotlight                    -0.207692    -0.033671  0.043675   1.000000   \n",
       "staff_pick                   -0.019257    -0.035543  0.061921   0.245951   \n",
       "state_changed_at              0.257530     0.999835  0.029506  -0.033049   \n",
       "static_usd_rate              -0.035726    -0.104067 -0.081775   0.016730   \n",
       "usd_pledged                  -0.006544     0.036333  0.311621   0.109219   \n",
       "\n",
       "                          staff_pick  state_changed_at  static_usd_rate  \\\n",
       "backers_count               0.157586          0.031798        -0.000877   \n",
       "converted_pledged_amount    0.143488          0.037109        -0.002628   \n",
       "created_at                 -0.044145          0.983657        -0.103533   \n",
       "currency_trailing_code      0.008887         -0.159209        -0.588899   \n",
       "deadline                   -0.035992          0.999926        -0.104718   \n",
       "disable_communication      -0.021032         -0.009238        -0.003848   \n",
       "fx_rate                    -0.000702         -0.066377         0.962465   \n",
       "goal                       -0.004262          0.004632        -0.031928   \n",
       "id                          0.003184         -0.002404        -0.002388   \n",
       "is_starrable               -0.019257          0.257530        -0.035726   \n",
       "launched_at                -0.035543          0.999835        -0.104067   \n",
       "pledged                     0.061921          0.029506        -0.081775   \n",
       "spotlight                   0.245951         -0.033049         0.016730   \n",
       "staff_pick                  1.000000         -0.035426         0.000968   \n",
       "state_changed_at           -0.035426          1.000000        -0.104586   \n",
       "static_usd_rate             0.000968         -0.104586         1.000000   \n",
       "usd_pledged                 0.143497          0.037010        -0.002541   \n",
       "\n",
       "                          usd_pledged  \n",
       "backers_count                0.804528  \n",
       "converted_pledged_amount     0.999861  \n",
       "created_at                   0.031305  \n",
       "currency_trailing_code       0.010939  \n",
       "deadline                     0.036689  \n",
       "disable_communication       -0.005637  \n",
       "fx_rate                      0.001465  \n",
       "goal                         0.010240  \n",
       "id                          -0.001697  \n",
       "is_starrable                -0.006544  \n",
       "launched_at                  0.036333  \n",
       "pledged                      0.311621  \n",
       "spotlight                    0.109219  \n",
       "staff_pick                   0.143497  \n",
       "state_changed_at             0.037010  \n",
       "static_usd_rate             -0.002541  \n",
       "usd_pledged                  1.000000  "
      ]
     },
     "execution_count": 1539,
     "metadata": {},
     "output_type": "execute_result"
    }
   ],
   "source": [
    "# List correlation values\n",
    "data_insp.corr()"
   ]
  },
  {
   "cell_type": "code",
   "execution_count": 1540,
   "metadata": {
    "code_folding": [
     0
    ],
    "scrolled": true
   },
   "outputs": [
    {
     "name": "stdout",
     "output_type": "stream",
     "text": [
      "permissions    208922\n",
      "is_starred     208922\n",
      "is_backing     208922\n",
      "friends        208922\n",
      "usd_type          480\n",
      "location          226\n",
      "blurb               8\n",
      "dtype: int64\n"
     ]
    }
   ],
   "source": [
    "# List missing values\n",
    "\n",
    "def count_missing(data):\n",
    "    null_cols = data_insp.columns[data.isnull().any(axis=0)]\n",
    "    X_null = data[null_cols].isnull().sum()\n",
    "    X_null = X_null.sort_values(ascending=False)\n",
    "    print(X_null)\n",
    "    \n",
    "count_missing(data_insp)"
   ]
  },
  {
   "cell_type": "markdown",
   "metadata": {},
   "source": [
    "## Observations\n",
    "- usd_pledged contains all values in USD, while converted_pledged_amount contains all values in \"current_currency\" (drop the latter)\n",
    "- backers_count and converted_pledged_amount (create avg_backing, then drop backers_count)\n",
    "- Only 182.264 unique ID's, so projects can be listed multiple times (depending on what? changing state?)\n",
    "- is_starrable only applies to projects with state \"live\"\n",
    "- disable_communication only applies to (all) projects with state \"suspended\""
   ]
  },
  {
   "cell_type": "markdown",
   "metadata": {},
   "source": [
    "## Data Handling\n",
    "Purpose: Construct a clean dataset"
   ]
  },
  {
   "cell_type": "markdown",
   "metadata": {},
   "source": [
    "**Drop unnecessary columns and rows**"
   ]
  },
  {
   "cell_type": "code",
   "execution_count": 1541,
   "metadata": {
    "code_folding": [
     0
    ]
   },
   "outputs": [],
   "source": [
    "# Initial drop of unnecessary columns\n",
    "data.drop([\"blurb\", 'converted_pledged_amount', 'currency_symbol', 'disable_communication', 'file', 'friends', 'fx_rate', 'is_backing', 'is_starrable', 'is_starred', 'location', 'name', 'permissions', 'photo', 'pledged', 'slug', \"urls\"], axis=1, inplace=True)"
   ]
  },
  {
   "cell_type": "code",
   "execution_count": 1542,
   "metadata": {
    "code_folding": [
     0
    ]
   },
   "outputs": [],
   "source": [
    "# Initial drop of unnecessary rows\n",
    "indexNames = data[(data['state']!=\"successful\") & (data['state']!=\"failed\")].index\n",
    "# Delete these row indexes from dataFrame\n",
    "data.drop(indexNames,inplace=True)\n",
    "\n",
    "#Alternative:\n",
    "#data = data[(data[\"state\"]==\"successful\") | (data[\"state\"]==\"failed\")].copy()\n",
    "data.reset_index(drop=True, inplace=True)"
   ]
  },
  {
   "cell_type": "code",
   "execution_count": 1544,
   "metadata": {
    "code_folding": [
     0
    ]
   },
   "outputs": [],
   "source": [
    "# Drop all duplicate rows in order to remove duplicates of \"project_id\" (around 25.000)\n",
    "data.drop_duplicates(subset=data.columns, keep='last', inplace=True)"
   ]
  },
  {
   "cell_type": "code",
   "execution_count": 1545,
   "metadata": {
    "code_folding": [
     0
    ]
   },
   "outputs": [],
   "source": [
    "# Extract project_id of \"profile\" (in contrast to \"id\", \"project_id\" increments in relation to \"created_at\")\n",
    "data[\"project_id\"] = [int(data.profile[i].split('\"')[4][1:-1]) for i in range(len(data.profile))]"
   ]
  },
  {
   "cell_type": "code",
   "execution_count": 1549,
   "metadata": {
    "code_folding": [
     0
    ],
    "scrolled": true
   },
   "outputs": [],
   "source": [
    "# Check whether \"id\" and \"project_id\" are redundant (i.e. refer to the same)\n",
    "#print(sum(data.groupby(\"id\")[\"project_id\"].nunique()))\n",
    "#print(data.id.nunique())"
   ]
  },
  {
   "cell_type": "code",
   "execution_count": 1550,
   "metadata": {
    "code_folding": [
     0
    ]
   },
   "outputs": [],
   "source": [
    "# Drop remaining \"project_id\" duplicates based on \"usd_pledged\" (keep higher pledge value)\n",
    "data = data.sort_values('usd_pledged', ascending=False).drop_duplicates(subset=\"project_id\", keep=\"first\")   "
   ]
  },
  {
   "cell_type": "code",
   "execution_count": 1551,
   "metadata": {
    "code_folding": [
     0
    ]
   },
   "outputs": [
    {
     "data": {
      "text/plain": [
       "goal_reached  state     \n",
       "False         failed        74116\n",
       "              successful     5566\n",
       "True          successful    89213\n",
       "              failed           84\n",
       "Name: state, dtype: int64"
      ]
     },
     "execution_count": 1551,
     "metadata": {},
     "output_type": "execute_result"
    }
   ],
   "source": [
    "# Validate whether \"usd_pledged\" >= \"goal\" actually results in state==1 (\"successful\") (1/2)\n",
    "data[\"goal_reached\"] = (data[\"usd_pledged\"])>=(data[\"goal\"])\n",
    "data.groupby(\"goal_reached\")[\"state\"].value_counts()"
   ]
  },
  {
   "cell_type": "code",
   "execution_count": 1552,
   "metadata": {
    "code_folding": [
     0
    ]
   },
   "outputs": [
    {
     "data": {
      "text/html": [
       "<div>\n",
       "<style scoped>\n",
       "    .dataframe tbody tr th:only-of-type {\n",
       "        vertical-align: middle;\n",
       "    }\n",
       "\n",
       "    .dataframe tbody tr th {\n",
       "        vertical-align: top;\n",
       "    }\n",
       "\n",
       "    .dataframe thead th {\n",
       "        text-align: right;\n",
       "    }\n",
       "</style>\n",
       "<table border=\"1\" class=\"dataframe\">\n",
       "  <thead>\n",
       "    <tr style=\"text-align: right;\">\n",
       "      <th></th>\n",
       "      <th>backers_count</th>\n",
       "      <th>category</th>\n",
       "      <th>country</th>\n",
       "      <th>created_at</th>\n",
       "      <th>creator</th>\n",
       "      <th>currency</th>\n",
       "      <th>currency_trailing_code</th>\n",
       "      <th>current_currency</th>\n",
       "      <th>deadline</th>\n",
       "      <th>goal</th>\n",
       "      <th>id</th>\n",
       "      <th>launched_at</th>\n",
       "      <th>profile</th>\n",
       "      <th>source_url</th>\n",
       "      <th>spotlight</th>\n",
       "      <th>staff_pick</th>\n",
       "      <th>state</th>\n",
       "      <th>state_changed_at</th>\n",
       "      <th>static_usd_rate</th>\n",
       "      <th>usd_pledged</th>\n",
       "      <th>usd_type</th>\n",
       "      <th>project_id</th>\n",
       "      <th>goal_reached</th>\n",
       "    </tr>\n",
       "  </thead>\n",
       "  <tbody>\n",
       "    <tr>\n",
       "      <th>141864</th>\n",
       "      <td>12613</td>\n",
       "      <td>{\"id\":35,\"name\":\"Video Games\",\"slug\":\"games/vi...</td>\n",
       "      <td>JP</td>\n",
       "      <td>1513564265</td>\n",
       "      <td>{\"id\":476090608,\"name\":\"White Owls Inc.\",\"is_r...</td>\n",
       "      <td>JPY</td>\n",
       "      <td>False</td>\n",
       "      <td>USD</td>\n",
       "      <td>1525478400</td>\n",
       "      <td>68000000.0</td>\n",
       "      <td>128197700</td>\n",
       "      <td>1522083720</td>\n",
       "      <td>{\"id\":3252753,\"project_id\":3252753,\"state\":\"ac...</td>\n",
       "      <td>https://www.kickstarter.com/discover/categorie...</td>\n",
       "      <td>True</td>\n",
       "      <td>True</td>\n",
       "      <td>successful</td>\n",
       "      <td>1525478401</td>\n",
       "      <td>0.009548</td>\n",
       "      <td>773674.250900</td>\n",
       "      <td>international</td>\n",
       "      <td>3252753</td>\n",
       "      <td>False</td>\n",
       "    </tr>\n",
       "    <tr>\n",
       "      <th>92009</th>\n",
       "      <td>1689</td>\n",
       "      <td>{\"id\":337,\"name\":\"Gadgets\",\"slug\":\"technology/...</td>\n",
       "      <td>SE</td>\n",
       "      <td>1544793895</td>\n",
       "      <td>{\"id\":728134463,\"name\":\"PrintDreams\",\"slug\":\"p...</td>\n",
       "      <td>SEK</td>\n",
       "      <td>True</td>\n",
       "      <td>USD</td>\n",
       "      <td>1548975540</td>\n",
       "      <td>4500000.0</td>\n",
       "      <td>715478163</td>\n",
       "      <td>1545388643</td>\n",
       "      <td>{\"id\":3535152,\"project_id\":3535152,\"state\":\"ac...</td>\n",
       "      <td>https://www.kickstarter.com/discover/categorie...</td>\n",
       "      <td>True</td>\n",
       "      <td>True</td>\n",
       "      <td>successful</td>\n",
       "      <td>1548975541</td>\n",
       "      <td>0.109933</td>\n",
       "      <td>496151.645412</td>\n",
       "      <td>domestic</td>\n",
       "      <td>3535152</td>\n",
       "      <td>False</td>\n",
       "    </tr>\n",
       "    <tr>\n",
       "      <th>145737</th>\n",
       "      <td>1754</td>\n",
       "      <td>{\"id\":28,\"name\":\"Product Design\",\"slug\":\"desig...</td>\n",
       "      <td>JP</td>\n",
       "      <td>1525669820</td>\n",
       "      <td>{\"id\":992618958,\"name\":\"TRIKT\",\"is_registered\"...</td>\n",
       "      <td>JPY</td>\n",
       "      <td>False</td>\n",
       "      <td>USD</td>\n",
       "      <td>1530406863</td>\n",
       "      <td>10000000.0</td>\n",
       "      <td>1030656649</td>\n",
       "      <td>1527814863</td>\n",
       "      <td>{\"id\":3375463,\"project_id\":3375463,\"state\":\"ac...</td>\n",
       "      <td>https://www.kickstarter.com/discover/categorie...</td>\n",
       "      <td>True</td>\n",
       "      <td>True</td>\n",
       "      <td>successful</td>\n",
       "      <td>1530406865</td>\n",
       "      <td>0.009208</td>\n",
       "      <td>482492.927754</td>\n",
       "      <td>international</td>\n",
       "      <td>3375463</td>\n",
       "      <td>False</td>\n",
       "    </tr>\n",
       "  </tbody>\n",
       "</table>\n",
       "</div>"
      ],
      "text/plain": [
       "        backers_count                                           category  \\\n",
       "141864          12613  {\"id\":35,\"name\":\"Video Games\",\"slug\":\"games/vi...   \n",
       "92009            1689  {\"id\":337,\"name\":\"Gadgets\",\"slug\":\"technology/...   \n",
       "145737           1754  {\"id\":28,\"name\":\"Product Design\",\"slug\":\"desig...   \n",
       "\n",
       "       country  created_at                                            creator  \\\n",
       "141864      JP  1513564265  {\"id\":476090608,\"name\":\"White Owls Inc.\",\"is_r...   \n",
       "92009       SE  1544793895  {\"id\":728134463,\"name\":\"PrintDreams\",\"slug\":\"p...   \n",
       "145737      JP  1525669820  {\"id\":992618958,\"name\":\"TRIKT\",\"is_registered\"...   \n",
       "\n",
       "       currency  currency_trailing_code current_currency    deadline  \\\n",
       "141864      JPY                   False              USD  1525478400   \n",
       "92009       SEK                    True              USD  1548975540   \n",
       "145737      JPY                   False              USD  1530406863   \n",
       "\n",
       "              goal          id  launched_at  \\\n",
       "141864  68000000.0   128197700   1522083720   \n",
       "92009    4500000.0   715478163   1545388643   \n",
       "145737  10000000.0  1030656649   1527814863   \n",
       "\n",
       "                                                  profile  \\\n",
       "141864  {\"id\":3252753,\"project_id\":3252753,\"state\":\"ac...   \n",
       "92009   {\"id\":3535152,\"project_id\":3535152,\"state\":\"ac...   \n",
       "145737  {\"id\":3375463,\"project_id\":3375463,\"state\":\"ac...   \n",
       "\n",
       "                                               source_url  spotlight  \\\n",
       "141864  https://www.kickstarter.com/discover/categorie...       True   \n",
       "92009   https://www.kickstarter.com/discover/categorie...       True   \n",
       "145737  https://www.kickstarter.com/discover/categorie...       True   \n",
       "\n",
       "        staff_pick       state  state_changed_at  static_usd_rate  \\\n",
       "141864        True  successful        1525478401         0.009548   \n",
       "92009         True  successful        1548975541         0.109933   \n",
       "145737        True  successful        1530406865         0.009208   \n",
       "\n",
       "          usd_pledged       usd_type  project_id  goal_reached  \n",
       "141864  773674.250900  international     3252753         False  \n",
       "92009   496151.645412       domestic     3535152         False  \n",
       "145737  482492.927754  international     3375463         False  "
      ]
     },
     "execution_count": 1552,
     "metadata": {},
     "output_type": "execute_result"
    }
   ],
   "source": [
    "# Validate whether \"usd_pledged\" >= \"goal\" actually results in state==1 (\"successful\") (2/2)\n",
    "data[(data[\"usd_pledged\"]<data[\"goal\"]) & (data[\"state\"]==\"successful\")].head(3)"
   ]
  },
  {
   "cell_type": "code",
   "execution_count": 1553,
   "metadata": {
    "code_folding": [
     0
    ]
   },
   "outputs": [],
   "source": [
    "# Calculate \"goal_converted\" based on \"goal\" multiplied with \"static_usd_rate\"\n",
    "data[\"goal_converted\"] = data[\"goal\"] * data[\"static_usd_rate\"]"
   ]
  },
  {
   "cell_type": "code",
   "execution_count": 1554,
   "metadata": {
    "code_folding": [
     0
    ]
   },
   "outputs": [
    {
     "data": {
      "text/plain": [
       "goal_reached_2  state     \n",
       "False           failed        74197\n",
       "                successful      116\n",
       "True            successful    94663\n",
       "                failed            3\n",
       "Name: state, dtype: int64"
      ]
     },
     "execution_count": 1554,
     "metadata": {},
     "output_type": "execute_result"
    }
   ],
   "source": [
    "# Validate whether converted_pledged_amount >= goal_converted now results in state==1 (\"successful\")\n",
    "data[\"goal_reached_2\"] = (data[\"usd_pledged\"])>=(data[\"goal_converted\"])\n",
    "data.groupby(\"goal_reached_2\")[\"state\"].value_counts()"
   ]
  },
  {
   "cell_type": "code",
   "execution_count": 1555,
   "metadata": {
    "code_folding": [
     0
    ]
   },
   "outputs": [],
   "source": [
    "# Check for outliers\n",
    "#data[(data[\"converted_pledged_amount\"]>=data[\"goal_converted\"]) & (data[\"state\"]==0)]"
   ]
  },
  {
   "cell_type": "code",
   "execution_count": 1556,
   "metadata": {
    "code_folding": [
     0
    ]
   },
   "outputs": [],
   "source": [
    "# Drop outlier with \"project_id\"==3434836 (state \"unsuccessful\" while \"converted_pledged_amount\" is 3x \"goal_converted\")\n",
    "data.drop(137312, axis=0, inplace=True)"
   ]
  },
  {
   "cell_type": "code",
   "execution_count": 1557,
   "metadata": {
    "code_folding": [
     0
    ]
   },
   "outputs": [],
   "source": [
    "# Reduce dataset to only include \"serious\" projects, which is defined by a threshold of at least 1.000 USD pledged\n",
    "data = data[data.usd_pledged >= 1000]"
   ]
  },
  {
   "cell_type": "code",
   "execution_count": 1558,
   "metadata": {
    "code_folding": [
     0
    ]
   },
   "outputs": [],
   "source": [
    "# Set \"project_id\" as the index\n",
    "data.set_index(\"project_id\", inplace=True)"
   ]
  },
  {
   "cell_type": "markdown",
   "metadata": {},
   "source": [
    "**Clean feature content**"
   ]
  },
  {
   "cell_type": "code",
   "execution_count": 1559,
   "metadata": {
    "code_folding": [
     0
    ]
   },
   "outputs": [],
   "source": [
    "# Extract category_sub from \"category\"\n",
    "data[\"category_sub\"] = [data.category[i].split('\"')[5] for i in data.index]\n",
    "data[\"category_sub\"] = data[\"category_sub\"].str.replace(\"%20\", \"_\")"
   ]
  },
  {
   "cell_type": "code",
   "execution_count": 1560,
   "metadata": {
    "code_folding": [
     0
    ]
   },
   "outputs": [],
   "source": [
    "# Extract category from \"source_url\"\n",
    "data[\"category\"] = [data.source_url[i].split(\"/\")[5] for i in data.index]\n",
    "data[\"category\"] = data[\"category\"].str.replace(\"%20\", \"_\")"
   ]
  },
  {
   "cell_type": "code",
   "execution_count": 1561,
   "metadata": {
    "code_folding": [
     0
    ]
   },
   "outputs": [],
   "source": [
    "# Extract creator_id of \"creator\"\n",
    "data[\"creator_id\"] = [int(data.creator[i].split('\"')[2][1:-1]) for i in data.index]"
   ]
  },
  {
   "cell_type": "code",
   "execution_count": 1562,
   "metadata": {
    "code_folding": [
     0
    ]
   },
   "outputs": [],
   "source": [
    "# Extract profile_state of \"profile\"\n",
    "data[\"profile_state\"] = [data.profile[i].split('\"')[7] for i in data.index]"
   ]
  },
  {
   "cell_type": "code",
   "execution_count": 1563,
   "metadata": {
    "code_folding": [
     0
    ]
   },
   "outputs": [],
   "source": [
    "# Extract profile_state_changed_at of \"profile\"\n",
    "data[\"profile_state_changed_at\"] = [data.profile[i].split('\"')[10][1:-1] for i in data.index]"
   ]
  },
  {
   "cell_type": "code",
   "execution_count": 1564,
   "metadata": {
    "code_folding": [
     0
    ]
   },
   "outputs": [],
   "source": [
    "# Display content of newly created columns\n",
    "#data.creator_id.value_counts()\n",
    "#data.project_id.value_counts()\n",
    "#data.profile_state.value_counts()\n",
    "#data.profile_state_changed_at.value_counts()\n",
    "#data[data.creator_id == \"1704592942\"]"
   ]
  },
  {
   "cell_type": "code",
   "execution_count": 1565,
   "metadata": {
    "code_folding": [
     0
    ]
   },
   "outputs": [],
   "source": [
    "# Drop rows with non-numerical values (only if few! not used here)\n",
    "#data = data[pd.to_numeric(data['column_with_nonnum'], errors='coerce').notnull()]\n",
    "#data['column_with_nonnum'] = data['column_with_nonnum'].astype('int')\n",
    "#data.dtypes"
   ]
  },
  {
   "cell_type": "code",
   "execution_count": 1566,
   "metadata": {
    "code_folding": [
     0
    ]
   },
   "outputs": [],
   "source": [
    "# Transform created_at from timestamp to datetime\n",
    "data.created_at = pd.to_datetime(data.created_at, unit='s')"
   ]
  },
  {
   "cell_type": "code",
   "execution_count": 1567,
   "metadata": {
    "code_folding": [
     0
    ]
   },
   "outputs": [],
   "source": [
    "# Transform deadline from timestamp to datetime\n",
    "data.deadline = pd.to_datetime(data.deadline, unit='s')"
   ]
  },
  {
   "cell_type": "code",
   "execution_count": 1568,
   "metadata": {
    "code_folding": [
     0
    ]
   },
   "outputs": [],
   "source": [
    "# Transform launched_at from timestamp to datetime\n",
    "data.launched_at = pd.to_datetime(data.launched_at, unit='s')"
   ]
  },
  {
   "cell_type": "code",
   "execution_count": 1569,
   "metadata": {
    "code_folding": [
     0
    ]
   },
   "outputs": [],
   "source": [
    "# Transform state_changed_at from timestamp to datetime\n",
    "data.state_changed_at = pd.to_datetime(data.state_changed_at, unit='s')"
   ]
  },
  {
   "cell_type": "code",
   "execution_count": 1570,
   "metadata": {
    "code_folding": [
     0
    ]
   },
   "outputs": [],
   "source": [
    "# Transform profile_state_changed_at from timestamp to datetime\n",
    "data.profile_state_changed_at = pd.to_datetime(data.profile_state_changed_at, unit='s')"
   ]
  },
  {
   "cell_type": "code",
   "execution_count": 1571,
   "metadata": {
    "code_folding": [
     0
    ]
   },
   "outputs": [],
   "source": [
    "# Create \"deadline_yr\"\n",
    "data[\"deadline_yr\"] = [date.year for date in data[\"deadline\"]]\n",
    "#alt.: data[\"deadline_yr\"] = data[\"deadline\"].dt.year()"
   ]
  },
  {
   "cell_type": "code",
   "execution_count": 1572,
   "metadata": {
    "code_folding": [
     0
    ]
   },
   "outputs": [],
   "source": [
    "# Create \"deadline_mth\"\n",
    "data[\"deadline_mth\"] = [date.month for date in data[\"deadline\"]]"
   ]
  },
  {
   "cell_type": "code",
   "execution_count": 1573,
   "metadata": {
    "code_folding": [
     0
    ]
   },
   "outputs": [],
   "source": [
    "# Create \"launched_at_yr\"\n",
    "data[\"launched_at_yr\"] = [date.year for date in data[\"launched_at\"]]"
   ]
  },
  {
   "cell_type": "code",
   "execution_count": 1574,
   "metadata": {
    "code_folding": [
     0
    ]
   },
   "outputs": [],
   "source": [
    "# Create \"launched_at_mth\"\n",
    "data[\"launched_at_mth\"] = [date.month for date in data[\"launched_at\"]]"
   ]
  },
  {
   "cell_type": "code",
   "execution_count": 1575,
   "metadata": {
    "code_folding": [
     0
    ]
   },
   "outputs": [],
   "source": [
    "# Define baseline for launched_at and deadline by setting lowest yr/mth combination = 0 at January, 2009\n",
    "#print(data.launched_at_yr.min(),data.launched_at_mth.min())\n",
    "#print(data.deadline_yr.min(),data.deadline_mth.min())"
   ]
  },
  {
   "cell_type": "code",
   "execution_count": 1576,
   "metadata": {
    "code_folding": [
     0
    ]
   },
   "outputs": [],
   "source": [
    "# Create continuous feature for months passed since earliest project deadline (January, 2009)\n",
    "data[\"deadline_cont\"] = (data.deadline_yr - 2009) * 12 + data.deadline_mth - 1"
   ]
  },
  {
   "cell_type": "code",
   "execution_count": 1577,
   "metadata": {
    "code_folding": [
     0
    ]
   },
   "outputs": [],
   "source": [
    "# Create continuous feature for months passed since earliest project launched_at (January, 2009)\n",
    "data[\"launched_at_cont\"] = (data.launched_at_yr - 2009) * 12 + data.launched_at_mth - 1"
   ]
  },
  {
   "cell_type": "code",
   "execution_count": 1578,
   "metadata": {
    "code_folding": [
     0
    ]
   },
   "outputs": [],
   "source": [
    "# Get project \"campaign_days\" as difference of \"deadline\" and \"launched_at\"\n",
    "data[\"campaign_days\"] = data.deadline - data.launched_at\n",
    "data[\"campaign_days\"] = data['campaign_days'].dt.round('d').dt.days"
   ]
  },
  {
   "cell_type": "code",
   "execution_count": 1579,
   "metadata": {
    "code_folding": [
     0
    ]
   },
   "outputs": [],
   "source": [
    "# Convert currency_trailing_code to 1/0\n",
    "data.currency_trailing_code.replace([True, False], [1, 0], inplace=True)"
   ]
  },
  {
   "cell_type": "code",
   "execution_count": 1580,
   "metadata": {
    "code_folding": [
     0
    ]
   },
   "outputs": [],
   "source": [
    "# Convert spotlight to 1/0\n",
    "data.spotlight.replace([True, False], [1, 0], inplace=True)"
   ]
  },
  {
   "cell_type": "code",
   "execution_count": 1581,
   "metadata": {
    "code_folding": [
     0
    ]
   },
   "outputs": [],
   "source": [
    "# Convert staff_pick to 1/0\n",
    "data.staff_pick.replace([True, False], [1, 0], inplace=True)"
   ]
  },
  {
   "cell_type": "code",
   "execution_count": 1582,
   "metadata": {
    "code_folding": [
     0
    ]
   },
   "outputs": [],
   "source": [
    "# Convert state (TARGET) to 1/0\n",
    "data.state.replace([\"successful\", \"failed\"], [1, 0], inplace=True)"
   ]
  },
  {
   "cell_type": "code",
   "execution_count": 1583,
   "metadata": {
    "code_folding": [
     0
    ]
   },
   "outputs": [],
   "source": [
    "# Convert profile_state to 1/0\n",
    "data.profile_state.replace([\"active\", \"inactive\"], [1, 0], inplace=True)"
   ]
  },
  {
   "cell_type": "markdown",
   "metadata": {},
   "source": [
    "**Finalize data for exploration**"
   ]
  },
  {
   "cell_type": "code",
   "execution_count": 1584,
   "metadata": {
    "code_folding": [
     0
    ]
   },
   "outputs": [],
   "source": [
    "# Post-cleaning drop of unnecessary columns\n",
    "data.drop([\"created_at\", \"creator\", \"currency\", \"currency_trailing_code\", \"current_currency\", \"deadline_mth\", \"goal\", \"goal_reached\", \"goal_reached_2\", \"id\", \"launched_at_mth\", \"profile\", \"profile_state_changed_at\", \"source_url\", \"state_changed_at\", \"static_usd_rate\", \"usd_type\"], axis=1, inplace=True)"
   ]
  },
  {
   "cell_type": "code",
   "execution_count": 1585,
   "metadata": {
    "code_folding": [
     0
    ]
   },
   "outputs": [],
   "source": [
    "# Sort all columns in \"data\" ascending by name\n",
    "data = data.reindex(sorted(data.columns), axis=1)"
   ]
  },
  {
   "cell_type": "code",
   "execution_count": 1586,
   "metadata": {
    "code_folding": [
     0
    ]
   },
   "outputs": [],
   "source": [
    "# Sort all rows in \"data\" ascending by \"launched_at\"\n",
    "data = data.sort_values(\"launched_at\", axis=0, ascending=True)"
   ]
  },
  {
   "cell_type": "code",
   "execution_count": 1587,
   "metadata": {
    "code_folding": [
     0
    ]
   },
   "outputs": [],
   "source": [
    "# Observe state of dataset\n",
    "#data.shape\n",
    "#data.head()\n",
    "#data.info()\n",
    "#data.nunique()"
   ]
  },
  {
   "cell_type": "markdown",
   "metadata": {},
   "source": [
    "# Data Exploration\n",
    "Purpose: Form hypotheses about your defined problem by visually analyzing the data"
   ]
  },
  {
   "cell_type": "code",
   "execution_count": 1588,
   "metadata": {
    "code_folding": [
     0
    ]
   },
   "outputs": [],
   "source": [
    "# Create data set for exploration\n",
    "data_clean = data.copy()"
   ]
  },
  {
   "cell_type": "code",
   "execution_count": 1589,
   "metadata": {
    "code_folding": [
     0
    ]
   },
   "outputs": [],
   "source": [
    "# Separate continuous vs. categorical variables\n",
    "data_cat_col = ['category', 'country', 'category_sub']\n",
    "data_cont_col = [el for el in data_clean.columns if el not in data_cat_col]\n",
    "data_cont = data_clean[data_cont_col]\n",
    "data_cat = data_clean[data_cat_col]"
   ]
  },
  {
   "cell_type": "code",
   "execution_count": 1590,
   "metadata": {
    "code_folding": [
     0
    ],
    "scrolled": true
   },
   "outputs": [
    {
     "data": {
      "text/plain": [
       "backers_count        34.608810\n",
       "campaign_days         1.241586\n",
       "creator_id            0.001070\n",
       "deadline_cont        -0.362856\n",
       "deadline_yr          -0.350628\n",
       "goal_converted      180.311804\n",
       "launched_at_cont     -0.368000\n",
       "launched_at_yr       -0.369804\n",
       "profile_state         1.001867\n",
       "spotlight            -2.172937\n",
       "staff_pick            1.362497\n",
       "state                -2.172937\n",
       "usd_pledged          28.340298\n",
       "dtype: float64"
      ]
     },
     "execution_count": 1590,
     "metadata": {},
     "output_type": "execute_result"
    }
   ],
   "source": [
    "# Look at data skew (to check whether scaling with e.g. log makes sense for highly skewed features)\n",
    "data_clean.skew()"
   ]
  },
  {
   "cell_type": "code",
   "execution_count": 1591,
   "metadata": {
    "code_folding": [
     0
    ]
   },
   "outputs": [
    {
     "data": {
      "image/png": "[encoded data removed]",
      "text/plain": [
       "<Figure size 792x648 with 2 Axes>"
      ]
     },
     "metadata": {
      "needs_background": "light"
     },
     "output_type": "display_data"
    }
   ],
   "source": [
    "# Plot correlation heatmap for continuous variables\n",
    "#Generate a mask for the upper triangle\n",
    "mask = np.triu(np.ones_like(data_cont.corr(), dtype=np.bool))\n",
    "\n",
    "#Set up the matplotlib figure\n",
    "f, ax = plt.subplots(figsize=(11, 9))\n",
    "\n",
    "#Generate a custom diverging colormap\n",
    "cmap = sns.diverging_palette(220, 10, as_cmap=True)\n",
    "\n",
    "#Draw the heatmap with the mask and correct aspect ratio\n",
    "sns.heatmap(data_cont.corr(), mask=mask, cmap=cmap, vmax=.3, center=0,\n",
    "            square=True, linewidths=.5, cbar_kws={\"shrink\": .5}, annot=True, fmt=\".1g\");"
   ]
  },
  {
   "cell_type": "code",
   "execution_count": 1592,
   "metadata": {
    "code_folding": [
     0
    ]
   },
   "outputs": [
    {
     "data": {
      "image/png": "[encoded data removed]",
      "text/plain": [
       "<Figure size 432x288 with 1 Axes>"
      ]
     },
     "metadata": {
      "needs_background": "light"
     },
     "output_type": "display_data"
    }
   ],
   "source": [
    "# Plot total number of projects by \"state\"\n",
    "data['state'].value_counts(ascending=True).plot(kind='bar', rot=0);"
   ]
  },
  {
   "cell_type": "code",
   "execution_count": 1593,
   "metadata": {
    "code_folding": [
     0
    ]
   },
   "outputs": [
    {
     "data": {
      "image/png": "[encoded data removed]",
      "text/plain": [
       "<Figure size 864x432 with 1 Axes>"
      ]
     },
     "metadata": {
      "needs_background": "light"
     },
     "output_type": "display_data"
    }
   ],
   "source": [
    "# Plot countplot of number of projects by year launched and \"state\"\n",
    "plt.figure(figsize=(12,6))\n",
    "sns.countplot(x=\"launched_at_yr\", hue=\"state\", data=data_clean);"
   ]
  },
  {
   "cell_type": "code",
   "execution_count": 1594,
   "metadata": {
    "code_folding": [
     0
    ]
   },
   "outputs": [
    {
     "name": "stderr",
     "output_type": "stream",
     "text": [
      "'c' argument looks like a single numeric RGB or RGBA sequence, which should be avoided as value-mapping will have precedence in case its length matches with 'x' & 'y'.  Please use a 2-D array with a single row if you really want to specify the same RGB or RGBA value for all points.\n"
     ]
    },
    {
     "data": {
      "image/png": "[encoded data removed]",
      "text/plain": [
       "<Figure size 864x432 with 1 Axes>"
      ]
     },
     "metadata": {
      "needs_background": "light"
     },
     "output_type": "display_data"
    }
   ],
   "source": [
    "# Plot scatterplot of \"usd_pledged\" over time\n",
    "data_clean.plot(kind='scatter', x='launched_at_cont', y='usd_pledged', figsize=(12,6));"
   ]
  },
  {
   "cell_type": "code",
   "execution_count": 1595,
   "metadata": {
    "code_folding": [
     0
    ]
   },
   "outputs": [
    {
     "data": {
      "image/png": "[encoded data removed]",
      "text/plain": [
       "<Figure size 864x432 with 1 Axes>"
      ]
     },
     "metadata": {
      "needs_background": "light"
     },
     "output_type": "display_data"
    }
   ],
   "source": [
    "# Plot histogram of \"usd_pledged\"\n",
    "data_clean['usd_pledged'].plot(kind='hist', bins=50, figsize=(12,6), facecolor='grey',edgecolor='black');"
   ]
  },
  {
   "cell_type": "code",
   "execution_count": 1596,
   "metadata": {
    "code_folding": [
     0
    ]
   },
   "outputs": [
    {
     "data": {
      "image/png": "[encoded data removed]",
      "text/plain": [
       "<Figure size 864x432 with 1 Axes>"
      ]
     },
     "metadata": {
      "needs_background": "light"
     },
     "output_type": "display_data"
    }
   ],
   "source": [
    "# Plot boxplot of \"usd_pledged\"\n",
    "plt.figure(figsize=(12,6))\n",
    "sns.boxplot(x=\"launched_at_yr\", y=\"usd_pledged\", data=data_clean, hue=\"state\", boxprops=dict(alpha=.2));"
   ]
  },
  {
   "cell_type": "code",
   "execution_count": 1597,
   "metadata": {
    "code_folding": [
     0
    ]
   },
   "outputs": [
    {
     "data": {
      "image/png": "[encoded data removed]",
      "text/plain": [
       "<Figure size 432x432 with 3 Axes>"
      ]
     },
     "metadata": {
      "needs_background": "light"
     },
     "output_type": "display_data"
    }
   ],
   "source": [
    "# Plot jointplot of goal_converted (1 feature)\n",
    "sns.jointplot('goal_converted', 'usd_pledged', data=data_clean, kind=\"hex\", marginal_kws=dict(bins=15, rug=True), annot_kws=dict(stat=\"r\"), linewidth=1);"
   ]
  },
  {
   "cell_type": "code",
   "execution_count": 1598,
   "metadata": {
    "code_folding": [
     0
    ]
   },
   "outputs": [
    {
     "data": {
      "image/png": "[encoded data removed]",
      "text/plain": [
       "<Figure size 779.425x360 with 2 Axes>"
      ]
     },
     "metadata": {
      "needs_background": "light"
     },
     "output_type": "display_data"
    }
   ],
   "source": [
    "# Plot lmplot of usd_pledged per state to goal_converted (3 features)\n",
    "sns.lmplot(y='usd_pledged', x='goal_converted', data=data_clean, hue='staff_pick', \\\n",
    "           col='state', palette='Set1', scatter_kws={'alpha':0.3});"
   ]
  },
  {
   "cell_type": "code",
   "execution_count": 1599,
   "metadata": {
    "code_folding": [
     0
    ],
    "scrolled": true
   },
   "outputs": [],
   "source": [
    "# Plot all continuous variables as pairplot\n",
    "#sns.pairplot(data_clean[data_cont_col], hue='state', diag_kind='kde', height=2);"
   ]
  },
  {
   "cell_type": "code",
   "execution_count": 1600,
   "metadata": {
    "code_folding": [
     0
    ]
   },
   "outputs": [
    {
     "data": {
      "image/png": "[encoded data removed]",
      "text/plain": [
       "<Figure size 432x288 with 1 Axes>"
      ]
     },
     "metadata": {
      "needs_background": "light"
     },
     "output_type": "display_data"
    }
   ],
   "source": [
    "# Plot boxplot of avg \"converted_pledged_amount\" and \"goal_converted\" per \"state\"\n",
    "sns.boxplot(x=\"state\", y=\"usd_pledged\", hue=\"staff_pick\", data=data_clean);"
   ]
  },
  {
   "cell_type": "code",
   "execution_count": 1601,
   "metadata": {
    "code_folding": [
     0
    ]
   },
   "outputs": [
    {
     "data": {
      "image/png": "[encoded data removed]",
      "text/plain": [
       "<Figure size 864x432 with 1 Axes>"
      ]
     },
     "metadata": {
      "needs_background": "light"
     },
     "output_type": "display_data"
    }
   ],
   "source": [
    "# Plot boxplot of avg \"converted_pledged_amount\" and \"goal_converted\" per \"category\"\n",
    "plt.figure(figsize=(12,6))\n",
    "sns.boxplot(x=\"category\", y=\"usd_pledged\", hue=\"staff_pick\", data=data_clean);\n",
    "plt.tight_layout()"
   ]
  },
  {
   "cell_type": "code",
   "execution_count": 1602,
   "metadata": {
    "code_folding": [
     0
    ]
   },
   "outputs": [
    {
     "data": {
      "image/png": "[encoded data removed]",
      "text/plain": [
       "<Figure size 909.725x432 with 1 Axes>"
      ]
     },
     "metadata": {
      "needs_background": "light"
     },
     "output_type": "display_data"
    }
   ],
   "source": [
    "# Plot \"usd_pledged\" per \"category\"\n",
    "sns.pairplot(data_clean,\n",
    "             x_vars=[\"category\"],\n",
    "             y_vars=[\"usd_pledged\"],hue='state',height=6,aspect=2);\n",
    "plt.savefig(\"figures/fig5_pairplot.png\")"
   ]
  },
  {
   "cell_type": "code",
   "execution_count": 1603,
   "metadata": {
    "code_folding": [
     0
    ],
    "scrolled": true
   },
   "outputs": [
    {
     "data": {
      "image/png": "[encoded data removed]",
      "text/plain": [
       "<Figure size 1008x576 with 1 Axes>"
      ]
     },
     "metadata": {
      "needs_background": "light"
     },
     "output_type": "display_data"
    }
   ],
   "source": [
    "# Plot stripplot of \"usd_pledged\" per \"category\"\n",
    "plt.figure(figsize=(14,8))\n",
    "sns.stripplot(data=data_clean,jitter=True,alpha=.2,\n",
    "             x=\"category\",\n",
    "             y=\"usd_pledged\",hue='state',size=5, dodge=True);\n",
    "plt.savefig(\"figures/fig6_pairplot.png\")"
   ]
  },
  {
   "cell_type": "code",
   "execution_count": 1604,
   "metadata": {
    "code_folding": [
     0
    ]
   },
   "outputs": [
    {
     "data": {
      "image/png": "[encoded data removed]",
      "text/plain": [
       "<Figure size 864x432 with 1 Axes>"
      ]
     },
     "metadata": {
      "needs_background": "light"
     },
     "output_type": "display_data"
    }
   ],
   "source": [
    "# Plot countplot of number of projects per category\n",
    "plt.figure(figsize=(12,6))\n",
    "sns.countplot(x=\"category\", hue=\"state\", data=data_clean);"
   ]
  },
  {
   "cell_type": "markdown",
   "metadata": {},
   "source": [
    "# Feature Engineering\n",
    "Purpose: Select important features and construct more meaningful ones using the raw data that you have"
   ]
  },
  {
   "cell_type": "code",
   "execution_count": 1605,
   "metadata": {
    "code_folding": [
     0
    ]
   },
   "outputs": [],
   "source": [
    "# Reset dataset to post-clean state (optional)\n",
    "data = data_clean.copy()"
   ]
  },
  {
   "cell_type": "code",
   "execution_count": 1606,
   "metadata": {
    "code_folding": [
     0
    ]
   },
   "outputs": [],
   "source": [
    "# Post-exploration drop of columns\n",
    "data.drop([\"deadline_cont\", \"deadline_yr\", \"launched_at_yr\", \"profile_state\", \"spotlight\"], axis=1, inplace=True)"
   ]
  },
  {
   "cell_type": "code",
   "execution_count": 1607,
   "metadata": {
    "code_folding": [
     0
    ]
   },
   "outputs": [],
   "source": [
    "# Create avg backing feature (usd_pledged / backers_count)\n",
    "data[\"usd_pledged_avg\"] = data[\"usd_pledged\"] / data[\"backers_count\"]"
   ]
  },
  {
   "cell_type": "code",
   "execution_count": 1608,
   "metadata": {
    "code_folding": [
     0
    ]
   },
   "outputs": [],
   "source": [
    "# Create over- or underperformance in % through \"usd_pledged\" / \"goal_converted\"\n",
    "data[\"pledged_goal_ratio\"] = data.usd_pledged / data.goal_converted * 100"
   ]
  },
  {
   "cell_type": "code",
   "execution_count": 1609,
   "metadata": {
    "code_folding": [
     0
    ]
   },
   "outputs": [],
   "source": [
    "# Create \"creator_project_no\" from \"creator_id\" and \"launched_at\" (to see whether there are learning effects) --> Sorting has been done at the end of Data Cleaning\n",
    "def count_project_no(data, column):\n",
    "    id_list = []\n",
    "    project_count = []\n",
    "    for el in data[column]:\n",
    "        id_list.append(el)\n",
    "        project_count.append(id_list.count(el))\n",
    "    return project_count\n",
    "\n",
    "data[\"creator_project_no\"] = count_project_no(data, \"creator_id\")"
   ]
  },
  {
   "cell_type": "code",
   "execution_count": 1610,
   "metadata": {
    "code_folding": [
     0
    ]
   },
   "outputs": [],
   "source": [
    "# Create \"creator_mult_projects\" (1/0) to mark whether creator has previously started a project (1)\n",
    "data[\"creator_mult_projects\"] = [0 if el==1 else 1 for el in data.creator_project_no]"
   ]
  },
  {
   "cell_type": "code",
   "execution_count": 1611,
   "metadata": {
    "code_folding": [
     0
    ]
   },
   "outputs": [],
   "source": [
    "# Create log \"usd_pledged_log\" for continuous variable \"usd_pledged\"\n",
    "data[\"usd_pledged_log\"] = [math.log(el) for el in data[\"usd_pledged\"]]"
   ]
  },
  {
   "cell_type": "code",
   "execution_count": 1612,
   "metadata": {
    "code_folding": [
     0
    ]
   },
   "outputs": [],
   "source": [
    "# Create log \"goal_converted_log\" for continuous variable \"goal_converted\"\n",
    "data[\"goal_converted_log\"] = [math.log(el) for el in data[\"goal_converted\"]]"
   ]
  },
  {
   "cell_type": "code",
   "execution_count": 1613,
   "metadata": {
    "code_folding": [
     0
    ]
   },
   "outputs": [],
   "source": [
    "# Create log \"backers_count_log\" for continuous variable \"backers_count\"\n",
    "data[\"backers_count_log\"] = [math.log(el) for el in data[\"backers_count\"]]"
   ]
  },
  {
   "cell_type": "code",
   "execution_count": 1614,
   "metadata": {
    "code_folding": [
     0
    ]
   },
   "outputs": [],
   "source": [
    "# Display histogram of log-transformed features\n",
    "#data['usd_pledged_log'].plot(kind='hist', bins=50, figsize=(12,6), facecolor='grey',edgecolor='black');\n",
    "#data['goal_converted_log'].plot(kind='hist', bins=50, figsize=(12,6), facecolor='grey',edgecolor='black');\n",
    "#data['backers_count_log'].plot(kind='hist', bins=50, figsize=(12,6), facecolor='grey',edgecolor='black');"
   ]
  },
  {
   "cell_type": "code",
   "execution_count": 1615,
   "metadata": {
    "code_folding": [
     0
    ]
   },
   "outputs": [],
   "source": [
    "# Split 2nd dataset \"data_reg\" for regression on \"usd_pledged_log\"\n",
    "data_reg = data.copy()"
   ]
  },
  {
   "cell_type": "code",
   "execution_count": 1616,
   "metadata": {
    "code_folding": [
     0
    ],
    "scrolled": true
   },
   "outputs": [],
   "source": [
    "# Drop features for classification \"state\" (\"data\") --> Note: in particular features not known at project creation are dropped\n",
    "data.drop([\"backers_count\", \"backers_count_log\", \"category_sub\", \"pledged_goal_ratio\",\n",
    "           \"creator_project_no\",  \"deadline\", \"staff_pick\", \"usd_pledged_avg\",\n",
    "           \"goal_converted\", \"launched_at\", \"usd_pledged\", \"usd_pledged_log\"], axis=1, inplace=True)"
   ]
  },
  {
   "cell_type": "code",
   "execution_count": 1617,
   "metadata": {
    "code_folding": [
     0
    ]
   },
   "outputs": [
    {
     "data": {
      "image/png": "[encoded data removed]",
      "text/plain": [
       "<Figure size 792x648 with 2 Axes>"
      ]
     },
     "metadata": {
      "needs_background": "light"
     },
     "output_type": "display_data"
    }
   ],
   "source": [
    "# Plot correlation heatmap for remaining continuous variables\n",
    "#Generate a mask for the upper triangle\n",
    "mask = np.triu(np.ones_like(data.corr(), dtype=np.bool))\n",
    "\n",
    "#Set up the matplotlib figure\n",
    "f, ax = plt.subplots(figsize=(11, 9))\n",
    "\n",
    "#Generate a custom diverging colormap\n",
    "cmap = sns.diverging_palette(220, 10, as_cmap=True)\n",
    "\n",
    "#Draw the heatmap with the mask and correct aspect ratio\n",
    "sns.heatmap(data.corr(), mask=mask, cmap=cmap, vmax=.3, center=0,\n",
    "            square=True, linewidths=.5, cbar_kws={\"shrink\": .5}, annot=True, fmt=\".1g\");"
   ]
  },
  {
   "cell_type": "code",
   "execution_count": 1618,
   "metadata": {
    "code_folding": [
     0
    ]
   },
   "outputs": [],
   "source": [
    "# Drop features for regression \"usd_pledged_log\" (\"data_reg\")\n",
    "data_reg.drop([\"backers_count\", \"backers_count_log\", \"category\", \"pledged_goal_ratio\", \n",
    "               \"creator_project_no\", \"deadline\", \"staff_pick\", \"usd_pledged_avg\",\n",
    "           \"goal_converted\", \"goal_converted_log\", \"launched_at\", \"usd_pledged\"], axis=1, inplace=True)"
   ]
  },
  {
   "cell_type": "markdown",
   "metadata": {},
   "source": [
    "# Preprocessing (Train/Test Split and Pipeline)"
   ]
  },
  {
   "cell_type": "markdown",
   "metadata": {},
   "source": [
    "## Train/test and preprocessing (full dataset)"
   ]
  },
  {
   "cell_type": "markdown",
   "metadata": {},
   "source": [
    "**Train/test split classification (\"state\")**"
   ]
  },
  {
   "cell_type": "code",
   "execution_count": 1620,
   "metadata": {
    "code_folding": [
     0
    ]
   },
   "outputs": [],
   "source": [
    "# Create dataset for \"full\" train/test split\n",
    "data_full = data.copy()"
   ]
  },
  {
   "cell_type": "code",
   "execution_count": 1621,
   "metadata": {
    "code_folding": [
     0
    ]
   },
   "outputs": [],
   "source": [
    "# Define predictors and target variable\n",
    "X = data_full.drop([\"state\"], axis=1)\n",
    "y = data_full[\"state\"]"
   ]
  },
  {
   "cell_type": "code",
   "execution_count": 1622,
   "metadata": {
    "code_folding": [
     0
    ]
   },
   "outputs": [],
   "source": [
    "# Split data into training and testing sets\n",
    "X_train_full, X_test_full, y_train_full, y_test_full = train_test_split(X,y,test_size=test_size,\n",
    "                                                        random_state=random_state,\n",
    "                                                        shuffle=True,\n",
    "                                                   stratify=y) # Use stratify=y if labels are inbalanced (e.g. most wines are 5 or 6; check with value_counts()!)"
   ]
  },
  {
   "cell_type": "markdown",
   "metadata": {},
   "source": [
    "**Remove entries of high-frequency creators**"
   ]
  },
  {
   "cell_type": "code",
   "execution_count": 1623,
   "metadata": {
    "code_folding": [
     0
    ]
   },
   "outputs": [],
   "source": [
    "# Temporarily concatenate X_train and y_train for reducing dataset\n",
    "data_full = pd.concat([X_train_full, y_train_full], axis=1)"
   ]
  },
  {
   "cell_type": "code",
   "execution_count": 1624,
   "metadata": {
    "code_folding": [
     0
    ]
   },
   "outputs": [],
   "source": [
    "# Remove all creators with more than 5 remaining entries (to reduce weighted impact) (1/2)\n",
    "data_full = shuffle(data_full, random_state=random_state)\n",
    "\n",
    "def count_over_five(data, column):\n",
    "    id_list = []\n",
    "    project_count = []\n",
    "    for el in data[column]:\n",
    "        id_list.append(el)\n",
    "        if id_list.count(el) <= 5:\n",
    "            project_count.append(0)            \n",
    "        else:\n",
    "            project_count.append(1)\n",
    "    return project_count\n",
    "\n",
    "data_full[\"creator_over_five\"] = count_over_five(data_full, \"creator_id\")"
   ]
  },
  {
   "cell_type": "code",
   "execution_count": 1625,
   "metadata": {
    "code_folding": [
     0
    ]
   },
   "outputs": [],
   "source": [
    "# Remove all creators with more than 5 remaining entries (to reduce weighted impact) (2/2)\n",
    "data_full = data_full[data_full.creator_over_five==0]\n",
    "data_full = data_full.drop([\"creator_over_five\"], axis=1)"
   ]
  },
  {
   "cell_type": "code",
   "execution_count": 1626,
   "metadata": {
    "code_folding": [
     0
    ]
   },
   "outputs": [],
   "source": [
    "# Optional: Remove outliers with \"pledged_goal_ratio\" above a certain threshold\n",
    "#data_full = data_full[data_full.pledged_goal_ratio < 10000].copy()"
   ]
  },
  {
   "cell_type": "code",
   "execution_count": 1627,
   "metadata": {
    "code_folding": [
     0
    ]
   },
   "outputs": [],
   "source": [
    "# Drop unnecessary columns\n",
    "data_full = data_full.drop([\"creator_id\"], axis=1)"
   ]
  },
  {
   "cell_type": "code",
   "execution_count": 1628,
   "metadata": {
    "code_folding": [
     0
    ]
   },
   "outputs": [],
   "source": [
    "# Reassign X_train and y_train after sampling\n",
    "X_train_full = data_full.drop([\"state\"], axis=1)\n",
    "y_train_full = data_full[\"state\"]\n",
    "X_test_full = X_test_full.drop([\"creator_id\"], axis=1)"
   ]
  },
  {
   "cell_type": "markdown",
   "metadata": {},
   "source": [
    "**Dummy classifier (to establish baseline)**"
   ]
  },
  {
   "cell_type": "code",
   "execution_count": 1629,
   "metadata": {
    "code_folding": [
     0
    ],
    "scrolled": false
   },
   "outputs": [],
   "source": [
    "# Dummy classifier (requires train/test split)\n",
    "dum_clf = DummyClassifier(strategy='most_frequent').fit(X_train_full,y_train_full)\n",
    "y_pred_dum_clf = dum_clf.predict(X_test_full)\n",
    "\n",
    "#Distribution of y test\n",
    "#print('y actual : \\n' +  str(y_test_full.value_counts()))\n",
    "\n",
    "#Distribution of y predicted\n",
    "#print('y predicted : \\n' + str(pd.Series(y_pred_dum_clf).value_counts()))"
   ]
  },
  {
   "cell_type": "markdown",
   "metadata": {},
   "source": [
    "**Pipeline for imputing and scaling numerical and categorical features (classifcation)**"
   ]
  },
  {
   "cell_type": "code",
   "execution_count": 1630,
   "metadata": {
    "code_folding": [
     0
    ]
   },
   "outputs": [
    {
     "data": {
      "text/plain": [
       "['category', 'country']"
      ]
     },
     "execution_count": 1630,
     "metadata": {},
     "output_type": "execute_result"
    }
   ],
   "source": [
    "# Creating list for categorical predictors/features (used in \"Scaling with Preprocessing Pipeline\") \n",
    "cat_features = list(data_full.columns[data_full.dtypes==object])\n",
    "cat_features"
   ]
  },
  {
   "cell_type": "code",
   "execution_count": 1631,
   "metadata": {
    "code_folding": [
     0
    ]
   },
   "outputs": [
    {
     "data": {
      "text/plain": [
       "['campaign_days',\n",
       " 'launched_at_cont',\n",
       " 'creator_mult_projects',\n",
       " 'goal_converted_log']"
      ]
     },
     "execution_count": 1631,
     "metadata": {},
     "output_type": "execute_result"
    }
   ],
   "source": [
    "# Creating list for numerical predictors/features (removing target column, used in \"Scaling with Preprocessing Pipeline\")\n",
    "num_features = list(data_full.columns[data_full.dtypes!=object])\n",
    "num_features.remove('state')\n",
    "num_features"
   ]
  },
  {
   "cell_type": "code",
   "execution_count": 1632,
   "metadata": {
    "code_folding": [
     0
    ]
   },
   "outputs": [],
   "source": [
    "# Pipeline using Pipeline\n",
    "# Pipeline for numerical features\n",
    "num_pipeline = Pipeline([\n",
    "    ('imputer_num', SimpleImputer(strategy='median')),\n",
    "    ('std_scaler', StandardScaler())\n",
    "])\n",
    "\n",
    "# Pipeline for categorical features \n",
    "cat_pipeline = Pipeline([\n",
    "    ('imputer_cat', SimpleImputer(strategy='constant', fill_value='missing')),\n",
    "    ('1hot', OneHotEncoder(handle_unknown='ignore'))\n",
    "])\n",
    "\n",
    "# Complete pipeline\n",
    "preprocessor = ColumnTransformer([\n",
    "    ('num', num_pipeline, num_features),\n",
    "    ('cat', cat_pipeline, cat_features)\n",
    "])"
   ]
  },
  {
   "cell_type": "code",
   "execution_count": 1633,
   "metadata": {
    "code_folding": [
     0
    ]
   },
   "outputs": [],
   "source": [
    "# Saving preprocessed X_train and X_test\n",
    "X_train_prep_full = preprocessor.fit_transform(X_train_full)\n",
    "X_test_prep_full = preprocessor.transform(X_test_full)"
   ]
  },
  {
   "cell_type": "markdown",
   "metadata": {},
   "source": [
    "## Train/test and preprocessing (balanced dataset)"
   ]
  },
  {
   "cell_type": "markdown",
   "metadata": {},
   "source": [
    "**Train/test split classification (\"state\") - balanced**"
   ]
  },
  {
   "cell_type": "code",
   "execution_count": 1634,
   "metadata": {
    "code_folding": [
     0
    ]
   },
   "outputs": [],
   "source": [
    "# Create dataset for \"balanced\" train/test split\n",
    "data_bal = data.copy()"
   ]
  },
  {
   "cell_type": "code",
   "execution_count": 1635,
   "metadata": {
    "code_folding": [
     0
    ]
   },
   "outputs": [],
   "source": [
    "# Define predictors and target variable\n",
    "X_bal = data_bal.drop([\"state\"], axis=1)\n",
    "y_bal = data_bal[\"state\"]"
   ]
  },
  {
   "cell_type": "code",
   "execution_count": 1636,
   "metadata": {
    "code_folding": [
     0
    ]
   },
   "outputs": [],
   "source": [
    "# Split data into training and testing sets\n",
    "X_train_bal, X_test_bal, y_train_bal, y_test_bal = train_test_split(X_bal,y_bal,test_size=test_size,\n",
    "                                                        random_state=random_state,\n",
    "                                                        shuffle=True,\n",
    "                                                                   stratify=y_bal) # Use stratify=Y if labels are inbalanced (e.g. most wines are 5 or 6; check with value_counts()!)"
   ]
  },
  {
   "cell_type": "markdown",
   "metadata": {},
   "source": [
    "**Balance dataset and remove entries of high-frequency creators**"
   ]
  },
  {
   "cell_type": "code",
   "execution_count": 1637,
   "metadata": {
    "code_folding": [
     0
    ]
   },
   "outputs": [],
   "source": [
    "# Temporarily concatenate X_train and y_train for reducing dataset\n",
    "data_bal = pd.concat([X_train_bal, y_train_bal], axis=1)"
   ]
  },
  {
   "cell_type": "code",
   "execution_count": 1638,
   "metadata": {
    "code_folding": [
     0
    ]
   },
   "outputs": [
    {
     "name": "stderr",
     "output_type": "stream",
     "text": [
      "/opt/anaconda3/envs/nf/lib/python3.6/site-packages/ipykernel_launcher.py:2: UserWarning:\n",
      "\n",
      "Boolean Series key will be reindexed to match DataFrame index.\n",
      "\n",
      "/opt/anaconda3/envs/nf/lib/python3.6/site-packages/ipykernel_launcher.py:3: UserWarning:\n",
      "\n",
      "Boolean Series key will be reindexed to match DataFrame index.\n",
      "\n"
     ]
    },
    {
     "data": {
      "text/plain": [
       "1    56819\n",
       "0     8649\n",
       "Name: state, dtype: int64"
      ]
     },
     "execution_count": 1638,
     "metadata": {},
     "output_type": "execute_result"
    }
   ],
   "source": [
    "# Reduce occurrences of \"successful\" for a more balanced dataset\n",
    "data_majority_bal = shuffle(data_bal[data.state==1], random_state=random_state)\n",
    "data_minority_bal = shuffle(data_bal[data.state==0], random_state=random_state)\n",
    "data_bal['state'].value_counts()"
   ]
  },
  {
   "cell_type": "code",
   "execution_count": 1639,
   "metadata": {
    "code_folding": [
     0
    ]
   },
   "outputs": [
    {
     "data": {
      "text/plain": [
       "1    28410\n",
       "0    17298\n",
       "Name: state, dtype: int64"
      ]
     },
     "execution_count": 1639,
     "metadata": {},
     "output_type": "execute_result"
    }
   ],
   "source": [
    "# sample with replacement to match majority class and get reproducible results\n",
    "data_upsampled_bal = resample(data_minority_bal, \n",
    "                                 replace=True,     \n",
    "                                 n_samples=round(len(data_minority_bal.index)*2),    \n",
    "                                 random_state=random_state)\n",
    "\n",
    "data_downsampled_bal = resample(data_majority_bal, \n",
    "                                 replace=True,     \n",
    "                                 n_samples=round(len(data_majority_bal.index)/2),    \n",
    "                                 random_state=random_state)\n",
    "\n",
    "data_bal = pd.concat([data_upsampled_bal, data_downsampled_bal], axis=0)\n",
    "\n",
    "# Display new class counts\n",
    "data_bal.state.value_counts()"
   ]
  },
  {
   "cell_type": "code",
   "execution_count": 1640,
   "metadata": {
    "code_folding": [
     0
    ]
   },
   "outputs": [],
   "source": [
    "# Remove all creators with more than 5 remaining entries (to reduce weighted impact) (1/2)\n",
    "data_bal = shuffle(data_bal, random_state=random_state)\n",
    "\n",
    "data_bal[\"creator_over_five\"] = count_over_five(data_bal, \"creator_id\")"
   ]
  },
  {
   "cell_type": "code",
   "execution_count": 1641,
   "metadata": {
    "code_folding": [
     0
    ]
   },
   "outputs": [],
   "source": [
    "# Remove all creators with more than 5 remaining entries (to reduce weighted impact) (2/2)\n",
    "data_bal = data_bal[data_bal.creator_over_five==0]\n",
    "data_bal = data_bal.drop([\"creator_over_five\"], axis=1)"
   ]
  },
  {
   "cell_type": "code",
   "execution_count": 1642,
   "metadata": {
    "code_folding": [
     0
    ]
   },
   "outputs": [],
   "source": [
    "# Drop unnecessary columns\n",
    "data_bal = data_bal.drop([\"creator_id\"], axis=1)"
   ]
  },
  {
   "cell_type": "code",
   "execution_count": 1643,
   "metadata": {
    "code_folding": [
     0
    ]
   },
   "outputs": [],
   "source": [
    "# Reassign X_train and y_train after sampling\n",
    "X_train_bal = data_bal.drop([\"state\"], axis=1)\n",
    "y_train_bal = data_bal[\"state\"]\n",
    "X_test_bal = X_test_bal.drop([\"creator_id\"], axis=1)"
   ]
  },
  {
   "cell_type": "markdown",
   "metadata": {},
   "source": [
    "**Pipeline for imputing and scaling numerical and categorical features (classifcation) - balanced**"
   ]
  },
  {
   "cell_type": "code",
   "execution_count": 1644,
   "metadata": {
    "code_folding": [
     0
    ]
   },
   "outputs": [
    {
     "data": {
      "text/plain": [
       "['category', 'country']"
      ]
     },
     "execution_count": 1644,
     "metadata": {},
     "output_type": "execute_result"
    }
   ],
   "source": [
    "# Creating list for categorical predictors/features (used in \"Scaling with Preprocessing Pipeline\") \n",
    "cat_features_bal = list(data_bal.columns[data_bal.dtypes==object])\n",
    "cat_features_bal"
   ]
  },
  {
   "cell_type": "code",
   "execution_count": 1645,
   "metadata": {
    "code_folding": [
     0
    ]
   },
   "outputs": [
    {
     "data": {
      "text/plain": [
       "['campaign_days',\n",
       " 'launched_at_cont',\n",
       " 'creator_mult_projects',\n",
       " 'goal_converted_log']"
      ]
     },
     "execution_count": 1645,
     "metadata": {},
     "output_type": "execute_result"
    }
   ],
   "source": [
    "# Creating list for numerical predictors/features (removing target column, used in \"Scaling with Preprocessing Pipeline\")\n",
    "num_features_bal = list(data_bal.columns[data_bal.dtypes!=object])\n",
    "num_features_bal.remove('state')\n",
    "num_features_bal"
   ]
  },
  {
   "cell_type": "code",
   "execution_count": 1646,
   "metadata": {
    "code_folding": [
     0
    ]
   },
   "outputs": [],
   "source": [
    "# Pipeline using Pipeline\n",
    "# Pipeline for numerical features\n",
    "num_pipeline_bal = Pipeline([\n",
    "    ('imputer_num', SimpleImputer(strategy='median')),\n",
    "    ('std_scaler', StandardScaler())\n",
    "])\n",
    "\n",
    "# Pipeline for categorical features \n",
    "cat_pipeline_bal = Pipeline([\n",
    "    ('imputer_cat', SimpleImputer(strategy='constant', fill_value='missing')),\n",
    "    ('1hot', OneHotEncoder(handle_unknown='ignore'))\n",
    "])\n",
    "\n",
    "# Complete pipeline\n",
    "preprocessor_bal = ColumnTransformer([\n",
    "    ('num', num_pipeline_bal, num_features_bal),\n",
    "    ('cat', cat_pipeline_bal, cat_features_bal)\n",
    "])"
   ]
  },
  {
   "cell_type": "code",
   "execution_count": 1647,
   "metadata": {
    "code_folding": [
     0
    ]
   },
   "outputs": [],
   "source": [
    "# Saving preprocessed X_train and X_test\n",
    "X_train_prep_bal = preprocessor_bal.fit_transform(X_train_bal)\n",
    "X_test_prep_bal = preprocessor_bal.transform(X_test_bal)"
   ]
  },
  {
   "cell_type": "markdown",
   "metadata": {},
   "source": [
    "## Train/test and preprocessing (reduced dataset)"
   ]
  },
  {
   "cell_type": "markdown",
   "metadata": {},
   "source": [
    "**Train/test split classification (\"state\") - reduced**"
   ]
  },
  {
   "cell_type": "code",
   "execution_count": 1719,
   "metadata": {
    "code_folding": [
     0
    ]
   },
   "outputs": [],
   "source": [
    "# Create dataset for \"reduced\" train/test split\n",
    "data_red = data.copy()"
   ]
  },
  {
   "cell_type": "code",
   "execution_count": 1720,
   "metadata": {
    "code_folding": [
     0
    ]
   },
   "outputs": [],
   "source": [
    "# Define predictors and target variable\n",
    "X_red = data_red.drop([\"state\"], axis=1)\n",
    "y_red = data_red[\"state\"]"
   ]
  },
  {
   "cell_type": "code",
   "execution_count": 1721,
   "metadata": {
    "code_folding": [
     0
    ]
   },
   "outputs": [],
   "source": [
    "# Split data into training and testing sets\n",
    "X_train_red, X_test_red, y_train_red, y_test_red = train_test_split(X_red,y_red,test_size=test_size,\n",
    "                                                        random_state=random_state,\n",
    "                                                        shuffle=True,\n",
    "                                                                   stratify=y_red) # Use stratify=Y if labels are inbalanced (e.g. most wines are 5 or 6; check with value_counts()!)"
   ]
  },
  {
   "cell_type": "markdown",
   "metadata": {},
   "source": [
    "**Remove entries of high-frequency creators, opt. balance dataset**"
   ]
  },
  {
   "cell_type": "code",
   "execution_count": 1722,
   "metadata": {
    "code_folding": [
     0
    ]
   },
   "outputs": [],
   "source": [
    "# Temporarily concatenate X_train and y_train for reducing dataset\n",
    "data_red = pd.concat([X_train_red, y_train_red], axis=1)"
   ]
  },
  {
   "cell_type": "code",
   "execution_count": 1723,
   "metadata": {
    "code_folding": [
     0
    ]
   },
   "outputs": [
    {
     "name": "stdout",
     "output_type": "stream",
     "text": [
      "1    8671\n",
      "0    1329\n",
      "Name: state, dtype: int64\n"
     ]
    }
   ],
   "source": [
    "# Sample n_reduced rows out of data_red dataset\n",
    "data_red = data_red.sample(n=n_reduced, random_state=random_state)\n",
    "print(data_red.state.value_counts())"
   ]
  },
  {
   "cell_type": "code",
   "execution_count": 1724,
   "metadata": {
    "code_folding": [
     0
    ],
    "scrolled": true
   },
   "outputs": [
    {
     "name": "stderr",
     "output_type": "stream",
     "text": [
      "/opt/anaconda3/envs/nf/lib/python3.6/site-packages/ipykernel_launcher.py:2: UserWarning:\n",
      "\n",
      "Boolean Series key will be reindexed to match DataFrame index.\n",
      "\n",
      "/opt/anaconda3/envs/nf/lib/python3.6/site-packages/ipykernel_launcher.py:3: UserWarning:\n",
      "\n",
      "Boolean Series key will be reindexed to match DataFrame index.\n",
      "\n"
     ]
    },
    {
     "data": {
      "text/plain": [
       "1    8671\n",
       "0    1329\n",
       "Name: state, dtype: int64"
      ]
     },
     "execution_count": 1724,
     "metadata": {},
     "output_type": "execute_result"
    }
   ],
   "source": [
    "# Reduce occurrences of \"successful\" for a more balanced dataset (OPTIONAL)\n",
    "data_majority_red = shuffle(data_red[data.state==1], random_state=random_state)\n",
    "data_minority_red = shuffle(data_red[data.state==0], random_state=random_state)\n",
    "data_red['state'].value_counts()"
   ]
  },
  {
   "cell_type": "code",
   "execution_count": 1725,
   "metadata": {
    "code_folding": [
     0
    ]
   },
   "outputs": [
    {
     "data": {
      "text/plain": [
       "1    4336\n",
       "0    2658\n",
       "Name: state, dtype: int64"
      ]
     },
     "execution_count": 1725,
     "metadata": {},
     "output_type": "execute_result"
    }
   ],
   "source": [
    "# Sample with replacement to match majority class and get reproducible results\n",
    "data_upsampled_red = resample(data_minority_red, \n",
    "                                 replace=True,     \n",
    "                                 n_samples=round(len(data_minority_red.index))*2,    \n",
    "                                 random_state=random_state)\n",
    "\n",
    "data_downsampled_red = resample(data_majority_red, \n",
    "                                 replace=True,     \n",
    "                                 n_samples=round(len(data_majority_red.index)/2),    \n",
    "                                 random_state=random_state)\n",
    "\n",
    "data_red = pd.concat([data_upsampled_red, data_downsampled_red], axis=0)\n",
    "\n",
    "# Display new class counts\n",
    "data_red.state.value_counts()"
   ]
  },
  {
   "cell_type": "code",
   "execution_count": 1726,
   "metadata": {
    "code_folding": [
     0
    ]
   },
   "outputs": [],
   "source": [
    "# Remove all creators with more than 5 remaining entries (to reduce weighted impact) (1/2)\n",
    "data_red = shuffle(data_red, random_state=random_state)\n",
    "\n",
    "data_red[\"creator_over_five\"] = count_over_five(data_red, \"creator_id\")"
   ]
  },
  {
   "cell_type": "code",
   "execution_count": 1727,
   "metadata": {
    "code_folding": [
     0
    ]
   },
   "outputs": [
    {
     "data": {
      "text/plain": [
       "1    4335\n",
       "0    2618\n",
       "Name: state, dtype: int64"
      ]
     },
     "execution_count": 1727,
     "metadata": {},
     "output_type": "execute_result"
    }
   ],
   "source": [
    "# Remove all creators with more than 5 remaining entries (to reduce weighted impact) (2/2)\n",
    "data_red = data_red[data_red.creator_over_five==0]\n",
    "data_red = data_red.drop([\"creator_over_five\"], axis=1)\n",
    "data_red.state.value_counts()"
   ]
  },
  {
   "cell_type": "code",
   "execution_count": 1728,
   "metadata": {
    "code_folding": [
     0
    ]
   },
   "outputs": [],
   "source": [
    "# Drop unnecessary columns\n",
    "data_red = data_red.drop([\"creator_id\"], axis=1)"
   ]
  },
  {
   "cell_type": "code",
   "execution_count": 1729,
   "metadata": {
    "code_folding": [
     0
    ]
   },
   "outputs": [],
   "source": [
    "# Define predictors and target variable\n",
    "X_train_red = data_red.drop([\"state\"], axis=1)\n",
    "y_train_red = data_red[\"state\"]\n",
    "X_test_red = X_test_red.drop([\"creator_id\"], axis=1)"
   ]
  },
  {
   "cell_type": "markdown",
   "metadata": {},
   "source": [
    "**Pipeline for imputing and scaling numerical and categorical features (classifcation) - reduced**"
   ]
  },
  {
   "cell_type": "code",
   "execution_count": 1730,
   "metadata": {
    "code_folding": [
     0
    ]
   },
   "outputs": [
    {
     "data": {
      "text/plain": [
       "['category', 'country']"
      ]
     },
     "execution_count": 1730,
     "metadata": {},
     "output_type": "execute_result"
    }
   ],
   "source": [
    "# Creating list for categorical predictors/features (used in \"Scaling with Preprocessing Pipeline\") \n",
    "cat_features_red = list(data_red.columns[data_red.dtypes==object])\n",
    "cat_features_red"
   ]
  },
  {
   "cell_type": "code",
   "execution_count": 1731,
   "metadata": {
    "code_folding": [
     0
    ]
   },
   "outputs": [
    {
     "data": {
      "text/plain": [
       "['campaign_days',\n",
       " 'launched_at_cont',\n",
       " 'creator_mult_projects',\n",
       " 'goal_converted_log']"
      ]
     },
     "execution_count": 1731,
     "metadata": {},
     "output_type": "execute_result"
    }
   ],
   "source": [
    "# Creating list for numerical predictors/features (removing target column, used in \"Scaling with Preprocessing Pipeline\")\n",
    "num_features_red = list(data_red.columns[data_red.dtypes!=object])\n",
    "num_features_red.remove('state')\n",
    "num_features_red"
   ]
  },
  {
   "cell_type": "code",
   "execution_count": 1732,
   "metadata": {
    "code_folding": [
     0
    ]
   },
   "outputs": [],
   "source": [
    "# Pipeline using Pipeline\n",
    "# Pipeline for numerical features\n",
    "num_pipeline_red = Pipeline([\n",
    "    ('imputer_num', SimpleImputer(strategy='median')),\n",
    "    ('std_scaler', StandardScaler())\n",
    "])\n",
    "\n",
    "# Pipeline for categorical features \n",
    "cat_pipeline_red = Pipeline([\n",
    "    ('imputer_cat', SimpleImputer(strategy='constant', fill_value='missing')),\n",
    "    ('1hot', OneHotEncoder(handle_unknown='ignore'))\n",
    "])\n",
    "\n",
    "# Complete pipeline\n",
    "preprocessor_red = ColumnTransformer([\n",
    "    ('num', num_pipeline_red, num_features_red),\n",
    "    ('cat', cat_pipeline_red, cat_features_red)\n",
    "])"
   ]
  },
  {
   "cell_type": "code",
   "execution_count": 1733,
   "metadata": {
    "code_folding": [
     0
    ]
   },
   "outputs": [],
   "source": [
    "# Saving preprocessed X_train and X_test\n",
    "X_train_prep_red = preprocessor_red.fit_transform(X_train_red)\n",
    "X_test_prep_red = preprocessor_red.transform(X_test_red)"
   ]
  },
  {
   "cell_type": "markdown",
   "metadata": {},
   "source": [
    "**Define \"select_dataset\" function**"
   ]
  },
  {
   "cell_type": "code",
   "execution_count": 1734,
   "metadata": {
    "code_folding": [
     0
    ]
   },
   "outputs": [],
   "source": [
    "# Define function to select dataset for each individual model\n",
    "def select_dataset_clf(key):\n",
    "    if key == \"full\":\n",
    "        X_train = X_train_full\n",
    "        X_test = X_test_full\n",
    "        y_train = y_train_full\n",
    "        y_test = y_test_full\n",
    "        X_train_prep = X_train_prep_full\n",
    "        X_test_prep = X_test_prep_full\n",
    "    elif key == \"balanced\":\n",
    "        X_train = X_train_bal\n",
    "        X_test = X_test_bal\n",
    "        y_train = y_train_bal\n",
    "        y_test = y_test_bal\n",
    "        X_train_prep = X_train_prep_bal\n",
    "        X_test_prep = X_test_prep_bal\n",
    "    elif key == \"reduced\":\n",
    "        X_train = X_train_red\n",
    "        X_test = X_test_red\n",
    "        y_train = y_train_red\n",
    "        y_test = y_test_red\n",
    "        X_train_prep = X_train_prep_red\n",
    "        X_test_prep = X_test_prep_red\n",
    "    else:\n",
    "        print(\"Please enter valid key\")\n",
    "    print(f\"You are currently working with the {key} dataset\")\n",
    "    return X_train, X_test, y_train, y_test, X_train_prep, X_test_prep"
   ]
  },
  {
   "cell_type": "markdown",
   "metadata": {},
   "source": [
    "# Predictive Modeling: Classification (\"state\")\n",
    "Purpose: Train machine learning models (supervised learning), evaluate their performance and use them to make predictions"
   ]
  },
  {
   "cell_type": "markdown",
   "metadata": {},
   "source": [
    "## LogReg (with GridSearch)"
   ]
  },
  {
   "cell_type": "code",
   "execution_count": 1781,
   "metadata": {
    "code_folding": []
   },
   "outputs": [
    {
     "name": "stdout",
     "output_type": "stream",
     "text": [
      "You are currently working with the reduced dataset\n"
     ]
    }
   ],
   "source": [
    "# Select dataset (\"full\", \"balanced\", \"reduced\") - SELECT BEFORE RUNNING MODEL\n",
    "dataset = \"reduced\"\n",
    "X_train, X_test, y_train, y_test, X_train_prep, X_test_prep = select_dataset_clf(dataset)"
   ]
  },
  {
   "cell_type": "code",
   "execution_count": 1782,
   "metadata": {
    "code_folding": []
   },
   "outputs": [
    {
     "name": "stdout",
     "output_type": "stream",
     "text": [
      "6953\n",
      "28058\n",
      "6953\n",
      "28058\n",
      "Index(['campaign_days', 'category', 'country', 'launched_at_cont',\n",
      "       'creator_mult_projects', 'goal_converted_log'],\n",
      "      dtype='object')\n",
      "Index(['campaign_days', 'category', 'country', 'launched_at_cont',\n",
      "       'creator_mult_projects', 'goal_converted_log'],\n",
      "      dtype='object')\n"
     ]
    }
   ],
   "source": [
    "# Test whether select_dataset_clf is working correctly\n",
    "print(len(X_train))\n",
    "print(len(X_test))\n",
    "print(len(y_train))\n",
    "print(len(y_test))\n",
    "print(X_train.columns)\n",
    "print(X_test.columns)"
   ]
  },
  {
   "cell_type": "markdown",
   "metadata": {},
   "source": [
    "**Apply logistic regression**"
   ]
  },
  {
   "cell_type": "code",
   "execution_count": 1783,
   "metadata": {
    "code_folding": []
   },
   "outputs": [],
   "source": [
    "# Logistic regression (using pipeline)\n",
    "pipeline_logreg = Pipeline([\n",
    "    ('preprocessor', preprocessor),\n",
    "    ('logreg', LogisticRegression(max_iter=1000))\n",
    "])"
   ]
  },
  {
   "cell_type": "code",
   "execution_count": 1784,
   "metadata": {
    "code_folding": []
   },
   "outputs": [],
   "source": [
    "# Logistic regression (using pipeline, making predictions using cross validation and probabilities)\n",
    "y_train_pred_logreg = cross_val_predict(pipeline_logreg, X_train, y_train, cv=5)"
   ]
  },
  {
   "cell_type": "code",
   "execution_count": 1785,
   "metadata": {
    "code_folding": [],
    "scrolled": false
   },
   "outputs": [
    {
     "name": "stdout",
     "output_type": "stream",
     "text": [
      "Cross validation scores:\n",
      "-------------------------\n",
      "Accuracy: 0.75\n",
      "Recall: 0.84\n",
      "Precision: 0.78\n",
      "F1 Score: 0.81\n",
      "Confusion Matrix: \n",
      "[[1560 1058]\n",
      " [ 682 3653]]\n"
     ]
    }
   ],
   "source": [
    "# Logistic regression (using pipeline, printing results)\n",
    "print('Cross validation scores:')\n",
    "print('-------------------------')\n",
    "print(\"Accuracy: {:.2f}\".format(accuracy_score(y_train, y_train_pred_logreg)))\n",
    "print(\"Recall: {:.2f}\".format(recall_score(y_train, y_train_pred_logreg)))\n",
    "print(\"Precision: {:.2f}\".format(precision_score(y_train, y_train_pred_logreg)))\n",
    "print(\"F1 Score: {:.2f}\".format(f1_score(y_train, y_train_pred_logreg)))\n",
    "print(\"Confusion Matrix: \\n\" + str(confusion_matrix(y_train, y_train_pred_logreg)))"
   ]
  },
  {
   "cell_type": "markdown",
   "metadata": {},
   "source": [
    "**Grid Search (Pipeline)**"
   ]
  },
  {
   "cell_type": "code",
   "execution_count": 1786,
   "metadata": {
    "code_folding": []
   },
   "outputs": [],
   "source": [
    "# Defining hyperparameters for grid-search (C initial: [0.01, 0.1, 1, 10, 100]; adapted according to optimal results)\n",
    "param_logreg = {'logreg__penalty':('l1','l2'),\n",
    "                'logreg__C': [0.05, 0.08, 0.1, 0.2, 0.5, 1],\n",
    "                'logreg__class_weight': [{0: x, 1: 1.0-x} for x in [0.1,0.25,0.5,0.75,0.9]]\n",
    "               }\n",
    "\n",
    "grid_logreg = GridSearchCV(pipeline_logreg, param_grid=param_logreg, cv=5, scoring=scoring, \n",
    "                           verbose=5, n_jobs=-1) # scoring can also be \"precision\", \"recall\", ..."
   ]
  },
  {
   "cell_type": "code",
   "execution_count": 1787,
   "metadata": {
    "code_folding": [],
    "scrolled": true
   },
   "outputs": [
    {
     "name": "stdout",
     "output_type": "stream",
     "text": [
      "Fitting 5 folds for each of 60 candidates, totalling 300 fits\n"
     ]
    },
    {
     "name": "stderr",
     "output_type": "stream",
     "text": [
      "[Parallel(n_jobs=-1)]: Using backend LokyBackend with 4 concurrent workers.\n",
      "[Parallel(n_jobs=-1)]: Done  12 tasks      | elapsed:    0.4s\n",
      "[Parallel(n_jobs=-1)]: Done 120 tasks      | elapsed:    2.5s\n",
      "[Parallel(n_jobs=-1)]: Done 293 out of 300 | elapsed:    5.6s remaining:    0.1s\n",
      "[Parallel(n_jobs=-1)]: Done 300 out of 300 | elapsed:    5.7s finished\n"
     ]
    },
    {
     "data": {
      "text/plain": [
       "GridSearchCV(cv=5, error_score=nan,\n",
       "             estimator=Pipeline(memory=None,\n",
       "                                steps=[('preprocessor',\n",
       "                                        ColumnTransformer(n_jobs=None,\n",
       "                                                          remainder='drop',\n",
       "                                                          sparse_threshold=0.3,\n",
       "                                                          transformer_weights=None,\n",
       "                                                          transformers=[('num',\n",
       "                                                                         Pipeline(memory=None,\n",
       "                                                                                  steps=[('imputer_num',\n",
       "                                                                                          SimpleImputer(add_indicator=False,\n",
       "                                                                                                        copy=True,\n",
       "                                                                                                        fill_value=None,\n",
       "                                                                                                        missing_values=nan,\n",
       "                                                                                                        strategy='median',\n",
       "                                                                                                        verbose=...\n",
       "                                                           verbose=0,\n",
       "                                                           warm_start=False))],\n",
       "                                verbose=False),\n",
       "             iid='deprecated', n_jobs=-1,\n",
       "             param_grid={'logreg__C': [0.05, 0.08, 0.1, 0.2, 0.5, 1],\n",
       "                         'logreg__class_weight': [{0: 0.1, 1: 0.9},\n",
       "                                                  {0: 0.25, 1: 0.75},\n",
       "                                                  {0: 0.5, 1: 0.5},\n",
       "                                                  {0: 0.75, 1: 0.25},\n",
       "                                                  {0: 0.9,\n",
       "                                                   1: 0.09999999999999998}],\n",
       "                         'logreg__penalty': ('l1', 'l2')},\n",
       "             pre_dispatch='2*n_jobs', refit=True, return_train_score=False,\n",
       "             scoring='f1', verbose=5)"
      ]
     },
     "execution_count": 1787,
     "metadata": {},
     "output_type": "execute_result"
    }
   ],
   "source": [
    "# Fit model\n",
    "grid_logreg.fit(X_train, y_train)"
   ]
  },
  {
   "cell_type": "code",
   "execution_count": 1788,
   "metadata": {
    "code_folding": []
   },
   "outputs": [
    {
     "name": "stdout",
     "output_type": "stream",
     "text": [
      "Best score:\n",
      "0.81\n",
      "Best parameters:\n",
      "{'logreg__C': 0.1, 'logreg__class_weight': {0: 0.5, 1: 0.5}, 'logreg__penalty': 'l2'}\n"
     ]
    }
   ],
   "source": [
    "# Show best parameters\n",
    "print('Best score:\\n{:.2f}'.format(grid_logreg.best_score_))\n",
    "print(\"Best parameters:\\n{}\".format(grid_logreg.best_params_))"
   ]
  },
  {
   "cell_type": "code",
   "execution_count": 1789,
   "metadata": {
    "code_folding": []
   },
   "outputs": [],
   "source": [
    "# Save best model as best_model\n",
    "best_model_logreg = grid_logreg.best_estimator_['logreg']"
   ]
  },
  {
   "cell_type": "markdown",
   "metadata": {},
   "source": [
    "**Final Evaluation**"
   ]
  },
  {
   "cell_type": "code",
   "execution_count": 1790,
   "metadata": {
    "code_folding": [],
    "scrolled": true
   },
   "outputs": [
    {
     "name": "stdout",
     "output_type": "stream",
     "text": [
      "Accuracy: 0.81\n",
      "Recall: 0.85\n",
      "Precision: 0.93\n",
      "F1 Score: 0.89\n",
      "Confusion Matrix: \n",
      "[[ 2126  1581]\n",
      " [ 3662 20689]]\n"
     ]
    }
   ],
   "source": [
    "# Calculating the accuracy, recall and precision for the test set with the optimized model\n",
    "y_pred_logreg = best_model_logreg.predict(X_test_prep)\n",
    "\n",
    "print(\"Accuracy: {:.2f}\".format(accuracy_score(y_test, y_pred_logreg)))\n",
    "print(\"Recall: {:.2f}\".format(recall_score(y_test, y_pred_logreg)))\n",
    "print(\"Precision: {:.2f}\".format(precision_score(y_test, y_pred_logreg)))\n",
    "print(\"F1 Score: {:.2f}\".format(f1_score(y_test, y_pred_logreg)))\n",
    "print(\"Confusion Matrix: \\n\" + str(confusion_matrix(y_test, y_pred_logreg)))"
   ]
  },
  {
   "cell_type": "markdown",
   "metadata": {},
   "source": [
    "## KNeighbors Classifier"
   ]
  },
  {
   "cell_type": "code",
   "execution_count": 1802,
   "metadata": {},
   "outputs": [
    {
     "name": "stdout",
     "output_type": "stream",
     "text": [
      "You are currently working with the full dataset\n"
     ]
    }
   ],
   "source": [
    "# Select dataset (\"full\", \"balanced\", \"reduced\") - SELECT BEFORE RUNNING MODEL\n",
    "dataset = \"full\"\n",
    "X_train, X_test, y_train, y_test, X_train_prep, X_test_prep = select_dataset_clf(dataset)"
   ]
  },
  {
   "cell_type": "markdown",
   "metadata": {},
   "source": [
    "**Apply KNeighborsClassifier**"
   ]
  },
  {
   "cell_type": "code",
   "execution_count": 1803,
   "metadata": {
    "code_folding": []
   },
   "outputs": [],
   "source": [
    "# Logistic regression (using pipeline)\n",
    "pipeline_knn = Pipeline([\n",
    "    ('preprocessor', preprocessor),\n",
    "    ('knn', KNeighborsClassifier())\n",
    "])"
   ]
  },
  {
   "cell_type": "markdown",
   "metadata": {},
   "source": [
    "**Grid Search (Pipeline)**"
   ]
  },
  {
   "cell_type": "code",
   "execution_count": 1804,
   "metadata": {
    "code_folding": []
   },
   "outputs": [],
   "source": [
    "# Defining hyperparameter space for grid-search\n",
    "param_knn = {'knn__leaf_size': list(range(1,50,10)), # default: list(range(1,50,1))\n",
    "             'knn__n_neighbors': list(range(1,30,10))} # default: list(range(1,30,1))\n",
    "\n",
    "grid_knn = GridSearchCV(pipeline_knn, param_grid=param_knn, cv=5, scoring=scoring, \n",
    "                           verbose=4, n_jobs=-1) # scoring can also be \"precision\", \"recall\", ..."
   ]
  },
  {
   "cell_type": "code",
   "execution_count": 1805,
   "metadata": {
    "code_folding": [],
    "scrolled": false
   },
   "outputs": [
    {
     "name": "stdout",
     "output_type": "stream",
     "text": [
      "Fitting 5 folds for each of 15 candidates, totalling 75 fits\n"
     ]
    },
    {
     "name": "stderr",
     "output_type": "stream",
     "text": [
      "[Parallel(n_jobs=-1)]: Using backend LokyBackend with 4 concurrent workers.\n"
     ]
    },
    {
     "ename": "KeyboardInterrupt",
     "evalue": "",
     "output_type": "error",
     "traceback": [
      "\u001b[0;31m---------------------------------------------------------------------------\u001b[0m",
      "\u001b[0;31mKeyboardInterrupt\u001b[0m                         Traceback (most recent call last)",
      "\u001b[0;32m<ipython-input-1805-d4e8f07a04a2>\u001b[0m in \u001b[0;36m<module>\u001b[0;34m\u001b[0m\n\u001b[1;32m      1\u001b[0m \u001b[0;31m# Fit model\u001b[0m\u001b[0;34m\u001b[0m\u001b[0;34m\u001b[0m\u001b[0;34m\u001b[0m\u001b[0m\n\u001b[0;32m----> 2\u001b[0;31m \u001b[0mgrid_knn\u001b[0m\u001b[0;34m.\u001b[0m\u001b[0mfit\u001b[0m\u001b[0;34m(\u001b[0m\u001b[0mX_train\u001b[0m\u001b[0;34m,\u001b[0m \u001b[0my_train\u001b[0m\u001b[0;34m)\u001b[0m\u001b[0;34m\u001b[0m\u001b[0;34m\u001b[0m\u001b[0m\n\u001b[0m",
      "\u001b[0;32m/opt/anaconda3/envs/nf/lib/python3.6/site-packages/sklearn/model_selection/_search.py\u001b[0m in \u001b[0;36mfit\u001b[0;34m(self, X, y, groups, **fit_params)\u001b[0m\n\u001b[1;32m    708\u001b[0m                 \u001b[0;32mreturn\u001b[0m \u001b[0mresults\u001b[0m\u001b[0;34m\u001b[0m\u001b[0;34m\u001b[0m\u001b[0m\n\u001b[1;32m    709\u001b[0m \u001b[0;34m\u001b[0m\u001b[0m\n\u001b[0;32m--> 710\u001b[0;31m             \u001b[0mself\u001b[0m\u001b[0;34m.\u001b[0m\u001b[0m_run_search\u001b[0m\u001b[0;34m(\u001b[0m\u001b[0mevaluate_candidates\u001b[0m\u001b[0;34m)\u001b[0m\u001b[0;34m\u001b[0m\u001b[0;34m\u001b[0m\u001b[0m\n\u001b[0m\u001b[1;32m    711\u001b[0m \u001b[0;34m\u001b[0m\u001b[0m\n\u001b[1;32m    712\u001b[0m         \u001b[0;31m# For multi-metric evaluation, store the best_index_, best_params_ and\u001b[0m\u001b[0;34m\u001b[0m\u001b[0;34m\u001b[0m\u001b[0;34m\u001b[0m\u001b[0m\n",
      "\u001b[0;32m/opt/anaconda3/envs/nf/lib/python3.6/site-packages/sklearn/model_selection/_search.py\u001b[0m in \u001b[0;36m_run_search\u001b[0;34m(self, evaluate_candidates)\u001b[0m\n\u001b[1;32m   1149\u001b[0m     \u001b[0;32mdef\u001b[0m \u001b[0m_run_search\u001b[0m\u001b[0;34m(\u001b[0m\u001b[0mself\u001b[0m\u001b[0;34m,\u001b[0m \u001b[0mevaluate_candidates\u001b[0m\u001b[0;34m)\u001b[0m\u001b[0;34m:\u001b[0m\u001b[0;34m\u001b[0m\u001b[0;34m\u001b[0m\u001b[0m\n\u001b[1;32m   1150\u001b[0m         \u001b[0;34m\"\"\"Search all candidates in param_grid\"\"\"\u001b[0m\u001b[0;34m\u001b[0m\u001b[0;34m\u001b[0m\u001b[0m\n\u001b[0;32m-> 1151\u001b[0;31m         \u001b[0mevaluate_candidates\u001b[0m\u001b[0;34m(\u001b[0m\u001b[0mParameterGrid\u001b[0m\u001b[0;34m(\u001b[0m\u001b[0mself\u001b[0m\u001b[0;34m.\u001b[0m\u001b[0mparam_grid\u001b[0m\u001b[0;34m)\u001b[0m\u001b[0;34m)\u001b[0m\u001b[0;34m\u001b[0m\u001b[0;34m\u001b[0m\u001b[0m\n\u001b[0m\u001b[1;32m   1152\u001b[0m \u001b[0;34m\u001b[0m\u001b[0m\n\u001b[1;32m   1153\u001b[0m \u001b[0;34m\u001b[0m\u001b[0m\n",
      "\u001b[0;32m/opt/anaconda3/envs/nf/lib/python3.6/site-packages/sklearn/model_selection/_search.py\u001b[0m in \u001b[0;36mevaluate_candidates\u001b[0;34m(candidate_params)\u001b[0m\n\u001b[1;32m    687\u001b[0m                                \u001b[0;32mfor\u001b[0m \u001b[0mparameters\u001b[0m\u001b[0;34m,\u001b[0m \u001b[0;34m(\u001b[0m\u001b[0mtrain\u001b[0m\u001b[0;34m,\u001b[0m \u001b[0mtest\u001b[0m\u001b[0;34m)\u001b[0m\u001b[0;34m\u001b[0m\u001b[0;34m\u001b[0m\u001b[0m\n\u001b[1;32m    688\u001b[0m                                in product(candidate_params,\n\u001b[0;32m--> 689\u001b[0;31m                                           cv.split(X, y, groups)))\n\u001b[0m\u001b[1;32m    690\u001b[0m \u001b[0;34m\u001b[0m\u001b[0m\n\u001b[1;32m    691\u001b[0m                 \u001b[0;32mif\u001b[0m \u001b[0mlen\u001b[0m\u001b[0;34m(\u001b[0m\u001b[0mout\u001b[0m\u001b[0;34m)\u001b[0m \u001b[0;34m<\u001b[0m \u001b[0;36m1\u001b[0m\u001b[0;34m:\u001b[0m\u001b[0;34m\u001b[0m\u001b[0;34m\u001b[0m\u001b[0m\n",
      "\u001b[0;32m/opt/anaconda3/envs/nf/lib/python3.6/site-packages/joblib/parallel.py\u001b[0m in \u001b[0;36m__call__\u001b[0;34m(self, iterable)\u001b[0m\n\u001b[1;32m   1015\u001b[0m \u001b[0;34m\u001b[0m\u001b[0m\n\u001b[1;32m   1016\u001b[0m             \u001b[0;32mwith\u001b[0m \u001b[0mself\u001b[0m\u001b[0;34m.\u001b[0m\u001b[0m_backend\u001b[0m\u001b[0;34m.\u001b[0m\u001b[0mretrieval_context\u001b[0m\u001b[0;34m(\u001b[0m\u001b[0;34m)\u001b[0m\u001b[0;34m:\u001b[0m\u001b[0;34m\u001b[0m\u001b[0;34m\u001b[0m\u001b[0m\n\u001b[0;32m-> 1017\u001b[0;31m                 \u001b[0mself\u001b[0m\u001b[0;34m.\u001b[0m\u001b[0mretrieve\u001b[0m\u001b[0;34m(\u001b[0m\u001b[0;34m)\u001b[0m\u001b[0;34m\u001b[0m\u001b[0;34m\u001b[0m\u001b[0m\n\u001b[0m\u001b[1;32m   1018\u001b[0m             \u001b[0;31m# Make sure that we get a last message telling us we are done\u001b[0m\u001b[0;34m\u001b[0m\u001b[0;34m\u001b[0m\u001b[0;34m\u001b[0m\u001b[0m\n\u001b[1;32m   1019\u001b[0m             \u001b[0melapsed_time\u001b[0m \u001b[0;34m=\u001b[0m \u001b[0mtime\u001b[0m\u001b[0;34m.\u001b[0m\u001b[0mtime\u001b[0m\u001b[0;34m(\u001b[0m\u001b[0;34m)\u001b[0m \u001b[0;34m-\u001b[0m \u001b[0mself\u001b[0m\u001b[0;34m.\u001b[0m\u001b[0m_start_time\u001b[0m\u001b[0;34m\u001b[0m\u001b[0;34m\u001b[0m\u001b[0m\n",
      "\u001b[0;32m/opt/anaconda3/envs/nf/lib/python3.6/site-packages/joblib/parallel.py\u001b[0m in \u001b[0;36mretrieve\u001b[0;34m(self)\u001b[0m\n\u001b[1;32m    907\u001b[0m             \u001b[0;32mtry\u001b[0m\u001b[0;34m:\u001b[0m\u001b[0;34m\u001b[0m\u001b[0;34m\u001b[0m\u001b[0m\n\u001b[1;32m    908\u001b[0m                 \u001b[0;32mif\u001b[0m \u001b[0mgetattr\u001b[0m\u001b[0;34m(\u001b[0m\u001b[0mself\u001b[0m\u001b[0;34m.\u001b[0m\u001b[0m_backend\u001b[0m\u001b[0;34m,\u001b[0m \u001b[0;34m'supports_timeout'\u001b[0m\u001b[0;34m,\u001b[0m \u001b[0;32mFalse\u001b[0m\u001b[0;34m)\u001b[0m\u001b[0;34m:\u001b[0m\u001b[0;34m\u001b[0m\u001b[0;34m\u001b[0m\u001b[0m\n\u001b[0;32m--> 909\u001b[0;31m                     \u001b[0mself\u001b[0m\u001b[0;34m.\u001b[0m\u001b[0m_output\u001b[0m\u001b[0;34m.\u001b[0m\u001b[0mextend\u001b[0m\u001b[0;34m(\u001b[0m\u001b[0mjob\u001b[0m\u001b[0;34m.\u001b[0m\u001b[0mget\u001b[0m\u001b[0;34m(\u001b[0m\u001b[0mtimeout\u001b[0m\u001b[0;34m=\u001b[0m\u001b[0mself\u001b[0m\u001b[0;34m.\u001b[0m\u001b[0mtimeout\u001b[0m\u001b[0;34m)\u001b[0m\u001b[0;34m)\u001b[0m\u001b[0;34m\u001b[0m\u001b[0;34m\u001b[0m\u001b[0m\n\u001b[0m\u001b[1;32m    910\u001b[0m                 \u001b[0;32melse\u001b[0m\u001b[0;34m:\u001b[0m\u001b[0;34m\u001b[0m\u001b[0;34m\u001b[0m\u001b[0m\n\u001b[1;32m    911\u001b[0m                     \u001b[0mself\u001b[0m\u001b[0;34m.\u001b[0m\u001b[0m_output\u001b[0m\u001b[0;34m.\u001b[0m\u001b[0mextend\u001b[0m\u001b[0;34m(\u001b[0m\u001b[0mjob\u001b[0m\u001b[0;34m.\u001b[0m\u001b[0mget\u001b[0m\u001b[0;34m(\u001b[0m\u001b[0;34m)\u001b[0m\u001b[0;34m)\u001b[0m\u001b[0;34m\u001b[0m\u001b[0;34m\u001b[0m\u001b[0m\n",
      "\u001b[0;32m/opt/anaconda3/envs/nf/lib/python3.6/site-packages/joblib/_parallel_backends.py\u001b[0m in \u001b[0;36mwrap_future_result\u001b[0;34m(future, timeout)\u001b[0m\n\u001b[1;32m    560\u001b[0m         AsyncResults.get from multiprocessing.\"\"\"\n\u001b[1;32m    561\u001b[0m         \u001b[0;32mtry\u001b[0m\u001b[0;34m:\u001b[0m\u001b[0;34m\u001b[0m\u001b[0;34m\u001b[0m\u001b[0m\n\u001b[0;32m--> 562\u001b[0;31m             \u001b[0;32mreturn\u001b[0m \u001b[0mfuture\u001b[0m\u001b[0;34m.\u001b[0m\u001b[0mresult\u001b[0m\u001b[0;34m(\u001b[0m\u001b[0mtimeout\u001b[0m\u001b[0;34m=\u001b[0m\u001b[0mtimeout\u001b[0m\u001b[0;34m)\u001b[0m\u001b[0;34m\u001b[0m\u001b[0;34m\u001b[0m\u001b[0m\n\u001b[0m\u001b[1;32m    563\u001b[0m         \u001b[0;32mexcept\u001b[0m \u001b[0mLokyTimeoutError\u001b[0m\u001b[0;34m:\u001b[0m\u001b[0;34m\u001b[0m\u001b[0;34m\u001b[0m\u001b[0m\n\u001b[1;32m    564\u001b[0m             \u001b[0;32mraise\u001b[0m \u001b[0mTimeoutError\u001b[0m\u001b[0;34m(\u001b[0m\u001b[0;34m)\u001b[0m\u001b[0;34m\u001b[0m\u001b[0;34m\u001b[0m\u001b[0m\n",
      "\u001b[0;32m/opt/anaconda3/envs/nf/lib/python3.6/concurrent/futures/_base.py\u001b[0m in \u001b[0;36mresult\u001b[0;34m(self, timeout)\u001b[0m\n\u001b[1;32m    425\u001b[0m                 \u001b[0;32mreturn\u001b[0m \u001b[0mself\u001b[0m\u001b[0;34m.\u001b[0m\u001b[0m__get_result\u001b[0m\u001b[0;34m(\u001b[0m\u001b[0;34m)\u001b[0m\u001b[0;34m\u001b[0m\u001b[0;34m\u001b[0m\u001b[0m\n\u001b[1;32m    426\u001b[0m \u001b[0;34m\u001b[0m\u001b[0m\n\u001b[0;32m--> 427\u001b[0;31m             \u001b[0mself\u001b[0m\u001b[0;34m.\u001b[0m\u001b[0m_condition\u001b[0m\u001b[0;34m.\u001b[0m\u001b[0mwait\u001b[0m\u001b[0;34m(\u001b[0m\u001b[0mtimeout\u001b[0m\u001b[0;34m)\u001b[0m\u001b[0;34m\u001b[0m\u001b[0;34m\u001b[0m\u001b[0m\n\u001b[0m\u001b[1;32m    428\u001b[0m \u001b[0;34m\u001b[0m\u001b[0m\n\u001b[1;32m    429\u001b[0m             \u001b[0;32mif\u001b[0m \u001b[0mself\u001b[0m\u001b[0;34m.\u001b[0m\u001b[0m_state\u001b[0m \u001b[0;32min\u001b[0m \u001b[0;34m[\u001b[0m\u001b[0mCANCELLED\u001b[0m\u001b[0;34m,\u001b[0m \u001b[0mCANCELLED_AND_NOTIFIED\u001b[0m\u001b[0;34m]\u001b[0m\u001b[0;34m:\u001b[0m\u001b[0;34m\u001b[0m\u001b[0;34m\u001b[0m\u001b[0m\n",
      "\u001b[0;32m/opt/anaconda3/envs/nf/lib/python3.6/threading.py\u001b[0m in \u001b[0;36mwait\u001b[0;34m(self, timeout)\u001b[0m\n\u001b[1;32m    293\u001b[0m         \u001b[0;32mtry\u001b[0m\u001b[0;34m:\u001b[0m    \u001b[0;31m# restore state no matter what (e.g., KeyboardInterrupt)\u001b[0m\u001b[0;34m\u001b[0m\u001b[0;34m\u001b[0m\u001b[0m\n\u001b[1;32m    294\u001b[0m             \u001b[0;32mif\u001b[0m \u001b[0mtimeout\u001b[0m \u001b[0;32mis\u001b[0m \u001b[0;32mNone\u001b[0m\u001b[0;34m:\u001b[0m\u001b[0;34m\u001b[0m\u001b[0;34m\u001b[0m\u001b[0m\n\u001b[0;32m--> 295\u001b[0;31m                 \u001b[0mwaiter\u001b[0m\u001b[0;34m.\u001b[0m\u001b[0macquire\u001b[0m\u001b[0;34m(\u001b[0m\u001b[0;34m)\u001b[0m\u001b[0;34m\u001b[0m\u001b[0;34m\u001b[0m\u001b[0m\n\u001b[0m\u001b[1;32m    296\u001b[0m                 \u001b[0mgotit\u001b[0m \u001b[0;34m=\u001b[0m \u001b[0;32mTrue\u001b[0m\u001b[0;34m\u001b[0m\u001b[0;34m\u001b[0m\u001b[0m\n\u001b[1;32m    297\u001b[0m             \u001b[0;32melse\u001b[0m\u001b[0;34m:\u001b[0m\u001b[0;34m\u001b[0m\u001b[0;34m\u001b[0m\u001b[0m\n",
      "\u001b[0;31mKeyboardInterrupt\u001b[0m: "
     ]
    }
   ],
   "source": [
    "# Fit model\n",
    "grid_knn.fit(X_train, y_train)"
   ]
  },
  {
   "cell_type": "code",
   "execution_count": 1799,
   "metadata": {
    "code_folding": []
   },
   "outputs": [
    {
     "name": "stdout",
     "output_type": "stream",
     "text": [
      "Best score:\n",
      "0.90\n",
      "Best parameters:\n",
      "{'knn__leaf_size': 1, 'knn__n_neighbors': 1}\n"
     ]
    }
   ],
   "source": [
    "# Show best parameters\n",
    "print('Best score:\\n{:.2f}'.format(grid_knn.best_score_))\n",
    "print(\"Best parameters:\\n{}\".format(grid_knn.best_params_))"
   ]
  },
  {
   "cell_type": "code",
   "execution_count": 1800,
   "metadata": {
    "code_folding": []
   },
   "outputs": [],
   "source": [
    "# Save best model as best_model\n",
    "best_model_knn = grid_knn.best_estimator_['knn']"
   ]
  },
  {
   "cell_type": "markdown",
   "metadata": {},
   "source": [
    "**Final Evaluation**"
   ]
  },
  {
   "cell_type": "code",
   "execution_count": 1801,
   "metadata": {
    "code_folding": [],
    "scrolled": true
   },
   "outputs": [
    {
     "name": "stdout",
     "output_type": "stream",
     "text": [
      "Accuracy: 0.77\n",
      "Recall: 0.82\n",
      "Precision: 0.91\n",
      "F1 Score: 0.86\n",
      "Confusion Matrix: \n",
      "[[ 1715  1992]\n",
      " [ 4421 19930]]\n"
     ]
    }
   ],
   "source": [
    "# Calculating the accuracy, recall and precision for the test set with the optimized model\n",
    "y_pred_knn = best_model_knn.predict(X_test_prep)\n",
    "\n",
    "print(\"Accuracy: {:.2f}\".format(accuracy_score(y_test, y_pred_knn)))\n",
    "print(\"Recall: {:.2f}\".format(recall_score(y_test, y_pred_knn)))\n",
    "print(\"Precision: {:.2f}\".format(precision_score(y_test, y_pred_knn)))\n",
    "print(\"F1 Score: {:.2f}\".format(f1_score(y_test, y_pred_knn)))\n",
    "print(\"Confusion Matrix: \\n\" + str(confusion_matrix(y_test, y_pred_knn)))"
   ]
  },
  {
   "cell_type": "markdown",
   "metadata": {},
   "source": [
    "## Random Forest Classifier"
   ]
  },
  {
   "cell_type": "code",
   "execution_count": 1806,
   "metadata": {},
   "outputs": [
    {
     "name": "stdout",
     "output_type": "stream",
     "text": [
      "You are currently working with the reduced dataset\n"
     ]
    }
   ],
   "source": [
    "# Select dataset (\"full\", \"balanced\", \"reduced\") - SELECT BEFORE RUNNING MODEL\n",
    "dataset = \"reduced\"\n",
    "X_train, X_test, y_train, y_test, X_train_prep, X_test_prep = select_dataset_clf(dataset)"
   ]
  },
  {
   "cell_type": "markdown",
   "metadata": {},
   "source": [
    "**Apply Random Forest Classifier**"
   ]
  },
  {
   "cell_type": "code",
   "execution_count": 1807,
   "metadata": {
    "code_folding": []
   },
   "outputs": [],
   "source": [
    "# Create model\n",
    "pipeline_rf_clf = Pipeline([\n",
    "    ('preprocessor', preprocessor),\n",
    "    ('rf_clf', RandomForestClassifier(n_estimators=100,\n",
    "                              random_state=random_state,\n",
    "                              max_depth=5,\n",
    "                              max_features=\"sqrt\",\n",
    "                              n_jobs=-1))\n",
    "])"
   ]
  },
  {
   "cell_type": "code",
   "execution_count": 1808,
   "metadata": {
    "code_folding": []
   },
   "outputs": [],
   "source": [
    "y_train_pred_rf_clf = cross_val_predict(pipeline_rf_clf, X_train, y_train, cv=5)"
   ]
  },
  {
   "cell_type": "code",
   "execution_count": 1809,
   "metadata": {
    "code_folding": [],
    "scrolled": false
   },
   "outputs": [
    {
     "name": "stdout",
     "output_type": "stream",
     "text": [
      "Cross validation scores:\n",
      "-------------------------\n",
      "Accuracy: 0.75\n",
      "Recall: 0.90\n",
      "Precision: 0.75\n",
      "F1 Score: 0.82\n",
      "Confusion Matrix: \n",
      "[[1338 1280]\n",
      " [ 433 3902]]\n"
     ]
    }
   ],
   "source": [
    "print('Cross validation scores:')\n",
    "print('-------------------------')\n",
    "print(\"Accuracy: {:.2f}\".format(accuracy_score(y_train, y_train_pred_rf_clf)))\n",
    "print(\"Recall: {:.2f}\".format(recall_score(y_train, y_train_pred_rf_clf)))\n",
    "print(\"Precision: {:.2f}\".format(precision_score(y_train, y_train_pred_rf_clf)))\n",
    "print(\"F1 Score: {:.2f}\".format(f1_score(y_train, y_train_pred_rf_clf)))\n",
    "print(\"Confusion Matrix: \\n\" + str(confusion_matrix(y_train, y_train_pred_rf_clf)))"
   ]
  },
  {
   "cell_type": "code",
   "execution_count": 1812,
   "metadata": {},
   "outputs": [],
   "source": [
    "# Defining hyperparameter space for grid-search\n",
    "param_grid = {'rf_clf__bootstrap': [True, False],\n",
    "              'rf_clf__max_depth': [3, 6, 10, None],\n",
    "              'rf_clf__max_features': ['auto', 'sqrt'],\n",
    "              'rf_clf__min_samples_leaf': [1, 3],\n",
    "              'rf_clf__min_samples_split': [2, 5],\n",
    "              'rf_clf__n_estimators': [10, 50, 200]} # Others: kernel, degree (only for poly)\n",
    "grid_rf_clf = GridSearchCV(pipeline_rf_clf, param_grid, cv=5, scoring=scoring, \n",
    "                           verbose=4, n_jobs=-1)"
   ]
  },
  {
   "cell_type": "code",
   "execution_count": 1813,
   "metadata": {
    "code_folding": [],
    "scrolled": true
   },
   "outputs": [
    {
     "name": "stdout",
     "output_type": "stream",
     "text": [
      "Fitting 5 folds for each of 192 candidates, totalling 960 fits\n"
     ]
    },
    {
     "name": "stderr",
     "output_type": "stream",
     "text": [
      "[Parallel(n_jobs=-1)]: Using backend LokyBackend with 4 concurrent workers.\n",
      "[Parallel(n_jobs=-1)]: Done  17 tasks      | elapsed:    3.5s\n",
      "[Parallel(n_jobs=-1)]: Done  90 tasks      | elapsed:   13.1s\n",
      "[Parallel(n_jobs=-1)]: Done 213 tasks      | elapsed:   32.2s\n",
      "[Parallel(n_jobs=-1)]: Done 384 tasks      | elapsed:  1.4min\n",
      "[Parallel(n_jobs=-1)]: Done 605 tasks      | elapsed:  2.5min\n",
      "[Parallel(n_jobs=-1)]: Done 874 tasks      | elapsed:  3.8min\n",
      "[Parallel(n_jobs=-1)]: Done 960 out of 960 | elapsed:  4.8min finished\n"
     ]
    },
    {
     "data": {
      "text/plain": [
       "GridSearchCV(cv=5, error_score=nan,\n",
       "             estimator=Pipeline(memory=None,\n",
       "                                steps=[('preprocessor',\n",
       "                                        ColumnTransformer(n_jobs=None,\n",
       "                                                          remainder='drop',\n",
       "                                                          sparse_threshold=0.3,\n",
       "                                                          transformer_weights=None,\n",
       "                                                          transformers=[('num',\n",
       "                                                                         Pipeline(memory=None,\n",
       "                                                                                  steps=[('imputer_num',\n",
       "                                                                                          SimpleImputer(add_indicator=False,\n",
       "                                                                                                        copy=True,\n",
       "                                                                                                        fill_value=None,\n",
       "                                                                                                        missing_values=nan,\n",
       "                                                                                                        strategy='median',\n",
       "                                                                                                        verbose=...\n",
       "                                                               warm_start=False))],\n",
       "                                verbose=False),\n",
       "             iid='deprecated', n_jobs=-1,\n",
       "             param_grid={'rf_clf__bootstrap': [True, False],\n",
       "                         'rf_clf__max_depth': [3, 6, 10, None],\n",
       "                         'rf_clf__max_features': ['auto', 'sqrt'],\n",
       "                         'rf_clf__min_samples_leaf': [1, 3],\n",
       "                         'rf_clf__min_samples_split': [2, 5],\n",
       "                         'rf_clf__n_estimators': [10, 50, 200]},\n",
       "             pre_dispatch='2*n_jobs', refit=True, return_train_score=False,\n",
       "             scoring='f1', verbose=4)"
      ]
     },
     "execution_count": 1813,
     "metadata": {},
     "output_type": "execute_result"
    }
   ],
   "source": [
    "# Fit on training data\n",
    "grid_rf_clf.fit(X_train, y_train)"
   ]
  },
  {
   "cell_type": "code",
   "execution_count": 1814,
   "metadata": {},
   "outputs": [
    {
     "name": "stdout",
     "output_type": "stream",
     "text": [
      "Best score:\n",
      "0.93\n",
      "Best parameters:\n",
      "{'rf_clf__bootstrap': False, 'rf_clf__max_depth': None, 'rf_clf__max_features': 'auto', 'rf_clf__min_samples_leaf': 1, 'rf_clf__min_samples_split': 5, 'rf_clf__n_estimators': 200}\n"
     ]
    }
   ],
   "source": [
    "# Show best parameters\n",
    "print('Best score:\\n{:.2f}'.format(grid_rf_clf.best_score_))\n",
    "print(\"Best parameters:\\n{}\".format(grid_rf_clf.best_params_))"
   ]
  },
  {
   "cell_type": "code",
   "execution_count": 1815,
   "metadata": {},
   "outputs": [],
   "source": [
    "# Save best model as best_model\n",
    "best_model_rf_clf = grid_rf_clf.best_estimator_['rf_clf']"
   ]
  },
  {
   "cell_type": "markdown",
   "metadata": {},
   "source": [
    "**Final Evaluation**"
   ]
  },
  {
   "cell_type": "code",
   "execution_count": 1816,
   "metadata": {},
   "outputs": [
    {
     "name": "stdout",
     "output_type": "stream",
     "text": [
      "Accuracy: 0.82\n",
      "Recall: 0.88\n",
      "Precision: 0.91\n",
      "F1 Score: 0.90\n",
      "Confusion Matrix: \n",
      "[[ 1666  2041]\n",
      " [ 2888 21463]]\n"
     ]
    }
   ],
   "source": [
    "y_pred_rf_clf = best_model_rf_clf.predict(X_test_prep)\n",
    "\n",
    "print(\"Accuracy: {:.2f}\".format(accuracy_score(y_test, y_pred_rf_clf)))\n",
    "print(\"Recall: {:.2f}\".format(recall_score(y_test, y_pred_rf_clf)))\n",
    "print(\"Precision: {:.2f}\".format(precision_score(y_test, y_pred_rf_clf)))\n",
    "print(\"F1 Score: {:.2f}\".format(f1_score(y_test, y_pred_rf_clf)))\n",
    "print(\"Confusion Matrix: \\n\" + str(confusion_matrix(y_test, y_pred_rf_clf)))"
   ]
  },
  {
   "cell_type": "code",
   "execution_count": 1817,
   "metadata": {},
   "outputs": [
    {
     "data": {
      "image/png": "[encoded data removed]",
      "text/plain": [
       "<Figure size 432x288 with 1 Axes>"
      ]
     },
     "metadata": {},
     "output_type": "display_data"
    }
   ],
   "source": [
    "plt.plot(best_model_rf_clf.feature_importances_)\n",
    "plt.xticks(np.arange(X_train.shape[1]), X_train.columns.tolist(), rotation=90);"
   ]
  },
  {
   "cell_type": "code",
   "execution_count": 1818,
   "metadata": {},
   "outputs": [
    {
     "data": {
      "text/plain": [
       "[('campaign_days', 0.134311488663691),\n",
       " ('category', 0.2606755014593872),\n",
       " ('country', 0.019128949684543994),\n",
       " ('launched_at_cont', 0.38454297000010657),\n",
       " ('creator_mult_projects', 0.007681243220969206),\n",
       " ('goal_converted_log', 0.004961536671336709)]"
      ]
     },
     "execution_count": 1818,
     "metadata": {},
     "output_type": "execute_result"
    }
   ],
   "source": [
    "list(zip(X_train_red, best_model_rf_clf.feature_importances_))"
   ]
  },
  {
   "cell_type": "markdown",
   "metadata": {},
   "source": [
    "## Support Vector Classifier"
   ]
  },
  {
   "cell_type": "code",
   "execution_count": 1819,
   "metadata": {},
   "outputs": [
    {
     "name": "stdout",
     "output_type": "stream",
     "text": [
      "You are currently working with the reduced dataset\n"
     ]
    }
   ],
   "source": [
    "# Select dataset (\"full\", \"balanced\", \"reduced\") - SELECT BEFORE RUNNING MODEL\n",
    "dataset = \"reduced\"\n",
    "X_train, X_test, y_train, y_test, X_train_prep, X_test_prep = select_dataset_clf(dataset)"
   ]
  },
  {
   "cell_type": "markdown",
   "metadata": {},
   "source": [
    "**Apply Support Vector Classifier**"
   ]
  },
  {
   "cell_type": "code",
   "execution_count": 1820,
   "metadata": {
    "code_folding": []
   },
   "outputs": [],
   "source": [
    "# Kernel SVC (radial basis function)\n",
    "pipeline_svc = Pipeline([\n",
    "    ('preprocessor', preprocessor_red),\n",
    "    ('svc', SVC(kernel='rbf', C=1E6))\n",
    "])\n",
    "#svc_clf_rbf = SVC(kernel='rbf', C=1E6)\n",
    "#svc_clf_rbf.fit(X_train_prep_red, y_train_red)"
   ]
  },
  {
   "cell_type": "code",
   "execution_count": 1835,
   "metadata": {
    "code_folding": []
   },
   "outputs": [],
   "source": [
    "# Tune model with GridSearchCV (find optimal C)\n",
    "param_grid = {'svc__C': [500, 1000, 2000],\n",
    "              'svc__gamma': [0.1, 0.5, 1],\n",
    "             'svc__kernel': [\"rbf\"]} # [\"linear\", \"rbf\", \"poly\"] Others: kernel, degree (only for poly)\n",
    "grid_svc = GridSearchCV(pipeline_svc, param_grid, cv=5, scoring=scoring, \n",
    "                           verbose=4, n_jobs=-1)"
   ]
  },
  {
   "cell_type": "code",
   "execution_count": 1836,
   "metadata": {},
   "outputs": [
    {
     "name": "stdout",
     "output_type": "stream",
     "text": [
      "Fitting 5 folds for each of 9 candidates, totalling 45 fits\n"
     ]
    },
    {
     "name": "stderr",
     "output_type": "stream",
     "text": [
      "[Parallel(n_jobs=-1)]: Using backend LokyBackend with 4 concurrent workers.\n",
      "[Parallel(n_jobs=-1)]: Done  17 tasks      | elapsed:  1.3min\n",
      "[Parallel(n_jobs=-1)]: Done  45 out of  45 | elapsed:  4.9min finished\n"
     ]
    },
    {
     "name": "stdout",
     "output_type": "stream",
     "text": [
      "CPU times: user 23.5 s, sys: 68.7 ms, total: 23.6 s\n",
      "Wall time: 5min 18s\n"
     ]
    },
    {
     "data": {
      "text/plain": [
       "GridSearchCV(cv=5, error_score=nan,\n",
       "             estimator=Pipeline(memory=None,\n",
       "                                steps=[('preprocessor',\n",
       "                                        ColumnTransformer(n_jobs=None,\n",
       "                                                          remainder='drop',\n",
       "                                                          sparse_threshold=0.3,\n",
       "                                                          transformer_weights=None,\n",
       "                                                          transformers=[('num',\n",
       "                                                                         Pipeline(memory=None,\n",
       "                                                                                  steps=[('imputer_num',\n",
       "                                                                                          SimpleImputer(add_indicator=False,\n",
       "                                                                                                        copy=True,\n",
       "                                                                                                        fill_value=None,\n",
       "                                                                                                        missing_values=nan,\n",
       "                                                                                                        strategy='median',\n",
       "                                                                                                        verbose=...\n",
       "                                            decision_function_shape='ovr',\n",
       "                                            degree=3, gamma='scale',\n",
       "                                            kernel='rbf', max_iter=-1,\n",
       "                                            probability=False,\n",
       "                                            random_state=None, shrinking=True,\n",
       "                                            tol=0.001, verbose=False))],\n",
       "                                verbose=False),\n",
       "             iid='deprecated', n_jobs=-1,\n",
       "             param_grid={'svc__C': [500, 1000, 2000],\n",
       "                         'svc__gamma': [0.1, 0.5, 1], 'svc__kernel': ['rbf']},\n",
       "             pre_dispatch='2*n_jobs', refit=True, return_train_score=False,\n",
       "             scoring='f1', verbose=4)"
      ]
     },
     "execution_count": 1836,
     "metadata": {},
     "output_type": "execute_result"
    }
   ],
   "source": [
    "# Fit on training data\n",
    "%time grid_svc.fit(X_train, y_train)\n",
    "#print(grid.best_params_)"
   ]
  },
  {
   "cell_type": "code",
   "execution_count": 1837,
   "metadata": {},
   "outputs": [
    {
     "name": "stdout",
     "output_type": "stream",
     "text": [
      "Best score:\n",
      "0.89\n",
      "Best parameters:\n",
      "{'svc__C': 2000, 'svc__gamma': 1, 'svc__kernel': 'rbf'}\n"
     ]
    }
   ],
   "source": [
    "# Show best parameters\n",
    "print('Best score:\\n{:.2f}'.format(grid_svc.best_score_))\n",
    "print(\"Best parameters:\\n{}\".format(grid_svc.best_params_))"
   ]
  },
  {
   "cell_type": "code",
   "execution_count": 1838,
   "metadata": {},
   "outputs": [],
   "source": [
    "# Save best model as best_model\n",
    "best_model_svc = grid_svc.best_estimator_['svc']"
   ]
  },
  {
   "cell_type": "markdown",
   "metadata": {},
   "source": [
    "**Final Evaluation**"
   ]
  },
  {
   "cell_type": "code",
   "execution_count": 1839,
   "metadata": {},
   "outputs": [
    {
     "name": "stdout",
     "output_type": "stream",
     "text": [
      "Accuracy: 0.77\n",
      "Recall: 0.82\n",
      "Precision: 0.91\n",
      "F1 Score: 0.86\n",
      "Confusion Matrix: \n",
      "[[ 1655  2052]\n",
      " [ 4477 19874]]\n"
     ]
    }
   ],
   "source": [
    "y_pred_svc_clf = best_model_svc.predict(X_test_prep)\n",
    "\n",
    "print(\"Accuracy: {:.2f}\".format(accuracy_score(y_test, y_pred_svc_clf)))\n",
    "print(\"Recall: {:.2f}\".format(recall_score(y_test, y_pred_svc_clf)))\n",
    "print(\"Precision: {:.2f}\".format(precision_score(y_test, y_pred_svc_clf)))\n",
    "print(\"F1 Score: {:.2f}\".format(f1_score(y_test, y_pred_svc_clf)))\n",
    "print(\"Confusion Matrix: \\n\" + str(confusion_matrix(y_test, y_pred_svc_clf)))"
   ]
  },
  {
   "cell_type": "markdown",
   "metadata": {},
   "source": [
    "## AdaBoost"
   ]
  },
  {
   "cell_type": "code",
   "execution_count": null,
   "metadata": {},
   "outputs": [],
   "source": [
    "# Select dataset (\"full\", \"balanced\", \"reduced\") - SELECT BEFORE RUNNING MODEL\n",
    "dataset = \"reduced\"\n",
    "X_train, X_test, y_train, y_test, X_train_prep, X_test_prep = select_dataset_clf(dataset)"
   ]
  },
  {
   "cell_type": "markdown",
   "metadata": {},
   "source": [
    "**Feature importance with AdaBoost**"
   ]
  },
  {
   "cell_type": "code",
   "execution_count": 466,
   "metadata": {
    "code_folding": []
   },
   "outputs": [],
   "source": [
    "# Train a supervised learning model that has 'feature_importances_'\n",
    "pipeline_ada_clf = Pipeline([\n",
    "    ('preprocessor', preprocessor),\n",
    "    ('ada_clf', AdaBoostClassifier())\n",
    "])\n",
    "    \n",
    "pipeline_ada_clf.fit(X_train,y_train)"
   ]
  },
  {
   "cell_type": "code",
   "execution_count": 472,
   "metadata": {
    "code_folding": []
   },
   "outputs": [
    {
     "name": "stdout",
     "output_type": "stream",
     "text": [
      "Accuracy: 0.88\n",
      "Recall: 0.98\n",
      "Precision: 0.90\n",
      "F1 Score: 0.94\n",
      "Confusion Matrix: \n",
      "[[  667  1804]\n",
      " [  348 15887]]\n"
     ]
    }
   ],
   "source": [
    "# Make new predictions (is this correct? X_test instead of X_test_prep?)\n",
    "y_pred_ada_clf = pipeline_ada_clf.predict(X_test)\n",
    "\n",
    "# Report scores from the final model using both versions of data\n",
    "print(\"Accuracy: {:.2f}\".format(accuracy_score(y_test, y_pred_ada_clf)))\n",
    "print(\"Recall: {:.2f}\".format(recall_score(y_test, y_pred_ada_clf)))\n",
    "print(\"Precision: {:.2f}\".format(precision_score(y_test, y_pred_ada_clf)))\n",
    "print(\"F1 Score: {:.2f}\".format(f1_score(y_test, y_pred_ada_clf)))\n",
    "print(\"Confusion Matrix: \\n\" + str(confusion_matrix(y_test, y_pred_ada_clf)))"
   ]
  },
  {
   "cell_type": "markdown",
   "metadata": {},
   "source": [
    "## XGBoost"
   ]
  },
  {
   "cell_type": "code",
   "execution_count": 1840,
   "metadata": {},
   "outputs": [
    {
     "name": "stdout",
     "output_type": "stream",
     "text": [
      "You are currently working with the reduced dataset\n"
     ]
    }
   ],
   "source": [
    "# Select dataset (\"full\", \"balanced\", \"reduced\") - SELECT BEFORE RUNNING MODEL\n",
    "dataset = \"reduced\"\n",
    "X_train, X_test, y_train, y_test, X_train_prep, X_test_prep = select_dataset_clf(dataset)"
   ]
  },
  {
   "cell_type": "code",
   "execution_count": 1841,
   "metadata": {
    "code_folding": [
     0
    ]
   },
   "outputs": [],
   "source": [
    "# Get columns list for categorical and numerical\n",
    "categorical_features = df.select_dtypes('object').columns.tolist()\n",
    "numerical_features = df.select_dtypes('int64').columns.tolist()\n",
    "# Create a pipeline\n",
    "pipeline_xgb_clf = Pipeline([\n",
    "  ('preprocessor', preprocessor),\n",
    "  ('fs', SelectKBest()),\n",
    "  ('xgb_clf', XGBClassifier(objective='binary:logistic'))\n",
    "])"
   ]
  },
  {
   "cell_type": "code",
   "execution_count": 1844,
   "metadata": {
    "code_folding": [
     0
    ]
   },
   "outputs": [
    {
     "name": "stdout",
     "output_type": "stream",
     "text": [
      "Fitting 10 folds for each of 672 candidates, totalling 6720 fits\n"
     ]
    },
    {
     "name": "stderr",
     "output_type": "stream",
     "text": [
      "[Parallel(n_jobs=-1)]: Using backend LokyBackend with 4 concurrent workers.\n",
      "[Parallel(n_jobs=-1)]: Done  38 tasks      | elapsed:    2.5s\n",
      "[Parallel(n_jobs=-1)]: Done 516 tasks      | elapsed:    9.1s\n",
      "[Parallel(n_jobs=-1)]: Done 1328 tasks      | elapsed:   19.8s\n",
      "[Parallel(n_jobs=-1)]: Done 2460 tasks      | elapsed:   35.3s\n",
      "[Parallel(n_jobs=-1)]: Done 3920 tasks      | elapsed:   55.7s\n",
      "[Parallel(n_jobs=-1)]: Done 5700 tasks      | elapsed:  1.3min\n",
      "[Parallel(n_jobs=-1)]: Done 6713 out of 6720 | elapsed:  1.6min remaining:    0.1s\n",
      "[Parallel(n_jobs=-1)]: Done 6720 out of 6720 | elapsed:  1.6min finished\n"
     ]
    },
    {
     "ename": "TypeError",
     "evalue": "len() of unsized object",
     "output_type": "error",
     "traceback": [
      "\u001b[0;31m---------------------------------------------------------------------------\u001b[0m",
      "\u001b[0;31mTypeError\u001b[0m                                 Traceback (most recent call last)",
      "\u001b[0;32m<ipython-input-1844-b69de464d5f5>\u001b[0m in \u001b[0;36m<module>\u001b[0;34m\u001b[0m\n\u001b[1;32m     26\u001b[0m )\n\u001b[1;32m     27\u001b[0m \u001b[0;31m# Fit grid search\u001b[0m\u001b[0;34m\u001b[0m\u001b[0;34m\u001b[0m\u001b[0;34m\u001b[0m\u001b[0m\n\u001b[0;32m---> 28\u001b[0;31m \u001b[0mxgb_clf\u001b[0m \u001b[0;34m=\u001b[0m \u001b[0mgrid_xgb_clf\u001b[0m\u001b[0;34m.\u001b[0m\u001b[0mfit\u001b[0m\u001b[0;34m(\u001b[0m\u001b[0mX_train\u001b[0m\u001b[0;34m,\u001b[0m \u001b[0my_train\u001b[0m\u001b[0;34m)\u001b[0m\u001b[0;34m\u001b[0m\u001b[0;34m\u001b[0m\u001b[0m\n\u001b[0m",
      "\u001b[0;32m/opt/anaconda3/envs/nf/lib/python3.6/site-packages/sklearn/model_selection/_search.py\u001b[0m in \u001b[0;36mfit\u001b[0;34m(self, X, y, groups, **fit_params)\u001b[0m\n\u001b[1;32m    737\u001b[0m             \u001b[0mrefit_start_time\u001b[0m \u001b[0;34m=\u001b[0m \u001b[0mtime\u001b[0m\u001b[0;34m.\u001b[0m\u001b[0mtime\u001b[0m\u001b[0;34m(\u001b[0m\u001b[0;34m)\u001b[0m\u001b[0;34m\u001b[0m\u001b[0;34m\u001b[0m\u001b[0m\n\u001b[1;32m    738\u001b[0m             \u001b[0;32mif\u001b[0m \u001b[0my\u001b[0m \u001b[0;32mis\u001b[0m \u001b[0;32mnot\u001b[0m \u001b[0;32mNone\u001b[0m\u001b[0;34m:\u001b[0m\u001b[0;34m\u001b[0m\u001b[0;34m\u001b[0m\u001b[0m\n\u001b[0;32m--> 739\u001b[0;31m                 \u001b[0mself\u001b[0m\u001b[0;34m.\u001b[0m\u001b[0mbest_estimator_\u001b[0m\u001b[0;34m.\u001b[0m\u001b[0mfit\u001b[0m\u001b[0;34m(\u001b[0m\u001b[0mX\u001b[0m\u001b[0;34m,\u001b[0m \u001b[0my\u001b[0m\u001b[0;34m,\u001b[0m \u001b[0;34m**\u001b[0m\u001b[0mfit_params\u001b[0m\u001b[0;34m)\u001b[0m\u001b[0;34m\u001b[0m\u001b[0;34m\u001b[0m\u001b[0m\n\u001b[0m\u001b[1;32m    740\u001b[0m             \u001b[0;32melse\u001b[0m\u001b[0;34m:\u001b[0m\u001b[0;34m\u001b[0m\u001b[0;34m\u001b[0m\u001b[0m\n\u001b[1;32m    741\u001b[0m                 \u001b[0mself\u001b[0m\u001b[0;34m.\u001b[0m\u001b[0mbest_estimator_\u001b[0m\u001b[0;34m.\u001b[0m\u001b[0mfit\u001b[0m\u001b[0;34m(\u001b[0m\u001b[0mX\u001b[0m\u001b[0;34m,\u001b[0m \u001b[0;34m**\u001b[0m\u001b[0mfit_params\u001b[0m\u001b[0;34m)\u001b[0m\u001b[0;34m\u001b[0m\u001b[0;34m\u001b[0m\u001b[0m\n",
      "\u001b[0;32m/opt/anaconda3/envs/nf/lib/python3.6/site-packages/sklearn/pipeline.py\u001b[0m in \u001b[0;36mfit\u001b[0;34m(self, X, y, **fit_params)\u001b[0m\n\u001b[1;32m    348\u001b[0m             \u001b[0mThis\u001b[0m \u001b[0mestimator\u001b[0m\u001b[0;34m\u001b[0m\u001b[0;34m\u001b[0m\u001b[0m\n\u001b[1;32m    349\u001b[0m         \"\"\"\n\u001b[0;32m--> 350\u001b[0;31m         \u001b[0mXt\u001b[0m\u001b[0;34m,\u001b[0m \u001b[0mfit_params\u001b[0m \u001b[0;34m=\u001b[0m \u001b[0mself\u001b[0m\u001b[0;34m.\u001b[0m\u001b[0m_fit\u001b[0m\u001b[0;34m(\u001b[0m\u001b[0mX\u001b[0m\u001b[0;34m,\u001b[0m \u001b[0my\u001b[0m\u001b[0;34m,\u001b[0m \u001b[0;34m**\u001b[0m\u001b[0mfit_params\u001b[0m\u001b[0;34m)\u001b[0m\u001b[0;34m\u001b[0m\u001b[0;34m\u001b[0m\u001b[0m\n\u001b[0m\u001b[1;32m    351\u001b[0m         with _print_elapsed_time('Pipeline',\n\u001b[1;32m    352\u001b[0m                                  self._log_message(len(self.steps) - 1)):\n",
      "\u001b[0;32m/opt/anaconda3/envs/nf/lib/python3.6/site-packages/sklearn/pipeline.py\u001b[0m in \u001b[0;36m_fit\u001b[0;34m(self, X, y, **fit_params)\u001b[0m\n\u001b[1;32m    313\u001b[0m                 \u001b[0mmessage_clsname\u001b[0m\u001b[0;34m=\u001b[0m\u001b[0;34m'Pipeline'\u001b[0m\u001b[0;34m,\u001b[0m\u001b[0;34m\u001b[0m\u001b[0;34m\u001b[0m\u001b[0m\n\u001b[1;32m    314\u001b[0m                 \u001b[0mmessage\u001b[0m\u001b[0;34m=\u001b[0m\u001b[0mself\u001b[0m\u001b[0;34m.\u001b[0m\u001b[0m_log_message\u001b[0m\u001b[0;34m(\u001b[0m\u001b[0mstep_idx\u001b[0m\u001b[0;34m)\u001b[0m\u001b[0;34m,\u001b[0m\u001b[0;34m\u001b[0m\u001b[0;34m\u001b[0m\u001b[0m\n\u001b[0;32m--> 315\u001b[0;31m                 **fit_params_steps[name])\n\u001b[0m\u001b[1;32m    316\u001b[0m             \u001b[0;31m# Replace the transformer of the step with the fitted\u001b[0m\u001b[0;34m\u001b[0m\u001b[0;34m\u001b[0m\u001b[0;34m\u001b[0m\u001b[0m\n\u001b[1;32m    317\u001b[0m             \u001b[0;31m# transformer. This is necessary when loading the transformer\u001b[0m\u001b[0;34m\u001b[0m\u001b[0;34m\u001b[0m\u001b[0;34m\u001b[0m\u001b[0m\n",
      "\u001b[0;32m/opt/anaconda3/envs/nf/lib/python3.6/site-packages/joblib/memory.py\u001b[0m in \u001b[0;36m__call__\u001b[0;34m(self, *args, **kwargs)\u001b[0m\n\u001b[1;32m    353\u001b[0m \u001b[0;34m\u001b[0m\u001b[0m\n\u001b[1;32m    354\u001b[0m     \u001b[0;32mdef\u001b[0m \u001b[0m__call__\u001b[0m\u001b[0;34m(\u001b[0m\u001b[0mself\u001b[0m\u001b[0;34m,\u001b[0m \u001b[0;34m*\u001b[0m\u001b[0margs\u001b[0m\u001b[0;34m,\u001b[0m \u001b[0;34m**\u001b[0m\u001b[0mkwargs\u001b[0m\u001b[0;34m)\u001b[0m\u001b[0;34m:\u001b[0m\u001b[0;34m\u001b[0m\u001b[0;34m\u001b[0m\u001b[0m\n\u001b[0;32m--> 355\u001b[0;31m         \u001b[0;32mreturn\u001b[0m \u001b[0mself\u001b[0m\u001b[0;34m.\u001b[0m\u001b[0mfunc\u001b[0m\u001b[0;34m(\u001b[0m\u001b[0;34m*\u001b[0m\u001b[0margs\u001b[0m\u001b[0;34m,\u001b[0m \u001b[0;34m**\u001b[0m\u001b[0mkwargs\u001b[0m\u001b[0;34m)\u001b[0m\u001b[0;34m\u001b[0m\u001b[0;34m\u001b[0m\u001b[0m\n\u001b[0m\u001b[1;32m    356\u001b[0m \u001b[0;34m\u001b[0m\u001b[0m\n\u001b[1;32m    357\u001b[0m     \u001b[0;32mdef\u001b[0m \u001b[0mcall_and_shelve\u001b[0m\u001b[0;34m(\u001b[0m\u001b[0mself\u001b[0m\u001b[0;34m,\u001b[0m \u001b[0;34m*\u001b[0m\u001b[0margs\u001b[0m\u001b[0;34m,\u001b[0m \u001b[0;34m**\u001b[0m\u001b[0mkwargs\u001b[0m\u001b[0;34m)\u001b[0m\u001b[0;34m:\u001b[0m\u001b[0;34m\u001b[0m\u001b[0;34m\u001b[0m\u001b[0m\n",
      "\u001b[0;32m/opt/anaconda3/envs/nf/lib/python3.6/site-packages/sklearn/pipeline.py\u001b[0m in \u001b[0;36m_fit_transform_one\u001b[0;34m(transformer, X, y, weight, message_clsname, message, **fit_params)\u001b[0m\n\u001b[1;32m    726\u001b[0m     \u001b[0;32mwith\u001b[0m \u001b[0m_print_elapsed_time\u001b[0m\u001b[0;34m(\u001b[0m\u001b[0mmessage_clsname\u001b[0m\u001b[0;34m,\u001b[0m \u001b[0mmessage\u001b[0m\u001b[0;34m)\u001b[0m\u001b[0;34m:\u001b[0m\u001b[0;34m\u001b[0m\u001b[0;34m\u001b[0m\u001b[0m\n\u001b[1;32m    727\u001b[0m         \u001b[0;32mif\u001b[0m \u001b[0mhasattr\u001b[0m\u001b[0;34m(\u001b[0m\u001b[0mtransformer\u001b[0m\u001b[0;34m,\u001b[0m \u001b[0;34m'fit_transform'\u001b[0m\u001b[0;34m)\u001b[0m\u001b[0;34m:\u001b[0m\u001b[0;34m\u001b[0m\u001b[0;34m\u001b[0m\u001b[0m\n\u001b[0;32m--> 728\u001b[0;31m             \u001b[0mres\u001b[0m \u001b[0;34m=\u001b[0m \u001b[0mtransformer\u001b[0m\u001b[0;34m.\u001b[0m\u001b[0mfit_transform\u001b[0m\u001b[0;34m(\u001b[0m\u001b[0mX\u001b[0m\u001b[0;34m,\u001b[0m \u001b[0my\u001b[0m\u001b[0;34m,\u001b[0m \u001b[0;34m**\u001b[0m\u001b[0mfit_params\u001b[0m\u001b[0;34m)\u001b[0m\u001b[0;34m\u001b[0m\u001b[0;34m\u001b[0m\u001b[0m\n\u001b[0m\u001b[1;32m    729\u001b[0m         \u001b[0;32melse\u001b[0m\u001b[0;34m:\u001b[0m\u001b[0;34m\u001b[0m\u001b[0;34m\u001b[0m\u001b[0m\n\u001b[1;32m    730\u001b[0m             \u001b[0mres\u001b[0m \u001b[0;34m=\u001b[0m \u001b[0mtransformer\u001b[0m\u001b[0;34m.\u001b[0m\u001b[0mfit\u001b[0m\u001b[0;34m(\u001b[0m\u001b[0mX\u001b[0m\u001b[0;34m,\u001b[0m \u001b[0my\u001b[0m\u001b[0;34m,\u001b[0m \u001b[0;34m**\u001b[0m\u001b[0mfit_params\u001b[0m\u001b[0;34m)\u001b[0m\u001b[0;34m.\u001b[0m\u001b[0mtransform\u001b[0m\u001b[0;34m(\u001b[0m\u001b[0mX\u001b[0m\u001b[0;34m)\u001b[0m\u001b[0;34m\u001b[0m\u001b[0;34m\u001b[0m\u001b[0m\n",
      "\u001b[0;32m/opt/anaconda3/envs/nf/lib/python3.6/site-packages/sklearn/base.py\u001b[0m in \u001b[0;36mfit_transform\u001b[0;34m(self, X, y, **fit_params)\u001b[0m\n\u001b[1;32m    572\u001b[0m         \u001b[0;32melse\u001b[0m\u001b[0;34m:\u001b[0m\u001b[0;34m\u001b[0m\u001b[0;34m\u001b[0m\u001b[0m\n\u001b[1;32m    573\u001b[0m             \u001b[0;31m# fit method of arity 2 (supervised transformation)\u001b[0m\u001b[0;34m\u001b[0m\u001b[0;34m\u001b[0m\u001b[0;34m\u001b[0m\u001b[0m\n\u001b[0;32m--> 574\u001b[0;31m             \u001b[0;32mreturn\u001b[0m \u001b[0mself\u001b[0m\u001b[0;34m.\u001b[0m\u001b[0mfit\u001b[0m\u001b[0;34m(\u001b[0m\u001b[0mX\u001b[0m\u001b[0;34m,\u001b[0m \u001b[0my\u001b[0m\u001b[0;34m,\u001b[0m \u001b[0;34m**\u001b[0m\u001b[0mfit_params\u001b[0m\u001b[0;34m)\u001b[0m\u001b[0;34m.\u001b[0m\u001b[0mtransform\u001b[0m\u001b[0;34m(\u001b[0m\u001b[0mX\u001b[0m\u001b[0;34m)\u001b[0m\u001b[0;34m\u001b[0m\u001b[0;34m\u001b[0m\u001b[0m\n\u001b[0m\u001b[1;32m    575\u001b[0m \u001b[0;34m\u001b[0m\u001b[0m\n\u001b[1;32m    576\u001b[0m \u001b[0;34m\u001b[0m\u001b[0m\n",
      "\u001b[0;32m/opt/anaconda3/envs/nf/lib/python3.6/site-packages/sklearn/feature_selection/_univariate_selection.py\u001b[0m in \u001b[0;36mfit\u001b[0;34m(self, X, y)\u001b[0m\n\u001b[1;32m    347\u001b[0m \u001b[0;34m\u001b[0m\u001b[0m\n\u001b[1;32m    348\u001b[0m         \u001b[0mself\u001b[0m\u001b[0;34m.\u001b[0m\u001b[0m_check_params\u001b[0m\u001b[0;34m(\u001b[0m\u001b[0mX\u001b[0m\u001b[0;34m,\u001b[0m \u001b[0my\u001b[0m\u001b[0;34m)\u001b[0m\u001b[0;34m\u001b[0m\u001b[0;34m\u001b[0m\u001b[0m\n\u001b[0;32m--> 349\u001b[0;31m         \u001b[0mscore_func_ret\u001b[0m \u001b[0;34m=\u001b[0m \u001b[0mself\u001b[0m\u001b[0;34m.\u001b[0m\u001b[0mscore_func\u001b[0m\u001b[0;34m(\u001b[0m\u001b[0mX\u001b[0m\u001b[0;34m,\u001b[0m \u001b[0my\u001b[0m\u001b[0;34m)\u001b[0m\u001b[0;34m\u001b[0m\u001b[0;34m\u001b[0m\u001b[0m\n\u001b[0m\u001b[1;32m    350\u001b[0m         \u001b[0;32mif\u001b[0m \u001b[0misinstance\u001b[0m\u001b[0;34m(\u001b[0m\u001b[0mscore_func_ret\u001b[0m\u001b[0;34m,\u001b[0m \u001b[0;34m(\u001b[0m\u001b[0mlist\u001b[0m\u001b[0;34m,\u001b[0m \u001b[0mtuple\u001b[0m\u001b[0;34m)\u001b[0m\u001b[0;34m)\u001b[0m\u001b[0;34m:\u001b[0m\u001b[0;34m\u001b[0m\u001b[0;34m\u001b[0m\u001b[0m\n\u001b[1;32m    351\u001b[0m             \u001b[0mself\u001b[0m\u001b[0;34m.\u001b[0m\u001b[0mscores_\u001b[0m\u001b[0;34m,\u001b[0m \u001b[0mself\u001b[0m\u001b[0;34m.\u001b[0m\u001b[0mpvalues_\u001b[0m \u001b[0;34m=\u001b[0m \u001b[0mscore_func_ret\u001b[0m\u001b[0;34m\u001b[0m\u001b[0;34m\u001b[0m\u001b[0m\n",
      "\u001b[0;32m/opt/anaconda3/envs/nf/lib/python3.6/site-packages/sklearn/metrics/_classification.py\u001b[0m in \u001b[0;36mf1_score\u001b[0;34m(y_true, y_pred, labels, pos_label, average, sample_weight, zero_division)\u001b[0m\n\u001b[1;32m   1097\u001b[0m                        \u001b[0mpos_label\u001b[0m\u001b[0;34m=\u001b[0m\u001b[0mpos_label\u001b[0m\u001b[0;34m,\u001b[0m \u001b[0maverage\u001b[0m\u001b[0;34m=\u001b[0m\u001b[0maverage\u001b[0m\u001b[0;34m,\u001b[0m\u001b[0;34m\u001b[0m\u001b[0;34m\u001b[0m\u001b[0m\n\u001b[1;32m   1098\u001b[0m                        \u001b[0msample_weight\u001b[0m\u001b[0;34m=\u001b[0m\u001b[0msample_weight\u001b[0m\u001b[0;34m,\u001b[0m\u001b[0;34m\u001b[0m\u001b[0;34m\u001b[0m\u001b[0m\n\u001b[0;32m-> 1099\u001b[0;31m                        zero_division=zero_division)\n\u001b[0m\u001b[1;32m   1100\u001b[0m \u001b[0;34m\u001b[0m\u001b[0m\n\u001b[1;32m   1101\u001b[0m \u001b[0;34m\u001b[0m\u001b[0m\n",
      "\u001b[0;32m/opt/anaconda3/envs/nf/lib/python3.6/site-packages/sklearn/metrics/_classification.py\u001b[0m in \u001b[0;36mfbeta_score\u001b[0;34m(y_true, y_pred, beta, labels, pos_label, average, sample_weight, zero_division)\u001b[0m\n\u001b[1;32m   1224\u001b[0m                                                  \u001b[0mwarn_for\u001b[0m\u001b[0;34m=\u001b[0m\u001b[0;34m(\u001b[0m\u001b[0;34m'f-score'\u001b[0m\u001b[0;34m,\u001b[0m\u001b[0;34m)\u001b[0m\u001b[0;34m,\u001b[0m\u001b[0;34m\u001b[0m\u001b[0;34m\u001b[0m\u001b[0m\n\u001b[1;32m   1225\u001b[0m                                                  \u001b[0msample_weight\u001b[0m\u001b[0;34m=\u001b[0m\u001b[0msample_weight\u001b[0m\u001b[0;34m,\u001b[0m\u001b[0;34m\u001b[0m\u001b[0;34m\u001b[0m\u001b[0m\n\u001b[0;32m-> 1226\u001b[0;31m                                                  zero_division=zero_division)\n\u001b[0m\u001b[1;32m   1227\u001b[0m     \u001b[0;32mreturn\u001b[0m \u001b[0mf\u001b[0m\u001b[0;34m\u001b[0m\u001b[0;34m\u001b[0m\u001b[0m\n\u001b[1;32m   1228\u001b[0m \u001b[0;34m\u001b[0m\u001b[0m\n",
      "\u001b[0;32m/opt/anaconda3/envs/nf/lib/python3.6/site-packages/sklearn/metrics/_classification.py\u001b[0m in \u001b[0;36mprecision_recall_fscore_support\u001b[0;34m(y_true, y_pred, beta, labels, pos_label, average, warn_for, sample_weight, zero_division)\u001b[0m\n\u001b[1;32m   1482\u001b[0m         \u001b[0;32mraise\u001b[0m \u001b[0mValueError\u001b[0m\u001b[0;34m(\u001b[0m\u001b[0;34m\"beta should be >=0 in the F-beta score\"\u001b[0m\u001b[0;34m)\u001b[0m\u001b[0;34m\u001b[0m\u001b[0;34m\u001b[0m\u001b[0m\n\u001b[1;32m   1483\u001b[0m     labels = _check_set_wise_labels(y_true, y_pred, average, labels,\n\u001b[0;32m-> 1484\u001b[0;31m                                     pos_label)\n\u001b[0m\u001b[1;32m   1485\u001b[0m \u001b[0;34m\u001b[0m\u001b[0m\n\u001b[1;32m   1486\u001b[0m     \u001b[0;31m# Calculate tp_sum, pred_sum, true_sum ###\u001b[0m\u001b[0;34m\u001b[0m\u001b[0;34m\u001b[0m\u001b[0;34m\u001b[0m\u001b[0m\n",
      "\u001b[0;32m/opt/anaconda3/envs/nf/lib/python3.6/site-packages/sklearn/metrics/_classification.py\u001b[0m in \u001b[0;36m_check_set_wise_labels\u001b[0;34m(y_true, y_pred, average, labels, pos_label)\u001b[0m\n\u001b[1;32m   1299\u001b[0m                          str(average_options))\n\u001b[1;32m   1300\u001b[0m \u001b[0;34m\u001b[0m\u001b[0m\n\u001b[0;32m-> 1301\u001b[0;31m     \u001b[0my_type\u001b[0m\u001b[0;34m,\u001b[0m \u001b[0my_true\u001b[0m\u001b[0;34m,\u001b[0m \u001b[0my_pred\u001b[0m \u001b[0;34m=\u001b[0m \u001b[0m_check_targets\u001b[0m\u001b[0;34m(\u001b[0m\u001b[0my_true\u001b[0m\u001b[0;34m,\u001b[0m \u001b[0my_pred\u001b[0m\u001b[0;34m)\u001b[0m\u001b[0;34m\u001b[0m\u001b[0;34m\u001b[0m\u001b[0m\n\u001b[0m\u001b[1;32m   1302\u001b[0m     \u001b[0mpresent_labels\u001b[0m \u001b[0;34m=\u001b[0m \u001b[0munique_labels\u001b[0m\u001b[0;34m(\u001b[0m\u001b[0my_true\u001b[0m\u001b[0;34m,\u001b[0m \u001b[0my_pred\u001b[0m\u001b[0;34m)\u001b[0m\u001b[0;34m\u001b[0m\u001b[0;34m\u001b[0m\u001b[0m\n\u001b[1;32m   1303\u001b[0m     \u001b[0;32mif\u001b[0m \u001b[0maverage\u001b[0m \u001b[0;34m==\u001b[0m \u001b[0;34m'binary'\u001b[0m\u001b[0;34m:\u001b[0m\u001b[0;34m\u001b[0m\u001b[0;34m\u001b[0m\u001b[0m\n",
      "\u001b[0;32m/opt/anaconda3/envs/nf/lib/python3.6/site-packages/sklearn/metrics/_classification.py\u001b[0m in \u001b[0;36m_check_targets\u001b[0;34m(y_true, y_pred)\u001b[0m\n\u001b[1;32m     79\u001b[0m     \"\"\"\n\u001b[1;32m     80\u001b[0m     \u001b[0mcheck_consistent_length\u001b[0m\u001b[0;34m(\u001b[0m\u001b[0my_true\u001b[0m\u001b[0;34m,\u001b[0m \u001b[0my_pred\u001b[0m\u001b[0;34m)\u001b[0m\u001b[0;34m\u001b[0m\u001b[0;34m\u001b[0m\u001b[0m\n\u001b[0;32m---> 81\u001b[0;31m     \u001b[0mtype_true\u001b[0m \u001b[0;34m=\u001b[0m \u001b[0mtype_of_target\u001b[0m\u001b[0;34m(\u001b[0m\u001b[0my_true\u001b[0m\u001b[0;34m)\u001b[0m\u001b[0;34m\u001b[0m\u001b[0;34m\u001b[0m\u001b[0m\n\u001b[0m\u001b[1;32m     82\u001b[0m     \u001b[0mtype_pred\u001b[0m \u001b[0;34m=\u001b[0m \u001b[0mtype_of_target\u001b[0m\u001b[0;34m(\u001b[0m\u001b[0my_pred\u001b[0m\u001b[0;34m)\u001b[0m\u001b[0;34m\u001b[0m\u001b[0;34m\u001b[0m\u001b[0m\n\u001b[1;32m     83\u001b[0m \u001b[0;34m\u001b[0m\u001b[0m\n",
      "\u001b[0;32m/opt/anaconda3/envs/nf/lib/python3.6/site-packages/sklearn/utils/multiclass.py\u001b[0m in \u001b[0;36mtype_of_target\u001b[0;34m(y)\u001b[0m\n\u001b[1;32m    267\u001b[0m \u001b[0;34m\u001b[0m\u001b[0m\n\u001b[1;32m    268\u001b[0m     \u001b[0;31m# Invalid inputs\u001b[0m\u001b[0;34m\u001b[0m\u001b[0;34m\u001b[0m\u001b[0;34m\u001b[0m\u001b[0m\n\u001b[0;32m--> 269\u001b[0;31m     if y.ndim > 2 or (y.dtype == object and len(y) and\n\u001b[0m\u001b[1;32m    270\u001b[0m                       not isinstance(y.flat[0], str)):\n\u001b[1;32m    271\u001b[0m         \u001b[0;32mreturn\u001b[0m \u001b[0;34m'unknown'\u001b[0m  \u001b[0;31m# [[[1, 2]]] or [obj_1] and not [\"label_1\"]\u001b[0m\u001b[0;34m\u001b[0m\u001b[0;34m\u001b[0m\u001b[0m\n",
      "\u001b[0;31mTypeError\u001b[0m: len() of unsized object"
     ]
    }
   ],
   "source": [
    "# Define our search space for grid search\n",
    "params_xgb_clf = [\n",
    "  {\n",
    "    'xgb_clf__n_estimators': [50, 100, 150, 200],\n",
    "    'xgb_clf__learning_rate': [0.01, 0.1, 0.2, 0.3],\n",
    "    'xgb_clf__max_depth': range(3, 10),\n",
    "    'xgb_clf__colsample_bytree': [i/10.0 for i in range(1, 3)],\n",
    "    'xgb_clf__gamma': [i/10.0 for i in range(3)],\n",
    "    'fs__score_func': [f1_score],\n",
    "    'fs__k': [10],\n",
    "  }\n",
    "]\n",
    "# Define cross validation\n",
    "kfold = KFold(n_splits=10, shuffle=True, random_state=random_state)\n",
    "# AUC and accuracy as score\n",
    "#scoring = {'AUC':'roc_auc', 'Accuracy':make_scorer(accuracy_score)}\n",
    "# Define grid search\n",
    "grid_xgb_clf = GridSearchCV(\n",
    "  pipeline_xgb_clf,\n",
    "  param_grid=params_xgb_clf,\n",
    "  cv=kfold,\n",
    "  scoring=scoring,\n",
    "  refit='AUC',\n",
    "  verbose=2,\n",
    "  n_jobs=-1\n",
    ")\n",
    "# Fit grid search\n",
    "xgb_clf = grid_xgb_clf.fit(X_train, y_train)"
   ]
  },
  {
   "cell_type": "code",
   "execution_count": null,
   "metadata": {},
   "outputs": [],
   "source": [
    "print(xgb_clf.best_params_)"
   ]
  },
  {
   "cell_type": "code",
   "execution_count": null,
   "metadata": {
    "code_folding": [
     0
    ]
   },
   "outputs": [],
   "source": [
    "# Predict values\n",
    "y_pred_xgb_clf = xgb_clf.predict(X_test)\n",
    "print('Best AUC Score: {}'.format(xgb_clf.best_score_))\n",
    "print('Accuracy: {}'.format(accuracy_score(y_test, y_pred_xgb_clf)))\n",
    "print(confusion_matrix(y_test,y_pred_xgb_clf))"
   ]
  },
  {
   "cell_type": "markdown",
   "metadata": {},
   "source": [
    "## Ensemble Test Multiple Models"
   ]
  },
  {
   "cell_type": "code",
   "execution_count": 1845,
   "metadata": {},
   "outputs": [
    {
     "name": "stdout",
     "output_type": "stream",
     "text": [
      "You are currently working with the reduced dataset\n"
     ]
    }
   ],
   "source": [
    "# Select dataset (\"full\", \"balanced\", \"reduced\") - SELECT BEFORE RUNNING MODEL\n",
    "dataset = \"reduced\"\n",
    "X_train, X_test, y_train, y_test, X_train_prep, X_test_prep = select_dataset_clf(dataset)"
   ]
  },
  {
   "cell_type": "markdown",
   "metadata": {},
   "source": [
    "**Apply Ensemble**"
   ]
  },
  {
   "cell_type": "code",
   "execution_count": 1846,
   "metadata": {
    "code_folding": []
   },
   "outputs": [
    {
     "name": "stdout",
     "output_type": "stream",
     "text": [
      "KNeighborsClassifier(algorithm='auto', leaf_size=30, metric='minkowski',\n",
      "                     metric_params=None, n_jobs=None, n_neighbors=3, p=2,\n",
      "                     weights='uniform')\n",
      "model score: 0.747\n",
      "Accuracy: 0.75\n",
      "Recall: 0.78\n",
      "Precision: 0.92\n",
      "F1 Score: 0.84\n",
      "Confusion Matrix: \n",
      "[[ 2050  1657]\n",
      " [ 5439 18912]]\n",
      "\n",
      "\n",
      "SVC(C=0.025, break_ties=False, cache_size=200, class_weight=None, coef0=0.0,\n",
      "    decision_function_shape='ovr', degree=3, gamma='scale', kernel='rbf',\n",
      "    max_iter=-1, probability=True, random_state=None, shrinking=True, tol=0.001,\n",
      "    verbose=False)\n",
      "model score: 0.823\n",
      "Accuracy: 0.82\n",
      "Recall: 0.87\n",
      "Precision: 0.93\n",
      "F1 Score: 0.89\n",
      "Confusion Matrix: \n",
      "[[ 2009  1698]\n",
      " [ 3265 21086]]\n",
      "\n",
      "\n",
      "DecisionTreeClassifier(ccp_alpha=0.0, class_weight=None, criterion='gini',\n",
      "                       max_depth=None, max_features=None, max_leaf_nodes=None,\n",
      "                       min_impurity_decrease=0.0, min_impurity_split=None,\n",
      "                       min_samples_leaf=1, min_samples_split=2,\n",
      "                       min_weight_fraction_leaf=0.0, presort='deprecated',\n",
      "                       random_state=None, splitter='best')\n",
      "model score: 0.766\n",
      "Accuracy: 0.77\n",
      "Recall: 0.81\n",
      "Precision: 0.91\n",
      "F1 Score: 0.86\n",
      "Confusion Matrix: \n",
      "[[ 1725  1982]\n",
      " [ 4571 19780]]\n",
      "\n",
      "\n",
      "RandomForestClassifier(bootstrap=True, ccp_alpha=0.0, class_weight=None,\n",
      "                       criterion='gini', max_depth=None, max_features='auto',\n",
      "                       max_leaf_nodes=None, max_samples=None,\n",
      "                       min_impurity_decrease=0.0, min_impurity_split=None,\n",
      "                       min_samples_leaf=1, min_samples_split=2,\n",
      "                       min_weight_fraction_leaf=0.0, n_estimators=100,\n",
      "                       n_jobs=None, oob_score=False, random_state=None,\n",
      "                       verbose=0, warm_start=False)\n",
      "model score: 0.816\n",
      "Accuracy: 0.82\n",
      "Recall: 0.87\n",
      "Precision: 0.92\n",
      "F1 Score: 0.89\n",
      "Confusion Matrix: \n",
      "[[ 1805  1902]\n",
      " [ 3268 21083]]\n",
      "\n",
      "\n",
      "AdaBoostClassifier(algorithm='SAMME.R', base_estimator=None, learning_rate=1.0,\n",
      "                   n_estimators=50, random_state=None)\n",
      "model score: 0.796\n",
      "Accuracy: 0.80\n",
      "Recall: 0.82\n",
      "Precision: 0.93\n",
      "F1 Score: 0.87\n",
      "Confusion Matrix: \n",
      "[[ 2314  1393]\n",
      " [ 4333 20018]]\n",
      "\n",
      "\n",
      "GradientBoostingClassifier(ccp_alpha=0.0, criterion='friedman_mse', init=None,\n",
      "                           learning_rate=0.1, loss='deviance', max_depth=3,\n",
      "                           max_features=None, max_leaf_nodes=None,\n",
      "                           min_impurity_decrease=0.0, min_impurity_split=None,\n",
      "                           min_samples_leaf=1, min_samples_split=2,\n",
      "                           min_weight_fraction_leaf=0.0, n_estimators=100,\n",
      "                           n_iter_no_change=None, presort='deprecated',\n",
      "                           random_state=None, subsample=1.0, tol=0.0001,\n",
      "                           validation_fraction=0.1, verbose=0,\n",
      "                           warm_start=False)\n",
      "model score: 0.812\n",
      "Accuracy: 0.81\n",
      "Recall: 0.84\n",
      "Precision: 0.94\n",
      "F1 Score: 0.89\n",
      "Confusion Matrix: \n",
      "[[ 2311  1396]\n",
      " [ 3889 20462]]\n",
      "\n",
      "\n",
      "XGBClassifier(base_score=0.5, booster='gbtree', colsample_bylevel=1,\n",
      "              colsample_bynode=1, colsample_bytree=1, gamma=0,\n",
      "              learning_rate=0.1, max_delta_step=0, max_depth=3,\n",
      "              min_child_weight=1, missing=None, n_estimators=100, n_jobs=1,\n",
      "              nthread=None, objective='binary:logistic', random_state=0,\n",
      "              reg_alpha=0, reg_lambda=1, scale_pos_weight=1, seed=None,\n",
      "              silent=None, subsample=1, verbosity=1)\n",
      "model score: 0.810\n",
      "Accuracy: 0.81\n",
      "Recall: 0.84\n",
      "Precision: 0.94\n",
      "F1 Score: 0.88\n",
      "Confusion Matrix: \n",
      "[[ 2318  1389]\n",
      " [ 3937 20414]]\n",
      "\n",
      "\n"
     ]
    }
   ],
   "source": [
    "# Define classifiers and run code\n",
    "classifiers = [\n",
    "    KNeighborsClassifier(3),\n",
    "    SVC(kernel=\"rbf\", C=0.025, probability=True),\n",
    "    #NuSVC(probability=True),\n",
    "    DecisionTreeClassifier(),\n",
    "    RandomForestClassifier(),\n",
    "    AdaBoostClassifier(),\n",
    "    GradientBoostingClassifier(),\n",
    "    XGBClassifier()\n",
    "    ]\n",
    "for classifier in classifiers:\n",
    "    pipe = Pipeline(steps=[('preprocessor', preprocessor),\n",
    "                      ('classifier', classifier)])\n",
    "    pipe.fit(X_train, y_train)   \n",
    "    print(classifier)\n",
    "    print(\"model score: %.3f\" % pipe.score(X_test, y_test))\n",
    "    y_pred_pipe = pipe.predict(X_test)\n",
    "    print(\"Accuracy: {:.2f}\".format(accuracy_score(y_test, y_pred_pipe)))\n",
    "    print(\"Recall: {:.2f}\".format(recall_score(y_test, y_pred_pipe)))\n",
    "    print(\"Precision: {:.2f}\".format(precision_score(y_test, y_pred_pipe)))\n",
    "    print(\"F1 Score: {:.2f}\".format(f1_score(y_test, y_pred_pipe)))\n",
    "    print(\"Confusion Matrix: \\n\" + str(confusion_matrix(y_test, y_pred_pipe)))\n",
    "    print(\"\\n\")"
   ]
  },
  {
   "cell_type": "markdown",
   "metadata": {},
   "source": [
    "## Optimization: RandomizedSearchCV (alt. to GridSearchCV), here: Random Forest"
   ]
  },
  {
   "cell_type": "code",
   "execution_count": null,
   "metadata": {
    "code_folding": [
     0
    ]
   },
   "outputs": [],
   "source": [
    "# Fit optimized RandomForestClassifier\n",
    "\n",
    "# Hyperparameter grid\n",
    "param_grid = {\n",
    "    'n_estimators': np.linspace(10, 200).astype(int),\n",
    "    'max_depth': [None] + list(np.linspace(3, 20).astype(int)),\n",
    "    'max_features': ['auto', 'sqrt', None] + list(np.arange(0.5, 1, 0.1)),\n",
    "    'max_leaf_nodes': [None] + list(np.linspace(10, 50, 500).astype(int)),\n",
    "    'min_samples_split': [2, 5, 10],\n",
    "    'bootstrap': [True, False]\n",
    "}\n",
    "\n",
    "# Estimator for use in random search\n",
    "estimator = RandomForestClassifier(random_state=random_state)\n",
    "\n",
    "# Create the random search model\n",
    "rs_rf_clf = RandomizedSearchCV(estimator, param_grid, n_jobs = -1, \n",
    "                        scoring = 'roc_auc', cv = 3, \n",
    "                        n_iter = 10, verbose = 1, random_state=random_state)\n",
    "\n",
    "# Fit \n",
    "rs_rf_clf.fit(X_train, y_train)"
   ]
  },
  {
   "cell_type": "code",
   "execution_count": null,
   "metadata": {
    "code_folding": [
     0
    ]
   },
   "outputs": [],
   "source": [
    "# Display best parameters\n",
    "rs_rf_clf.best_params_"
   ]
  },
  {
   "cell_type": "code",
   "execution_count": null,
   "metadata": {
    "code_folding": [
     0
    ]
   },
   "outputs": [],
   "source": [
    "# Use best model for predictions\n",
    "best_model = rs.best_estimator_\n",
    "\n",
    "y_train_pred = best_model.predict(train)\n",
    "y_train_proba = best_model.predict_proba(train)[:, 1]\n",
    "\n",
    "y_test_pred = best_model.predict(test)\n",
    "y_test_proba = best_model.predict_proba(test)[:, 1]"
   ]
  },
  {
   "cell_type": "markdown",
   "metadata": {},
   "source": [
    "## Optimization: Training and Predicting Pipeline"
   ]
  },
  {
   "cell_type": "code",
   "execution_count": null,
   "metadata": {
    "code_folding": [
     0
    ]
   },
   "outputs": [],
   "source": [
    "# Define function for train_predict\n",
    "def train_predict(learner, sample_size, X_train, y_train, X_test, y_test): \n",
    "    '''\n",
    "    inputs:\n",
    "       - learner: the learning algorithm/classifier to be trained and predicted on\n",
    "       - sample_size: the size of samples (number) to be drawn from training set\n",
    "       - X_train: features training set\n",
    "       - y_train: income training set\n",
    "       - X_test: features testing set\n",
    "       - y_test: income testing set\n",
    "    '''\n",
    "    \n",
    "    results = {}\n",
    "    \n",
    "    # TODO: Fit the learner to the training data using slicing with 'sample_size'\n",
    "    start = time() # Get start time\n",
    "    learner = learner.fit(X_train[:sample_size],y_train[:sample_size])\n",
    "    end = time() # Get end time\n",
    "    \n",
    "    # TODO: Calculate the training time\n",
    "    results['train_time'] = end - start\n",
    "        \n",
    "    # TODO: Get the predictions on the test set,\n",
    "    #       then get predictions on the first 300 training samples\n",
    "    start = time() # Get start time\n",
    "    predictions_test = learner.predict(X_test)\n",
    "    predictions_train = learner.predict(X_train[:300])\n",
    "    end = time() # Get end time\n",
    "    \n",
    "    # TODO: Calculate the total prediction time\n",
    "    results['pred_time'] = end - start\n",
    "            \n",
    "    # TODO: Compute accuracy on the first 300 training samples\n",
    "    results['acc_train'] = accuracy_score(y_train[:300],predictions_train)\n",
    "        \n",
    "    # TODO: Compute accuracy on test set\n",
    "    results['acc_test'] = accuracy_score(y_test,predictions_test)\n",
    "    \n",
    "    # TODO: Compute F-score on the the first 300 training samples\n",
    "    results['f_train'] = fbeta_score(y_train[:300],predictions_train,0.5)\n",
    "        \n",
    "    # TODO: Compute F-score on the test set\n",
    "    results['f_test'] = fbeta_score(y_test,predictions_test,0.5)\n",
    "       \n",
    "    # Success\n",
    "    print (\"{} trained on {} samples.\".format(learner.__class__.__name__, sample_size))\n",
    "        \n",
    "    # Return the results\n",
    "    return results"
   ]
  },
  {
   "cell_type": "code",
   "execution_count": null,
   "metadata": {
    "code_folding": []
   },
   "outputs": [],
   "source": [
    "# Set classifiers (if applicable)\n",
    "clf_A = DecisionTreeClassifier(random_state=101)\n",
    "clf_B = SVC(random_state = 101)\n",
    "clf_C = AdaBoostClassifier(random_state = 101)"
   ]
  },
  {
   "cell_type": "code",
   "execution_count": null,
   "metadata": {
    "code_folding": []
   },
   "outputs": [],
   "source": [
    "# Set sample sizes\n",
    "samples_1 = int(round(len(X_train) / 100))\n",
    "samples_10 = int(round(len(X_train) / 10))\n",
    "samples_100 = len(X_train)"
   ]
  },
  {
   "cell_type": "code",
   "execution_count": null,
   "metadata": {
    "code_folding": []
   },
   "outputs": [],
   "source": [
    "# Collect results for various sample sizes\n",
    "results = {}\n",
    "for clf in [clf_A, clf_B, clf_C]: # Define which classifiers shall be used\n",
    "    clf_name = clf.__class__.__name__\n",
    "    results[clf_name] = {}\n",
    "    for i, samples in enumerate([samples_1, samples_10, samples_100]):\n",
    "        results[clf_name][i] = \\\n",
    "        train_predict(clf, samples, X_train, y_train, X_test, y_test)"
   ]
  },
  {
   "cell_type": "markdown",
   "metadata": {},
   "source": [
    "# Predictive Modeling: Regression (\"usd_pledged\")\n",
    "Purpose: Train machine learning models (supervised learning), evaluate their performance and use them to make predictions"
   ]
  },
  {
   "cell_type": "code",
   "execution_count": null,
   "metadata": {
    "code_folding": []
   },
   "outputs": [],
   "source": [
    "# Import libraries\n",
    "from scipy.sparse import csr_matrix\n",
    "from sklearn.neighbors import KNeighborsRegressor\n",
    "from sklearn.linear_model import RANSACRegressor"
   ]
  },
  {
   "cell_type": "markdown",
   "metadata": {},
   "source": [
    "## Train/test split and preprocessing pipeline"
   ]
  },
  {
   "cell_type": "markdown",
   "metadata": {},
   "source": [
    "**Train/test split regression (\"usd_pledged_log\")**"
   ]
  },
  {
   "cell_type": "code",
   "execution_count": 230,
   "metadata": {
    "code_folding": [
     0
    ]
   },
   "outputs": [],
   "source": [
    "# Define predictors and target variable\n",
    "X_reg = data_reg.drop([\"usd_pledged_log\"], axis=1)\n",
    "y_reg = data_reg[\"usd_pledged_log\"]"
   ]
  },
  {
   "cell_type": "code",
   "execution_count": 365,
   "metadata": {
    "code_folding": [
     0
    ]
   },
   "outputs": [],
   "source": [
    "# Split data into training and testing sets\n",
    "X_reg_train, X_reg_test, y_reg_train, y_reg_test = train_test_split(X_reg,y_reg,test_size=test_size,\n",
    "                                                        random_state=random_state,\n",
    "                                                        shuffle=True) # Use stratify=Y if labels are inbalanced (e.g. most wines are 5 or 6; check with value_counts()!)"
   ]
  },
  {
   "cell_type": "markdown",
   "metadata": {},
   "source": [
    "**Pipeline for imputing and scaling numerical and categorical features (regression)**"
   ]
  },
  {
   "cell_type": "code",
   "execution_count": 237,
   "metadata": {
    "code_folding": [
     0
    ]
   },
   "outputs": [
    {
     "data": {
      "text/plain": [
       "['category_sub', 'country']"
      ]
     },
     "execution_count": 237,
     "metadata": {},
     "output_type": "execute_result"
    }
   ],
   "source": [
    "# Creating list for categorical predictors/features (used in \"Scaling with Preprocessing Pipeline\") \n",
    "cat_features_reg = list(data_reg.columns[data_reg.dtypes==object])\n",
    "cat_features_reg"
   ]
  },
  {
   "cell_type": "code",
   "execution_count": 238,
   "metadata": {
    "code_folding": [
     0
    ]
   },
   "outputs": [
    {
     "data": {
      "text/plain": [
       "['campaign_days',\n",
       " 'launched_at_cont',\n",
       " 'staff_pick',\n",
       " 'state',\n",
       " 'usd_pledged_avg',\n",
       " 'creator_project_no']"
      ]
     },
     "execution_count": 238,
     "metadata": {},
     "output_type": "execute_result"
    }
   ],
   "source": [
    "# Creating list for numerical predictors/features (removing target column, used in \"Scaling with Preprocessing Pipeline\")\n",
    "num_features_reg = list(data_reg.columns[data_reg.dtypes!=object])\n",
    "num_features_reg.remove('usd_pledged_log')\n",
    "num_features_reg"
   ]
  },
  {
   "cell_type": "code",
   "execution_count": 239,
   "metadata": {
    "code_folding": [
     0
    ]
   },
   "outputs": [],
   "source": [
    "# Pipeline using Pipeline\n",
    "# Pipeline for numerical features\n",
    "num_pipeline_reg = Pipeline([\n",
    "    ('imputer_num', SimpleImputer(strategy='median')),\n",
    "    ('std_scaler', StandardScaler())\n",
    "])\n",
    "\n",
    "# Pipeline for categorical features \n",
    "cat_pipeline_reg = Pipeline([\n",
    "    ('imputer_cat', SimpleImputer(strategy='constant', fill_value='missing')),\n",
    "    ('1hot', OneHotEncoder(handle_unknown='ignore'))\n",
    "])\n",
    "\n",
    "# Complete pipeline\n",
    "preprocessor_reg = ColumnTransformer([\n",
    "    ('num', num_pipeline_reg, num_features_reg),\n",
    "    ('cat', cat_pipeline_reg, cat_features_reg)\n",
    "])"
   ]
  },
  {
   "cell_type": "code",
   "execution_count": 450,
   "metadata": {
    "code_folding": []
   },
   "outputs": [],
   "source": [
    "# Saving preprocessed X_reg_train and X_reg_test\n",
    "X_reg_train_prep = preprocessor_reg.fit_transform(X_reg_train)\n",
    "X_reg_test_prep = preprocessor_reg.transform(X_reg_test)"
   ]
  },
  {
   "cell_type": "markdown",
   "metadata": {},
   "source": [
    "## Linear regression (OLS)"
   ]
  },
  {
   "cell_type": "markdown",
   "metadata": {},
   "source": [
    "**Apply linear regression**"
   ]
  },
  {
   "cell_type": "code",
   "execution_count": null,
   "metadata": {
    "code_folding": []
   },
   "outputs": [],
   "source": [
    "X_reg_train_prep2 = X_reg_train_prep.toarray()\n",
    "X_reg_train_prep2 = sm.add_constant(X_reg_train_prep2)"
   ]
  },
  {
   "cell_type": "code",
   "execution_count": null,
   "metadata": {},
   "outputs": [],
   "source": [
    "y_reg_train2 = np.asarray(y_reg_train)"
   ]
  },
  {
   "cell_type": "code",
   "execution_count": null,
   "metadata": {
    "scrolled": true
   },
   "outputs": [],
   "source": [
    "reg_ols = sm.OLS(y_reg_train2, X_reg_train_prep2).fit()"
   ]
  },
  {
   "cell_type": "code",
   "execution_count": null,
   "metadata": {},
   "outputs": [],
   "source": [
    "reg_ols.summary()"
   ]
  },
  {
   "cell_type": "markdown",
   "metadata": {},
   "source": [
    "## Linear regression (Scikit Learn)"
   ]
  },
  {
   "cell_type": "markdown",
   "metadata": {},
   "source": [
    "**Apply linear regression**"
   ]
  },
  {
   "cell_type": "code",
   "execution_count": null,
   "metadata": {
    "code_folding": [
     0
    ],
    "scrolled": true
   },
   "outputs": [],
   "source": [
    "# Initiate and fit model\n",
    "reg_lr = LinearRegression()\n",
    "reg_lr.fit(X_reg_train_prep, y_reg_train)"
   ]
  },
  {
   "cell_type": "code",
   "execution_count": null,
   "metadata": {
    "code_folding": [
     0
    ]
   },
   "outputs": [],
   "source": [
    "# Predict target\n",
    "y_pred_reg_lr = reg_lr.predict(X_reg_test_prep)"
   ]
  },
  {
   "cell_type": "code",
   "execution_count": null,
   "metadata": {
    "code_folding": [
     0
    ]
   },
   "outputs": [],
   "source": [
    "# Plot errors\n",
    "plt.scatter(y_reg_test, y_pred_reg_lr)\n",
    "plt.xlabel('Y Test')\n",
    "plt.ylabel('Predicted Y')\n",
    "print('MAE:', metrics.mean_absolute_error(y_reg_test, y_pred_reg_lr))\n",
    "print('MSE:', metrics.mean_squared_error(y_reg_test, y_pred_reg_lr))\n",
    "print('RMSE:', np.sqrt(metrics.mean_squared_error(y_reg_test, y_pred_reg_lr)))\n",
    "print(r2_score(y_reg_test, y_pred_reg_lr))"
   ]
  },
  {
   "cell_type": "markdown",
   "metadata": {},
   "source": [
    "**Final evaluation**"
   ]
  },
  {
   "cell_type": "code",
   "execution_count": null,
   "metadata": {
    "code_folding": [
     0
    ]
   },
   "outputs": [],
   "source": [
    "# Transform predictions to real values (exp)\n",
    "reg_lr_pred = pd.DataFrame({'actual': y_reg_test, 'predicted': y_pred_reg_lr})\n",
    "reg_lr_pred.actual = [math.exp(el) for el in reg_lr_pred.actual]\n",
    "reg_lr_pred.predicted = [math.exp(el) for el in reg_lr_pred.predicted]\n",
    "reg_lr_pred.head(5)"
   ]
  },
  {
   "cell_type": "code",
   "execution_count": null,
   "metadata": {
    "code_folding": [
     0
    ],
    "scrolled": true
   },
   "outputs": [],
   "source": [
    "# Plot real values\n",
    "reg_lr_pred2 = reg_lr_pred.head(25)\n",
    "reg_lr_pred2.plot(kind='bar',figsize=(10,8))\n",
    "plt.grid(which='major', linestyle='-', linewidth='0.5', color='green')\n",
    "plt.grid(which='minor', linestyle=':', linewidth='0.5', color='black')\n",
    "plt.show()"
   ]
  },
  {
   "cell_type": "markdown",
   "metadata": {},
   "source": [
    "## KNeighborsRegression"
   ]
  },
  {
   "cell_type": "markdown",
   "metadata": {},
   "source": [
    "**Apply KNeighbors Regression**"
   ]
  },
  {
   "cell_type": "code",
   "execution_count": null,
   "metadata": {
    "code_folding": [
     0
    ]
   },
   "outputs": [],
   "source": [
    "# Initiate and fit model\n",
    "reg_knr = KNeighborsRegressor()\n",
    "reg_knr.fit(X_reg_train_prep, y_reg_train)"
   ]
  },
  {
   "cell_type": "code",
   "execution_count": null,
   "metadata": {
    "code_folding": [
     0
    ]
   },
   "outputs": [],
   "source": [
    "# Predict target\n",
    "y_pred_reg_knr = reg_knr.predict(X_reg_test_prep)"
   ]
  },
  {
   "cell_type": "code",
   "execution_count": null,
   "metadata": {
    "code_folding": [
     0
    ]
   },
   "outputs": [],
   "source": [
    "# Plot errors\n",
    "plt.scatter(y_reg_test, y_pred_reg_knr)\n",
    "plt.xlabel('Y Test')\n",
    "plt.ylabel('Predicted Y')\n",
    "print('MAE:', metrics.mean_absolute_error(y_reg_test, y_pred_reg_knr))\n",
    "print('MSE:', metrics.mean_squared_error(y_reg_test, y_pred_reg_knr))\n",
    "print('RMSE:', np.sqrt(metrics.mean_squared_error(y_reg_test, y_pred_reg_knr)))\n",
    "print(r2_score(y_reg_test, y_pred_reg_knr))"
   ]
  },
  {
   "cell_type": "markdown",
   "metadata": {},
   "source": [
    "**Final Evaluation**"
   ]
  },
  {
   "cell_type": "code",
   "execution_count": null,
   "metadata": {
    "code_folding": [
     0
    ]
   },
   "outputs": [],
   "source": [
    "# Transform predictions to real values (exp)\n",
    "reg_knr_pred = pd.DataFrame({'actual': y_reg_test, 'predicted': y_pred_reg_knr})\n",
    "reg_knr_pred.actual = [math.exp(el) for el in reg_knr_pred.actual]\n",
    "reg_knr_pred.predicted = [math.exp(el) for el in reg_knr_pred.predicted]\n",
    "reg_knr_pred.head(5)"
   ]
  },
  {
   "cell_type": "code",
   "execution_count": null,
   "metadata": {
    "code_folding": [
     0
    ]
   },
   "outputs": [],
   "source": [
    "# Plot real values\n",
    "reg_knr_pred2 = reg_knr_pred.head(25)\n",
    "reg_knr_pred2.plot(kind='bar',figsize=(10,8))\n",
    "plt.grid(which='major', linestyle='-', linewidth='0.5', color='green')\n",
    "plt.grid(which='minor', linestyle=':', linewidth='0.5', color='black')\n",
    "plt.show()"
   ]
  },
  {
   "cell_type": "markdown",
   "metadata": {},
   "source": [
    "## RANSACRegressor"
   ]
  },
  {
   "cell_type": "markdown",
   "metadata": {},
   "source": [
    "**Apply RANSAC Regression**"
   ]
  },
  {
   "cell_type": "code",
   "execution_count": null,
   "metadata": {
    "code_folding": [
     0
    ]
   },
   "outputs": [],
   "source": [
    "# Initiate and fit model\n",
    "reg_rr = RANSACRegressor()\n",
    "reg_rr.fit(X_reg_train_prep, y_reg_train)"
   ]
  },
  {
   "cell_type": "code",
   "execution_count": null,
   "metadata": {
    "code_folding": [
     0
    ]
   },
   "outputs": [],
   "source": [
    "# Predict target\n",
    "y_pred_reg_rr = reg_rr.predict(X_reg_test_prep)"
   ]
  },
  {
   "cell_type": "code",
   "execution_count": null,
   "metadata": {
    "code_folding": [
     0
    ]
   },
   "outputs": [],
   "source": [
    "# Plot errors\n",
    "plt.scatter(y_reg_test, y_pred_reg_rr)\n",
    "plt.xlabel('Y Test')\n",
    "plt.ylabel('Predicted Y')\n",
    "print('MAE:', metrics.mean_absolute_error(y_reg_test, y_pred_reg_rr))\n",
    "print('MSE:', metrics.mean_squared_error(y_reg_test, y_pred_reg_rr))\n",
    "print('RMSE:', np.sqrt(metrics.mean_squared_error(y_reg_test, y_pred_reg_rr)))\n",
    "print(r2_score(y_reg_test, y_pred_reg_rr))"
   ]
  },
  {
   "cell_type": "markdown",
   "metadata": {},
   "source": [
    "**Final Evaluation**"
   ]
  },
  {
   "cell_type": "code",
   "execution_count": null,
   "metadata": {
    "code_folding": [
     0
    ]
   },
   "outputs": [],
   "source": [
    "# Transform predictions to real values (exp)\n",
    "reg_rr_pred = pd.DataFrame({'actual': y_reg_test, 'predicted': y_pred_reg_rr})\n",
    "reg_rr_pred.actual = [math.exp(el) for el in reg_rr_pred.actual]\n",
    "reg_rr_pred.predicted = [math.exp(el) for el in reg_rr_pred.predicted]\n",
    "reg_rr_pred.head(5)"
   ]
  },
  {
   "cell_type": "code",
   "execution_count": null,
   "metadata": {
    "code_folding": [
     0
    ]
   },
   "outputs": [],
   "source": [
    "# Plot real values\n",
    "reg_rr_pred2 = reg_rr_pred.head(25)\n",
    "reg_rr_pred2.plot(kind='bar',figsize=(10,8))\n",
    "plt.grid(which='major', linestyle='-', linewidth='0.5', color='green')\n",
    "plt.grid(which='minor', linestyle=':', linewidth='0.5', color='black')\n",
    "plt.show()"
   ]
  },
  {
   "cell_type": "markdown",
   "metadata": {},
   "source": [
    "# Data Visualization\n",
    "Purpose: Communicate the findings with key stakeholders using plots and interactive visualizations\n",
    "\n",
    "Please refer to pdf in repository visualizing the results and potential implementation"
   ]
  },
  {
   "cell_type": "markdown",
   "metadata": {},
   "source": [
    "# Findings and Recommendations\n",
    "Purpose: Summarize the key outcomes and findings of this project"
   ]
  },
  {
   "cell_type": "markdown",
   "metadata": {},
   "source": [
    "## Raw results"
   ]
  },
  {
   "cell_type": "markdown",
   "metadata": {},
   "source": [
    "**LogReg (metric: “f1”)**:\n",
    "\n",
    "***Full***: {'logreg__C': 0.5, 'logreg__class_weight': {0: 0.5, 1: 0.5}, 'logreg__penalty': 'l2'}\n",
    "\n",
    "[[  678  3029]\n",
    "\n",
    " [  498 23853]]\n",
    "\n",
    "\n",
    "***Balanced***: {'logreg__C': 0.1, 'logreg__class_weight': {0: 0.5, 1: 0.5}, 'logreg__penalty': 'l2'}\n",
    "\n",
    "[[ 2142  1565]\n",
    "\n",
    " [ 3676 20675]]\n",
    "\n",
    "\n",
    "***Reduced (f1: 0.89)***: {'logreg__C': 1, 'logreg__class_weight': {0: 0.5, 1: 0.5}, 'logreg__penalty': 'l2'}\n",
    "\n",
    "[[ 2126  1581]\n",
    "\n",
    " [ 3662 20689]]\n",
    "\n",
    "\n",
    "\n",
    "**KNeighborsClassifier (metric: \"f1\")**:\n",
    "\n",
    "***Full***:\n",
    "\n",
    "***Balanced***:\n",
    "\n",
    "***Reduced (f1: 0.86)***: {'knn__leaf_size': 1, 'knn__n_neighbors': 1}\n",
    "\n",
    "[[ 1715  1992]\n",
    "\n",
    " [ 4421 19930]]\n",
    "\n",
    "\n",
    "\n",
    "**Random Forest Classifier (metric: \"f1\")**:\n",
    "\n",
    "***Full***:\n",
    "\n",
    "***Balanced***:\n",
    "\n",
    "***Reduced (f1: 0.90)***: {'rf_clf__bootstrap': False, 'rf_clf__max_depth': None, 'rf_clf__max_features': 'auto', 'rf_clf__min_samples_leaf': 1, 'rf_clf__min_samples_split': 5, 'rf_clf__n_estimators': 200}\n",
    "\n",
    "[[ 1666  2041]\n",
    "\n",
    " [ 2888 21463]]\n",
    "\n",
    "\n",
    "\n",
    "**Support Vector Classifier (metric: \"f1\")**: {'svc__C': 2000, 'svc__gamma': 1, 'svc__kernel': 'rbf'}\n",
    "\n",
    "***Full***:\n",
    "\n",
    "***Balanced***:\n",
    "\n",
    "***Reduced (f1: 0.86)***:\n",
    "\n",
    "[[ 1655  2052]\n",
    "\n",
    " [ 4477 19874]]\n",
    "\n",
    "\n",
    "**XGBoost (metric: \"f1\")**:\n",
    "\n",
    "***Full***:\n",
    "\n",
    "***Balanced***:\n",
    "\n",
    "***Reduced***:\n",
    "\n"
   ]
  },
  {
   "cell_type": "markdown",
   "metadata": {},
   "source": [
    "## Findings"
   ]
  },
  {
   "cell_type": "markdown",
   "metadata": {},
   "source": [
    "- Based on testing with various predictive models, we can summarize that it is definitely **possible to correctly predict >75% of project outcomes**, over a broad range of scoring metrics\n",
    "- It is, however, not a trivial task to decide on the **most relevant scoring metric**\n",
    "- For the purpose of this exercise, and assuming that correctly predicting positive and negative outcomes are both relevant - with a slightly stronger emphasis on correctly predicting successful projects - for the final evaluation **f1 has been used as the scoring metric**\n",
    "- Based on f1, the **best model was established using Random Forest Classifier with a f1 score of 0.90**"
   ]
  },
  {
   "cell_type": "markdown",
   "metadata": {},
   "source": [
    "## Recommendations"
   ]
  },
  {
   "cell_type": "markdown",
   "metadata": {},
   "source": [
    "- We recommend Kickstarter to **implement a binary symbol/note (green/red)** during project creation, so that when entering a goal the user gets a hint whether the campaign is likely to succeed or fail\n",
    "- Furthermore we suggest diving deeper to **determine a predictive model for project goal (in USD)** in order to directly give a hint on a potentially suitable campaign goal"
   ]
  },
  {
   "cell_type": "markdown",
   "metadata": {},
   "source": [
    "# Future Work\n",
    "Purpose: Validate and extend findings of this project\n",
    "\n",
    "- Fix XGBoost and AdaBoost\n",
    "- Create additional meaningful and visually appealing Data Exploration plots\n",
    "- Include further variables (e.g. length of title, length of description, errors in description, ...)\n",
    "- Include further publicly available data (e.g. [Kaggle Competition](https://www.kaggle.com/kemical/kickstarter-projects))\n",
    "- Optimize Preprocessing (Train/Test Split and Pipeline --> position, redundancies, ...)\n",
    "- Analyze in more detail the reasons behind cases where converted_pledged_amount < goal but state == \"successful\" (exchange rates?)\n",
    "- Evaluate applicability of different scoring techniques (e.g. \"roc_auc\" yields very different results from \"f1\" --> which metric is more applicable depending on the business goal?)\n",
    "- Streamline pipelines / reduce redundancies in code"
   ]
  },
  {
   "cell_type": "markdown",
   "metadata": {},
   "source": [
    "# References and Useful Links/Blogs"
   ]
  },
  {
   "cell_type": "markdown",
   "metadata": {},
   "source": [
    "## References"
   ]
  },
  {
   "cell_type": "markdown",
   "metadata": {},
   "source": [
    "### Transformers and Pipelines"
   ]
  },
  {
   "cell_type": "markdown",
   "metadata": {},
   "source": [
    "Sometimes you might want to transform your features in a very specific way, which is not implemented in scikit-learn yet. In those cases you can create your very own custome transformers. In order to work seamlessly with everything scikit-learn provides you need to create a class and implement the three methods .fit(), .transform() and .fit_transform().\n",
    "Two useful base classes on which you can construct your personal transformer can be imported with the following command:"
   ]
  },
  {
   "cell_type": "code",
   "execution_count": null,
   "metadata": {},
   "outputs": [],
   "source": [
    "from sklearn.base import BaseEstimator, TransformerMixin"
   ]
  },
  {
   "cell_type": "markdown",
   "metadata": {},
   "source": [
    "If you want to learn more about building your own transformers or pipelines in general I would recommend to have a look at the following books:\n",
    "\n",
    "- Introduction to Machine Learning with Python by Müller and Guido (2017), Chapter 6\n",
    "- Hands-On Machine Learning with Scikit-Learn, Keras & TensorFlow by Geron (2019), Chapter 2"
   ]
  },
  {
   "cell_type": "markdown",
   "metadata": {},
   "source": [
    "## Useful Links/Blogs\n",
    "- [Data Preprocessing Concepts (Theory)](https://towardsdatascience.com/data-preprocessing-concepts-fa946d11c825)\n",
    "- [Data Preprocessing in Practice](https://towardsdatascience.com/data-preprocessing-in-python-b52b652e37d5)\n",
    "- [Data Preprocessing in Practice (2)](https://medium.com/analytics-vidhya/how-to-apply-preprocessing-steps-in-a-pipeline-only-to-specific-features-4e91fe45dfb8)\n",
    "- [Data Exploration (EDA)](https://towardsdatascience.com/an-extensive-guide-to-exploratory-data-analysis-ddd99a03199e)\n",
    "- [Feature Engineering](https://jakevdp.github.io/PythonDataScienceHandbook/05.04-feature-engineering.html)\n",
    "- [Pipeline in ML (SVM) with Scikit-learn: A Simple Example](https://towardsdatascience.com/a-simple-example-of-pipeline-in-machine-learning-with-scikit-learn-e726ffbb6976)\n",
    "- [Pipeline in ML (Decision Trees)](https://towardsdatascience.com/understanding-decision-tree-classification-with-scikit-learn-2ddf272731bd)\n",
    "- [Hyperparameters and Model Validation](https://jakevdp.github.io/PythonDataScienceHandbook/05.03-hyperparameters-and-model-validation.html)\n",
    "- [Hyperparameter Tuning (Focus Random Forest)](https://towardsdatascience.com/hyperparameter-tuning-the-random-forest-in-python-using-scikit-learn-28d2aa77dd74)\n",
    "- [Grid Search for Model Tuning](https://towardsdatascience.com/grid-search-for-model-tuning-3319b259367e)\n",
    "- [Model Selection for Regression Task: Choosing Scikit Learn LinReg Algorithm](https://towardsdatascience.com/choosing-a-scikit-learn-linear-regression-algorithm-dd96b48105f5)\n",
    "- [Using ML to predict Kickstarter success](https://towardsdatascience.com/using-machine-learning-to-predict-kickstarter-success-e371ab56a743)\n",
    "- [Ensemble Methods: Tuning an XGBoost Model](https://medium.com/@juniormiranda_23768/ensemble-methods-tuning-a-xgboost-model-with-scikit-learn-54ff669f988a)"
   ]
  },
  {
   "cell_type": "code",
   "execution_count": null,
   "metadata": {},
   "outputs": [],
   "source": []
  }
 ],
 "metadata": {
  "kernelspec": {
   "display_name": "Python [conda env:nf] *",
   "language": "python",
   "name": "conda-env-nf-py"
  },
  "language_info": {
   "codemirror_mode": {
    "name": "ipython",
    "version": 3
   },
   "file_extension": ".py",
   "mimetype": "text/x-python",
   "name": "python",
   "nbconvert_exporter": "python",
   "pygments_lexer": "ipython3",
   "version": "3.6.10"
  },
  "toc": {
   "base_numbering": 1,
   "nav_menu": {},
   "number_sections": true,
   "sideBar": true,
   "skip_h1_title": false,
   "title_cell": "Table of Contents",
   "title_sidebar": "Contents",
   "toc_cell": false,
   "toc_position": {
    "height": "calc(100% - 180px)",
    "left": "10px",
    "top": "150px",
    "width": "307.188px"
   },
   "toc_section_display": true,
   "toc_window_display": true
  }
 },
 "nbformat": 4,
 "nbformat_minor": 4
}
